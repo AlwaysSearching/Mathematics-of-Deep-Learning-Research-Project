{
 "cells": [
  {
   "cell_type": "code",
   "execution_count": 1,
   "id": "bizarre-seven",
   "metadata": {},
   "outputs": [],
   "source": [
    "import tensorflow as tf\n",
    "import matplotlib.pyplot as plt\n",
    "\n",
    "from models.conv_nets import make_convNet \n",
    "from utils.train_utils import train_conv_nets\n",
    "\n",
    "from utils.visualizations import plot_loss_from_file_convnets\n",
    "\n",
    "# keeps tensorflow from using all available GPU memory when a model is initialized.\n",
    "gpus = tf.config.list_physical_devices('GPU')\n",
    "tf.config.experimental.set_memory_growth(gpus[0], True)"
   ]
  },
  {
   "cell_type": "markdown",
   "id": "north-immigration",
   "metadata": {},
   "source": [
    "### Code Snippets for training Conv Nets\n",
    "\n",
    "* convnet_depth specifys the network depth\n",
    "* convnet_widths specifies which network widths to train over\n",
    "* scaled alpha is the value to move between Lazy/active Training \n",
    "\n",
    "Make sure to have the files :\n",
    "\n",
    "*  'trained_model_weights_{data_set}/conv_nets_depth_{convnet_depth}_{label_noise_as_int}pct_noise_alpha_{alpha}/'\n",
    "*  'experimental_results_{data_set}/conv_nets_' \n",
    "\n",
    "available for the results to save to."
   ]
  },
  {
   "cell_type": "code",
   "execution_count": 2,
   "id": "brave-laptop",
   "metadata": {},
   "outputs": [
    {
     "ename": "NameError",
     "evalue": "name 'make_convNet' is not defined",
     "output_type": "error",
     "traceback": [
      "\u001b[1;31m---------------------------------------------------------------------------\u001b[0m",
      "\u001b[1;31mNameError\u001b[0m                                 Traceback (most recent call last)",
      "\u001b[1;32m<ipython-input-2-588ba5671a63>\u001b[0m in \u001b[0;36m<module>\u001b[1;34m\u001b[0m\n\u001b[0;32m      1\u001b[0m \u001b[0malpha\u001b[0m\u001b[1;33m=\u001b[0m\u001b[1;36m1\u001b[0m\u001b[1;33m\u001b[0m\u001b[1;33m\u001b[0m\u001b[0m\n\u001b[0;32m      2\u001b[0m \u001b[1;33m\u001b[0m\u001b[0m\n\u001b[1;32m----> 3\u001b[1;33m train_conv_nets(\n\u001b[0m\u001b[0;32m      4\u001b[0m     \u001b[0mdata_set\u001b[0m\u001b[1;33m=\u001b[0m\u001b[1;34m'cifar10'\u001b[0m\u001b[1;33m,\u001b[0m\u001b[1;33m\u001b[0m\u001b[1;33m\u001b[0m\u001b[0m\n\u001b[0;32m      5\u001b[0m     \u001b[0mconvnet_depth\u001b[0m\u001b[1;33m=\u001b[0m\u001b[1;36m5\u001b[0m\u001b[1;33m,\u001b[0m\u001b[1;33m\u001b[0m\u001b[1;33m\u001b[0m\u001b[0m\n",
      "\u001b[1;32m~\\CourseWork\\Math_Deep_Learning\\Mathematics-of-Deep-Learning-Research-Project\\utils\\train_utils.py\u001b[0m in \u001b[0;36mtrain_conv_nets\u001b[1;34m(data_set, convnet_depth, convnet_widths, label_noise_as_int, scaled_loss_alpha, n_batch_steps, save)\u001b[0m\n\u001b[0;32m     64\u001b[0m     \u001b[1;32mfor\u001b[0m \u001b[0mwidth\u001b[0m \u001b[1;32min\u001b[0m \u001b[0mconvnet_widths\u001b[0m\u001b[1;33m:\u001b[0m\u001b[1;33m\u001b[0m\u001b[1;33m\u001b[0m\u001b[0m\n\u001b[0;32m     65\u001b[0m         \u001b[1;31m# Depth 5 Conv Net using default Kaiming Uniform Initialization.\u001b[0m\u001b[1;33m\u001b[0m\u001b[1;33m\u001b[0m\u001b[1;33m\u001b[0m\u001b[0m\n\u001b[1;32m---> 66\u001b[1;33m         \u001b[0mconv_net\u001b[0m\u001b[1;33m,\u001b[0m \u001b[0mmodel_id\u001b[0m \u001b[1;33m=\u001b[0m \u001b[0mmake_convNet\u001b[0m\u001b[1;33m(\u001b[0m\u001b[0mimage_shape\u001b[0m\u001b[1;33m,\u001b[0m \u001b[0mdepth\u001b[0m\u001b[1;33m=\u001b[0m\u001b[0mconvnet_depth\u001b[0m\u001b[1;33m,\u001b[0m \u001b[0minit_channels\u001b[0m\u001b[1;33m=\u001b[0m\u001b[0mwidth\u001b[0m\u001b[1;33m)\u001b[0m\u001b[1;33m\u001b[0m\u001b[1;33m\u001b[0m\u001b[0m\n\u001b[0m\u001b[0;32m     67\u001b[0m \u001b[1;33m\u001b[0m\u001b[0m\n\u001b[0;32m     68\u001b[0m         conv_net.compile(\n",
      "\u001b[1;31mNameError\u001b[0m: name 'make_convNet' is not defined"
     ]
    }
   ],
   "source": [
    "alpha=1\n",
    "\n",
    "train_conv_nets(\n",
    "    data_set='cifar10',\n",
    "    convnet_depth=5,\n",
    "    convnet_widths=[(1 + i) for i in range(16)],\n",
    "    scaled_loss_alpha=alpha,\n",
    ")\n",
    "\n",
    "# widths 20 - 40 \n",
    "train_conv_nets(\n",
    "    data_set='cifar10',\n",
    "    convnet_depth=5,\n",
    "    convnet_widths=[16 + 4*(i+1) for i in range(6)],\n",
    "    scaled_loss_alpha=alpha,\n",
    ")\n",
    "\n",
    "# widths 44 - 64\n",
    "train_conv_nets(\n",
    "    data_set='cifar10',\n",
    "    convnet_depth=5,\n",
    "    convnet_widths=[40 + 4*(i+1) for i in range(6)],\n",
    "    scaled_loss_alpha=alpha,\n",
    "\n",
    ")"
   ]
  }
 ],
 "metadata": {
  "kernelspec": {
   "display_name": "Python 3",
   "language": "python",
   "name": "python3"
  },
  "language_info": {
   "codemirror_mode": {
    "name": "ipython",
    "version": 3
   },
   "file_extension": ".py",
   "mimetype": "text/x-python",
   "name": "python",
   "nbconvert_exporter": "python",
   "pygments_lexer": "ipython3",
   "version": "3.8.8"
  }
 },
 "nbformat": 4,
 "nbformat_minor": 5
}
