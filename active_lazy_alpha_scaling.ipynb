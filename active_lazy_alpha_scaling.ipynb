{
  "nbformat": 4,
  "nbformat_minor": 0,
  "metadata": {
    "colab": {
      "name": "active_lazy_alpha_scaling.ipynb",
      "provenance": []
    },
    "kernelspec": {
      "name": "python3",
      "display_name": "Python 3"
    },
    "language_info": {
      "name": "python"
    }
  },
  "cells": [
    {
      "cell_type": "markdown",
      "metadata": {
        "id": "WlDH_mlqxXpC"
      },
      "source": [
        "The active/lazy training paper does not attempt to trigger active/lazy regime via initialization. Instead, the paper applies a scaling factor alpha to the loss function. \\\\\n",
        "\n",
        "Efforts following this approach proved to be more fruitful than my earlier attempts to observe active/lazy training via controlling the variance of initialization values. \n",
        "I have used the scaling method from the paper’s CIFAR10 CNN experiment in a single-hidden-layer neural network. The general observation remains the same:\n",
        "1. Experiment shows that the l2-norm of weight movements away from initialization values increase with scaling alpha, which is consistent with theoretical assumptions.\n",
        "2. I have observed that there is a threshold for alpha at which movements of weight begin to occur. Scaling factors smaller than this threshold would see little/zero weight movement whereas larger scaling factors lead to increasing movements past this threshold.\n",
        "3. With respect to decreasing scaling factor alpha while holding other factors constant, model accuracy peaks at a point after the threshold at which weights begin to move (not at the threshold). After this peak, model accuracy would then deteriorate to that of random selection (both training and dev set to around 0.1 for CIFAR10). Experimental results also show that as the scaling factor continues to increase, weight movements from initialization experiences a temporary drop after the performance peak before resuming to increase monotonously at increasing rates.\n",
        "4. Learning rate and (likely) model size and architecture have influence on not only model performance, but also where the active/lazy threshold occurs: experimental result shows that \n",
        "larger models see later performance peak (wrt. decreasing alpha), slower performance deterioration, and slower increase in weight movements. \n",
        "holding other factors constant, decreasing learning rate led to:\n",
        "Smaller active/lazy threshold alpha (scaling factor alpha at which weights begin to move during training)\n",
        "Slower increase in weight movements as alpha decreases\n",
        "Later performance peak as alpha decreases\n",
        "Slower performance deterioration as alpha decreases\n",
        "holding other factors constant, increasing hidden layer width led to:\n",
        "Unsurprisingly, better accuracy\n",
        "Faster increase in weight movements as alpha decreases\n",
        "5. While the paper’s code produced reasonable accuracies at large alpha values (lazy regime), my two-layer nn experiments show poor model performance (both training and dev set are at the random selection accuracy around 0.1) under the lazy training regime. This difference can be caused by major differences in model architectures (the paper implements a variation of VGG ConvNet). \\\\\n",
        "\n",
        "Next step is to integrate into the Convnet architecture used in Sam’s double descent experiments.\n",
        "\n"
      ]
    },
    {
      "cell_type": "code",
      "metadata": {
        "colab": {
          "base_uri": "https://localhost:8080/"
        },
        "id": "J-3tmqTpiMdA",
        "outputId": "f6570b21-3d17-4388-959d-9ab64d285ced"
      },
      "source": [
        "import tensorflow as tf\n",
        "print(tf.__version__)\n",
        "from tensorflow.keras.layers import Dense, Flatten \n",
        "from tensorflow.keras import Model\n",
        "import matplotlib.pyplot as plt"
      ],
      "execution_count": 3,
      "outputs": [
        {
          "output_type": "stream",
          "text": [
            "2.4.1\n"
          ],
          "name": "stdout"
        }
      ]
    },
    {
      "cell_type": "code",
      "metadata": {
        "id": "7v4jjE0cSHdb"
      },
      "source": [
        "DATA = 'CIFAR10'\n",
        "NORMALIZE = True"
      ],
      "execution_count": 4,
      "outputs": []
    },
    {
      "cell_type": "code",
      "metadata": {
        "id": "vHnqdwBHSEWH"
      },
      "source": [
        "if DATA == 'MNIST':\n",
        "  mnist = tf.keras.datasets.mnist\n",
        "  (x_train, y_train), (x_test, y_test) = mnist.load_data()\n",
        "if DATA == 'CIFAR10':\n",
        "  cifar10 = tf.keras.datasets.cifar10\n",
        "  (x_train, y_train), (x_test, y_test) = cifar10.load_data()\n",
        "if NORMALIZE:\n",
        "  x_train, x_test = x_train / 255.0, x_test / 255.0"
      ],
      "execution_count": 5,
      "outputs": []
    },
    {
      "cell_type": "code",
      "metadata": {
        "id": "yK_fRyXZiUa-"
      },
      "source": [
        "class CustomCallback_epoch(tf.keras.callbacks.Callback):\n",
        "    def __init__(self):\n",
        "        super().__init__()\n",
        "        self.dh = display('SAVING INITIAL WEIGHT VALUES', display_id=True)\n",
        "        self.start_time = time.perf_counter()\n",
        "\n",
        "    def on_train_begin(self, logs=None):\n",
        "        global weight_history\n",
        "        # print('SAVING INITIAL WEIGHT VALUES')\n",
        "        weight_history.append(self.model.get_weights())\n",
        "\n",
        "    def on_epoch_end(self, epoch, logs=None):\n",
        "        global weight_history\n",
        "        # list of weight tensors\n",
        "        curr_weight = self.model.get_weights()\n",
        "        if weight_history:\n",
        "          weight_change = [curr_weight[i] - weight_history[0][i] for i in range(len(curr_weight))]\n",
        "          norm_delta = [tf.norm(t, ord=2).numpy() for t in weight_change]\n",
        "          # print('L2 NORM OF WEIGHT CHANGE RELATIVE TO INITIAL VALUES: ', norm_delta)\n",
        "          weight_history.append(norm_delta)\n",
        "\n",
        "        end_time = time.perf_counter()\n",
        "        run_time = end_time - self.start_time\n",
        "        hrs, mnts, secs = int(run_time // 60 // 60), int(run_time // 60 % 60), int(run_time % 60)\n",
        "\n",
        "        template = 'Epoch: {:04}, Total Run Time: {:02}:{:02}:{:02}'\n",
        "        template += ' - Loss: {:.4e}, Accuracy: {:.3f}, Test Loss: {:.4e}, Test Accuracy: {:.3f}'\n",
        "        template += ' - L2 Norm of Weight Movement From Initialization: %s' %str(norm_delta)\n",
        "\n",
        "        train_loss, train_accuracy = logs['loss'], logs['accuracy']\n",
        "        test_loss, test_accuracy = logs['val_loss'], logs['val_accuracy']\n",
        "        self.dh.update(template.format(epoch, hrs, mnts, secs, train_loss, train_accuracy, test_loss, test_accuracy))\n",
        "  "
      ],
      "execution_count": 6,
      "outputs": []
    },
    {
      "cell_type": "code",
      "metadata": {
        "id": "_iEIgCm8AkXV"
      },
      "source": [
        "# some parameters in the active/lazy paper:\n",
        "# optimizer: sgd with momentum=0.9\n",
        "# initialization: kernel - xavier(glorot) normal, bias - zeros (default for Dense in tf)\n",
        "# loss: both categroical crossentropy(sparse) and mse are provided as options, using cce here\n",
        "# scaling: implemented in the paper repo's train.py as loss = torch.nn.CrossEntropyLoss(alpha*outputs, targets)/alpha**2\n",
        "#          implemented here with scaled_custom_loss() loss function that does the same thing        \n",
        "\n",
        "def train(alpha, epoch, opt, lr, scaling=True, width=64):\n",
        "    global weight_history\n",
        "    weight_history = []\n",
        "\n",
        "    def scaled_custom_loss(y_actual, y_pred):\n",
        "        sce = tf.keras.losses.SparseCategoricalCrossentropy()\n",
        "        scaled_sce = sce(y_actual, alpha*y_pred)/alpha**2\n",
        "        return scaled_sce\n",
        "\n",
        "    if DATA == 'CIFAR10':\n",
        "      flatten = tf.keras.layers.Flatten(input_shape=(32, 32, 3))\n",
        "\n",
        "    if DATA == 'MNIST':\n",
        "      flatten = tf.keras.layers.Flatten(input_shape=(28, 28))\n",
        "\n",
        "    model = tf.keras.models.Sequential([\n",
        "      flatten,\n",
        "      tf.keras.layers.Dense(width, activation='relu'),\n",
        "      tf.keras.layers.Dense(10, activation='softmax')\n",
        "    ])\n",
        "    # model.summary()\n",
        "  \n",
        "    if opt=='adam':\n",
        "      # default lr for Adam is 0.001\n",
        "      opt = tf.keras.optimizers.Adam(learning_rate=lr)\n",
        "    elif opt=='sgd':\n",
        "      # default lr for sgd is 0.01\n",
        "      opt = tf.keras.optimizers.SGD(learning_rate=lr, momentum=0.9)\n",
        "    else:\n",
        "      raise Exception('optimizer must be adam/sgd')\n",
        "\n",
        "    model.compile(optimizer=opt,\n",
        "                  loss=scaled_custom_loss if scaling else 'sparse_categorical_crossentropy',\n",
        "                  metrics=['accuracy'])\n",
        "\n",
        "    history = model.fit(x_train, y_train, epochs=epoch, validation_data=(x_test, y_test), callbacks=[CustomCallback_epoch()], verbose=0)\n",
        "    \n",
        "    print()\n",
        "    print('max training accuracy', max(history.history['accuracy']))\n",
        "    print('min training loss', min(history.history['loss']))\n",
        "    print('max validation accuracy', max(history.history['val_accuracy']))\n",
        "    print('min validation loss', min(history.history['val_loss']))\n",
        "\n",
        "    # plot(history)\n",
        "    # print(tf.math.confusion_matrix(y_test, tf.argmax(model.predict(x_test), axis=1)))\n",
        "    print()\n",
        "    print('l2-normed weight changes from initial values after last epoch:')\n",
        "    print(weight_history[-1])\n",
        "\n",
        "    return (weight_history[1:], history.history)"
      ],
      "execution_count": 7,
      "outputs": []
    },
    {
      "cell_type": "code",
      "metadata": {
        "colab": {
          "base_uri": "https://localhost:8080/",
          "height": 170
        },
        "id": "8qd6UmwgCzet",
        "outputId": "95e3226e-379d-461a-d928-222b45b7c713"
      },
      "source": [
        "unscaled = train(alpha=None, epoch=10, opt='sgd', lr=0.01, scaling=False)"
      ],
      "execution_count": 20,
      "outputs": [
        {
          "output_type": "display_data",
          "data": {
            "application/vnd.google.colaboratory.intrinsic+json": {
              "type": "string"
            },
            "text/plain": [
              "'Epoch: 0009, Total Run Time: 00:00:45 - Loss: 1.6841e+00, Accuracy: 0.390, Test Loss: 1.7300e+00, Test Accuracy: 0.383 - L2 Norm of Weight Movement From Initialization: [13.935824, 3.1807551, 2.3657033, 2.7277188]'"
            ]
          },
          "metadata": {
            "tags": []
          }
        },
        {
          "output_type": "stream",
          "text": [
            "\n",
            "max training accuracy 0.3919999897480011\n",
            "min training loss 1.6840555667877197\n",
            "max validation accuracy 0.40130001306533813\n",
            "min validation loss 1.6713179349899292\n",
            "\n",
            "l2-normed weight changes from initial values after last epoch:\n",
            "[13.935824, 3.1807551, 2.3657033, 2.7277188]\n"
          ],
          "name": "stdout"
        }
      ]
    },
    {
      "cell_type": "code",
      "metadata": {
        "colab": {
          "base_uri": "https://localhost:8080/",
          "height": 1000
        },
        "id": "DX8YbWroIZPS",
        "outputId": "661baf72-90ac-43c7-ad16-d8192d9e1a5d"
      },
      "source": [
        "lrs = [1.0, 0.1, 0.01, 0.001]\n",
        "alphas = [10000000.0, 1000000.0, 100000.0, 10000.0, 1000.0, 100.0, 10.0, 5.0, 1.0, 0.5, 0.1, 0.01]\n",
        "normed_weight_changes = {}\n",
        "optimizer = 'sgd'\n",
        "num_epochs = 10\n",
        "for learning_rate in lrs:\n",
        "  for alpha_val in alphas:\n",
        "    print('='*80)\n",
        "    print('opt = %s, lr = %f, alpha = %f' %(optimizer, learning_rate, alpha_val))\n",
        "    print('='*80)\n",
        "    normed_weight_changes[(optimizer, learning_rate, alpha_val)] = train(alpha=alpha_val, epoch=num_epochs, opt=optimizer, lr=learning_rate, scaling=True)"
      ],
      "execution_count": 13,
      "outputs": [
        {
          "output_type": "stream",
          "text": [
            "================================================================================\n",
            "opt = sgd, lr = 1.000000, alpha = 10000000.000000\n",
            "================================================================================\n"
          ],
          "name": "stdout"
        },
        {
          "output_type": "display_data",
          "data": {
            "application/vnd.google.colaboratory.intrinsic+json": {
              "type": "string"
            },
            "text/plain": [
              "'Epoch: 0009, Total Run Time: 00:00:45 - Loss: 2.3026e-14, Accuracy: 0.095, Test Loss: 2.3026e-14, Test Accuracy: 0.099 - L2 Norm of Weight Movement From Initialization: [0.0, 0.0, 0.0, 0.0]'"
            ]
          },
          "metadata": {
            "tags": []
          }
        },
        {
          "output_type": "stream",
          "text": [
            "\n",
            "max training accuracy 0.09533999860286713\n",
            "min training loss 2.3025665711129753e-14\n",
            "max validation accuracy 0.09910000115633011\n",
            "min validation loss 2.3025850364312254e-14\n",
            "\n",
            "l2-normed weight changes from initial values after last epoch:\n",
            "[0.0, 0.0, 0.0, 0.0]\n",
            "================================================================================\n",
            "opt = sgd, lr = 1.000000, alpha = 1000000.000000\n",
            "================================================================================\n"
          ],
          "name": "stdout"
        },
        {
          "output_type": "display_data",
          "data": {
            "application/vnd.google.colaboratory.intrinsic+json": {
              "type": "string"
            },
            "text/plain": [
              "'Epoch: 0009, Total Run Time: 00:00:46 - Loss: 2.3026e-12, Accuracy: 0.106, Test Loss: 2.3026e-12, Test Accuracy: 0.107 - L2 Norm of Weight Movement From Initialization: [0.0, 0.0, 0.0, 0.0]'"
            ]
          },
          "metadata": {
            "tags": []
          }
        },
        {
          "output_type": "stream",
          "text": [
            "\n",
            "max training accuracy 0.10605999827384949\n",
            "min training loss 2.3025997341469262e-12\n",
            "max validation accuracy 0.1071000024676323\n",
            "min validation loss 2.302588675284767e-12\n",
            "\n",
            "l2-normed weight changes from initial values after last epoch:\n",
            "[0.0, 0.0, 0.0, 0.0]\n",
            "================================================================================\n",
            "opt = sgd, lr = 1.000000, alpha = 100000.000000\n",
            "================================================================================\n"
          ],
          "name": "stdout"
        },
        {
          "output_type": "display_data",
          "data": {
            "application/vnd.google.colaboratory.intrinsic+json": {
              "type": "string"
            },
            "text/plain": [
              "'Epoch: 0009, Total Run Time: 00:00:45 - Loss: 2.3026e-10, Accuracy: 0.099, Test Loss: 2.3026e-10, Test Accuracy: 0.098 - L2 Norm of Weight Movement From Initialization: [0.0, 0.0, 0.0, 0.0]'"
            ]
          },
          "metadata": {
            "tags": []
          }
        },
        {
          "output_type": "stream",
          "text": [
            "\n",
            "max training accuracy 0.09917999804019928\n",
            "min training loss 2.3026328066499957e-10\n",
            "max validation accuracy 0.09830000251531601\n",
            "min validation loss 2.3025850670599368e-10\n",
            "\n",
            "l2-normed weight changes from initial values after last epoch:\n",
            "[0.0, 0.0, 0.0, 0.0]\n",
            "================================================================================\n",
            "opt = sgd, lr = 1.000000, alpha = 10000.000000\n",
            "================================================================================\n"
          ],
          "name": "stdout"
        },
        {
          "output_type": "display_data",
          "data": {
            "application/vnd.google.colaboratory.intrinsic+json": {
              "type": "string"
            },
            "text/plain": [
              "'Epoch: 0009, Total Run Time: 00:00:47 - Loss: 2.3026e-08, Accuracy: 0.096, Test Loss: 2.3026e-08, Test Accuracy: 0.095 - L2 Norm of Weight Movement From Initialization: [0.0, 0.0, 0.0, 0.0]'"
            ]
          },
          "metadata": {
            "tags": []
          }
        },
        {
          "output_type": "stream",
          "text": [
            "\n",
            "max training accuracy 0.09634000062942505\n",
            "min training loss 2.3025949147381652e-08\n",
            "max validation accuracy 0.09510000050067902\n",
            "min validation loss 2.3025791051622946e-08\n",
            "\n",
            "l2-normed weight changes from initial values after last epoch:\n",
            "[0.0, 0.0, 0.0, 0.0]\n",
            "================================================================================\n",
            "opt = sgd, lr = 1.000000, alpha = 1000.000000\n",
            "================================================================================\n"
          ],
          "name": "stdout"
        },
        {
          "output_type": "display_data",
          "data": {
            "application/vnd.google.colaboratory.intrinsic+json": {
              "type": "string"
            },
            "text/plain": [
              "'Epoch: 0009, Total Run Time: 00:00:49 - Loss: 2.3026e-06, Accuracy: 0.081, Test Loss: 2.3026e-06, Test Accuracy: 0.076 - L2 Norm of Weight Movement From Initialization: [0.0, 0.0, 0.0, 0.0]'"
            ]
          },
          "metadata": {
            "tags": []
          }
        },
        {
          "output_type": "stream",
          "text": [
            "\n",
            "max training accuracy 0.08129999786615372\n",
            "min training loss 2.302632083228673e-06\n",
            "max validation accuracy 0.07580000162124634\n",
            "min validation loss 2.3025800146569964e-06\n",
            "\n",
            "l2-normed weight changes from initial values after last epoch:\n",
            "[0.0, 0.0, 0.0, 0.0]\n",
            "================================================================================\n",
            "opt = sgd, lr = 1.000000, alpha = 100.000000\n",
            "================================================================================\n"
          ],
          "name": "stdout"
        },
        {
          "output_type": "display_data",
          "data": {
            "application/vnd.google.colaboratory.intrinsic+json": {
              "type": "string"
            },
            "text/plain": [
              "'Epoch: 0009, Total Run Time: 00:00:51 - Loss: 2.1155e-04, Accuracy: 0.067, Test Loss: 2.1165e-04, Test Accuracy: 0.074 - L2 Norm of Weight Movement From Initialization: [1.1128045, 0.08482273, 0.41498986, 0.08937229]'"
            ]
          },
          "metadata": {
            "tags": []
          }
        },
        {
          "output_type": "stream",
          "text": [
            "\n",
            "max training accuracy 0.09386000037193298\n",
            "min training loss 0.00021154677961021662\n",
            "max validation accuracy 0.09570000320672989\n",
            "min validation loss 0.00021165492944419384\n",
            "\n",
            "l2-normed weight changes from initial values after last epoch:\n",
            "[1.1128045, 0.08482273, 0.41498986, 0.08937229]\n",
            "================================================================================\n",
            "opt = sgd, lr = 1.000000, alpha = 10.000000\n",
            "================================================================================\n"
          ],
          "name": "stdout"
        },
        {
          "output_type": "display_data",
          "data": {
            "application/vnd.google.colaboratory.intrinsic+json": {
              "type": "string"
            },
            "text/plain": [
              "'Epoch: 0009, Total Run Time: 00:00:50 - Loss: 1.7628e-02, Accuracy: 0.354, Test Loss: 1.8057e-02, Test Accuracy: 0.342 - L2 Norm of Weight Movement From Initialization: [13.759092, 2.8705606, 2.5233994, 4.061022]'"
            ]
          },
          "metadata": {
            "tags": []
          }
        },
        {
          "output_type": "stream",
          "text": [
            "\n",
            "max training accuracy 0.35429999232292175\n",
            "min training loss 0.017628353089094162\n",
            "max validation accuracy 0.3626999855041504\n",
            "min validation loss 0.01752445288002491\n",
            "\n",
            "l2-normed weight changes from initial values after last epoch:\n",
            "[13.759092, 2.8705606, 2.5233994, 4.061022]\n",
            "================================================================================\n",
            "opt = sgd, lr = 1.000000, alpha = 5.000000\n",
            "================================================================================\n"
          ],
          "name": "stdout"
        },
        {
          "output_type": "display_data",
          "data": {
            "application/vnd.google.colaboratory.intrinsic+json": {
              "type": "string"
            },
            "text/plain": [
              "'Epoch: 0009, Total Run Time: 00:00:49 - Loss: 9.2210e-02, Accuracy: 0.101, Test Loss: 9.2304e-02, Test Accuracy: 0.100 - L2 Norm of Weight Movement From Initialization: [7.808285, 0.594512, 2.9711738, 0.31939018]'"
            ]
          },
          "metadata": {
            "tags": []
          }
        },
        {
          "output_type": "stream",
          "text": [
            "\n",
            "max training accuracy 0.1257999986410141\n",
            "min training loss 0.09069974720478058\n",
            "max validation accuracy 0.1225999966263771\n",
            "min validation loss 0.09143058210611343\n",
            "\n",
            "l2-normed weight changes from initial values after last epoch:\n",
            "[7.808285, 0.594512, 2.9711738, 0.31939018]\n",
            "================================================================================\n",
            "opt = sgd, lr = 1.000000, alpha = 1.000000\n",
            "================================================================================\n"
          ],
          "name": "stdout"
        },
        {
          "output_type": "display_data",
          "data": {
            "application/vnd.google.colaboratory.intrinsic+json": {
              "type": "string"
            },
            "text/plain": [
              "'Epoch: 0009, Total Run Time: 00:00:47 - Loss: 1.4506e+01, Accuracy: 0.100, Test Loss: 1.4506e+01, Test Accuracy: 0.100 - L2 Norm of Weight Movement From Initialization: [48.145218, 1.4057947, 23.490149, 1.3475701]'"
            ]
          },
          "metadata": {
            "tags": []
          }
        },
        {
          "output_type": "stream",
          "text": [
            "\n",
            "max training accuracy 0.10000000149011612\n",
            "min training loss 14.499435424804688\n",
            "max validation accuracy 0.10000000149011612\n",
            "min validation loss 14.50627326965332\n",
            "\n",
            "l2-normed weight changes from initial values after last epoch:\n",
            "[48.145218, 1.4057947, 23.490149, 1.3475701]\n",
            "================================================================================\n",
            "opt = sgd, lr = 1.000000, alpha = 0.500000\n",
            "================================================================================\n"
          ],
          "name": "stdout"
        },
        {
          "output_type": "display_data",
          "data": {
            "application/vnd.google.colaboratory.intrinsic+json": {
              "type": "string"
            },
            "text/plain": [
              "'Epoch: 0009, Total Run Time: 00:00:47 - Loss: 5.5530e+01, Accuracy: 0.100, Test Loss: 5.5530e+01, Test Accuracy: 0.100 - L2 Norm of Weight Movement From Initialization: [493.2944, 15.856777, 65.584656, 14.882198]'"
            ]
          },
          "metadata": {
            "tags": []
          }
        },
        {
          "output_type": "stream",
          "text": [
            "\n",
            "max training accuracy 0.10000000149011612\n",
            "min training loss 55.50836944580078\n",
            "max validation accuracy 0.10000000149011612\n",
            "min validation loss 55.52981948852539\n",
            "\n",
            "l2-normed weight changes from initial values after last epoch:\n",
            "[493.2944, 15.856777, 65.584656, 14.882198]\n",
            "================================================================================\n",
            "opt = sgd, lr = 1.000000, alpha = 0.100000\n",
            "================================================================================\n"
          ],
          "name": "stdout"
        },
        {
          "output_type": "display_data",
          "data": {
            "application/vnd.google.colaboratory.intrinsic+json": {
              "type": "string"
            },
            "text/plain": [
              "'Epoch: 0009, Total Run Time: 00:00:47 - Loss: 1.2434e+03, Accuracy: 0.100, Test Loss: 1.2434e+03, Test Accuracy: 0.100 - L2 Norm of Weight Movement From Initialization: [8407.028, 260.91104, 1134.2736, 231.82428]'"
            ]
          },
          "metadata": {
            "tags": []
          }
        },
        {
          "output_type": "stream",
          "text": [
            "\n",
            "max training accuracy 0.10000000149011612\n",
            "min training loss 1242.8416748046875\n",
            "max validation accuracy 0.10000000149011612\n",
            "min validation loss 1243.396484375\n",
            "\n",
            "l2-normed weight changes from initial values after last epoch:\n",
            "[8407.028, 260.91104, 1134.2736, 231.82428]\n",
            "================================================================================\n",
            "opt = sgd, lr = 1.000000, alpha = 0.010000\n",
            "================================================================================\n"
          ],
          "name": "stdout"
        },
        {
          "output_type": "display_data",
          "data": {
            "application/vnd.google.colaboratory.intrinsic+json": {
              "type": "string"
            },
            "text/plain": [
              "'Epoch: 0009, Total Run Time: 00:00:45 - Loss: 1.0362e+05, Accuracy: 0.100, Test Loss: 1.0362e+05, Test Accuracy: 0.100 - L2 Norm of Weight Movement From Initialization: [319761.8, 10169.653, 48352.297, 10697.181]'"
            ]
          },
          "metadata": {
            "tags": []
          }
        },
        {
          "output_type": "stream",
          "text": [
            "\n",
            "max training accuracy 0.10000000149011612\n",
            "min training loss 103569.46875\n",
            "max validation accuracy 0.10000000149011612\n",
            "min validation loss 103617.0703125\n",
            "\n",
            "l2-normed weight changes from initial values after last epoch:\n",
            "[319761.8, 10169.653, 48352.297, 10697.181]\n",
            "================================================================================\n",
            "opt = sgd, lr = 0.100000, alpha = 10000000.000000\n",
            "================================================================================\n"
          ],
          "name": "stdout"
        },
        {
          "output_type": "display_data",
          "data": {
            "application/vnd.google.colaboratory.intrinsic+json": {
              "type": "string"
            },
            "text/plain": [
              "'Epoch: 0009, Total Run Time: 00:00:46 - Loss: 2.3026e-14, Accuracy: 0.101, Test Loss: 2.3026e-14, Test Accuracy: 0.101 - L2 Norm of Weight Movement From Initialization: [0.0, 0.0, 0.0, 0.0]'"
            ]
          },
          "metadata": {
            "tags": []
          }
        },
        {
          "output_type": "stream",
          "text": [
            "\n",
            "max training accuracy 0.10051999986171722\n",
            "min training loss 2.3025665711129753e-14\n",
            "max validation accuracy 0.10140000283718109\n",
            "min validation loss 2.3025850364312254e-14\n",
            "\n",
            "l2-normed weight changes from initial values after last epoch:\n",
            "[0.0, 0.0, 0.0, 0.0]\n",
            "================================================================================\n",
            "opt = sgd, lr = 0.100000, alpha = 1000000.000000\n",
            "================================================================================\n"
          ],
          "name": "stdout"
        },
        {
          "output_type": "display_data",
          "data": {
            "application/vnd.google.colaboratory.intrinsic+json": {
              "type": "string"
            },
            "text/plain": [
              "'Epoch: 0009, Total Run Time: 00:00:45 - Loss: 2.3026e-12, Accuracy: 0.102, Test Loss: 2.3026e-12, Test Accuracy: 0.102 - L2 Norm of Weight Movement From Initialization: [0.0, 0.0, 0.0, 0.0]'"
            ]
          },
          "metadata": {
            "tags": []
          }
        },
        {
          "output_type": "stream",
          "text": [
            "\n",
            "max training accuracy 0.1020599976181984\n",
            "min training loss 2.3025997341469262e-12\n",
            "max validation accuracy 0.10170000046491623\n",
            "min validation loss 2.302588675284767e-12\n",
            "\n",
            "l2-normed weight changes from initial values after last epoch:\n",
            "[0.0, 0.0, 0.0, 0.0]\n",
            "================================================================================\n",
            "opt = sgd, lr = 0.100000, alpha = 100000.000000\n",
            "================================================================================\n"
          ],
          "name": "stdout"
        },
        {
          "output_type": "display_data",
          "data": {
            "application/vnd.google.colaboratory.intrinsic+json": {
              "type": "string"
            },
            "text/plain": [
              "'Epoch: 0009, Total Run Time: 00:00:45 - Loss: 2.3026e-10, Accuracy: 0.100, Test Loss: 2.3026e-10, Test Accuracy: 0.100 - L2 Norm of Weight Movement From Initialization: [0.0, 0.0, 0.0, 0.0]'"
            ]
          },
          "metadata": {
            "tags": []
          }
        },
        {
          "output_type": "stream",
          "text": [
            "\n",
            "max training accuracy 0.09963999688625336\n",
            "min training loss 2.3026328066499957e-10\n",
            "max validation accuracy 0.0997999981045723\n",
            "min validation loss 2.3025850670599368e-10\n",
            "\n",
            "l2-normed weight changes from initial values after last epoch:\n",
            "[0.0, 0.0, 0.0, 0.0]\n",
            "================================================================================\n",
            "opt = sgd, lr = 0.100000, alpha = 10000.000000\n",
            "================================================================================\n"
          ],
          "name": "stdout"
        },
        {
          "output_type": "display_data",
          "data": {
            "application/vnd.google.colaboratory.intrinsic+json": {
              "type": "string"
            },
            "text/plain": [
              "'Epoch: 0009, Total Run Time: 00:00:45 - Loss: 2.3026e-08, Accuracy: 0.106, Test Loss: 2.3026e-08, Test Accuracy: 0.106 - L2 Norm of Weight Movement From Initialization: [0.0, 0.0, 0.0, 0.0]'"
            ]
          },
          "metadata": {
            "tags": []
          }
        },
        {
          "output_type": "stream",
          "text": [
            "\n",
            "max training accuracy 0.10638000071048737\n",
            "min training loss 2.3025949147381652e-08\n",
            "max validation accuracy 0.10589999705553055\n",
            "min validation loss 2.3025791051622946e-08\n",
            "\n",
            "l2-normed weight changes from initial values after last epoch:\n",
            "[0.0, 0.0, 0.0, 0.0]\n",
            "================================================================================\n",
            "opt = sgd, lr = 0.100000, alpha = 1000.000000\n",
            "================================================================================\n"
          ],
          "name": "stdout"
        },
        {
          "output_type": "display_data",
          "data": {
            "application/vnd.google.colaboratory.intrinsic+json": {
              "type": "string"
            },
            "text/plain": [
              "'Epoch: 0009, Total Run Time: 00:00:47 - Loss: 2.3026e-06, Accuracy: 0.080, Test Loss: 2.3026e-06, Test Accuracy: 0.076 - L2 Norm of Weight Movement From Initialization: [0.0, 0.0, 0.0, 0.0]'"
            ]
          },
          "metadata": {
            "tags": []
          }
        },
        {
          "output_type": "stream",
          "text": [
            "\n",
            "max training accuracy 0.07953999936580658\n",
            "min training loss 2.302632083228673e-06\n",
            "max validation accuracy 0.07649999856948853\n",
            "min validation loss 2.3025800146569964e-06\n",
            "\n",
            "l2-normed weight changes from initial values after last epoch:\n",
            "[0.0, 0.0, 0.0, 0.0]\n",
            "================================================================================\n",
            "opt = sgd, lr = 0.100000, alpha = 100.000000\n",
            "================================================================================\n"
          ],
          "name": "stdout"
        },
        {
          "output_type": "display_data",
          "data": {
            "application/vnd.google.colaboratory.intrinsic+json": {
              "type": "string"
            },
            "text/plain": [
              "'Epoch: 0009, Total Run Time: 00:00:45 - Loss: 2.3026e-04, Accuracy: 0.099, Test Loss: 2.3026e-04, Test Accuracy: 0.096 - L2 Norm of Weight Movement From Initialization: [0.0, 0.0, 0.0, 0.0]'"
            ]
          },
          "metadata": {
            "tags": []
          }
        },
        {
          "output_type": "stream",
          "text": [
            "\n",
            "max training accuracy 0.09901999682188034\n",
            "min training loss 0.0002302551583852619\n",
            "max validation accuracy 0.09629999846220016\n",
            "min validation loss 0.0002302593638887629\n",
            "\n",
            "l2-normed weight changes from initial values after last epoch:\n",
            "[0.0, 0.0, 0.0, 0.0]\n",
            "================================================================================\n",
            "opt = sgd, lr = 0.100000, alpha = 10.000000\n",
            "================================================================================\n"
          ],
          "name": "stdout"
        },
        {
          "output_type": "display_data",
          "data": {
            "application/vnd.google.colaboratory.intrinsic+json": {
              "type": "string"
            },
            "text/plain": [
              "'Epoch: 0009, Total Run Time: 00:00:46 - Loss: 1.6068e-02, Accuracy: 0.424, Test Loss: 1.6387e-02, Test Accuracy: 0.427 - L2 Norm of Weight Movement From Initialization: [6.025654, 0.7365643, 2.9212887, 0.60148376]'"
            ]
          },
          "metadata": {
            "tags": []
          }
        },
        {
          "output_type": "stream",
          "text": [
            "\n",
            "max training accuracy 0.424019992351532\n",
            "min training loss 0.01606808975338936\n",
            "max validation accuracy 0.42669999599456787\n",
            "min validation loss 0.016325337812304497\n",
            "\n",
            "l2-normed weight changes from initial values after last epoch:\n",
            "[6.025654, 0.7365643, 2.9212887, 0.60148376]\n",
            "================================================================================\n",
            "opt = sgd, lr = 0.100000, alpha = 5.000000\n",
            "================================================================================\n"
          ],
          "name": "stdout"
        },
        {
          "output_type": "display_data",
          "data": {
            "application/vnd.google.colaboratory.intrinsic+json": {
              "type": "string"
            },
            "text/plain": [
              "'Epoch: 0009, Total Run Time: 00:00:46 - Loss: 6.2829e-02, Accuracy: 0.441, Test Loss: 6.4463e-02, Test Accuracy: 0.433 - L2 Norm of Weight Movement From Initialization: [10.955688, 1.6777126, 2.886862, 2.271945]'"
            ]
          },
          "metadata": {
            "tags": []
          }
        },
        {
          "output_type": "stream",
          "text": [
            "\n",
            "max training accuracy 0.44102001190185547\n",
            "min training loss 0.06282926350831985\n",
            "max validation accuracy 0.44429999589920044\n",
            "min validation loss 0.06360765546560287\n",
            "\n",
            "l2-normed weight changes from initial values after last epoch:\n",
            "[10.955688, 1.6777126, 2.886862, 2.271945]\n",
            "================================================================================\n",
            "opt = sgd, lr = 0.100000, alpha = 1.000000\n",
            "================================================================================\n"
          ],
          "name": "stdout"
        },
        {
          "output_type": "display_data",
          "data": {
            "application/vnd.google.colaboratory.intrinsic+json": {
              "type": "string"
            },
            "text/plain": [
              "'Epoch: 0009, Total Run Time: 00:00:46 - Loss: 1.4506e+01, Accuracy: 0.100, Test Loss: 1.4506e+01, Test Accuracy: 0.100 - L2 Norm of Weight Movement From Initialization: [21.721178, 0.8048843, 38.87243, 1.2128525]'"
            ]
          },
          "metadata": {
            "tags": []
          }
        },
        {
          "output_type": "stream",
          "text": [
            "\n",
            "max training accuracy 0.10000000149011612\n",
            "min training loss 14.489500999450684\n",
            "max validation accuracy 0.10000000149011612\n",
            "min validation loss 14.50627326965332\n",
            "\n",
            "l2-normed weight changes from initial values after last epoch:\n",
            "[21.721178, 0.8048843, 38.87243, 1.2128525]\n",
            "================================================================================\n",
            "opt = sgd, lr = 0.100000, alpha = 0.500000\n",
            "================================================================================\n"
          ],
          "name": "stdout"
        },
        {
          "output_type": "display_data",
          "data": {
            "application/vnd.google.colaboratory.intrinsic+json": {
              "type": "string"
            },
            "text/plain": [
              "'Epoch: 0009, Total Run Time: 00:00:45 - Loss: 5.5530e+01, Accuracy: 0.100, Test Loss: 5.5530e+01, Test Accuracy: 0.100 - L2 Norm of Weight Movement From Initialization: [30.639067, 1.3211002, 49.933365, 1.3894542]'"
            ]
          },
          "metadata": {
            "tags": []
          }
        },
        {
          "output_type": "stream",
          "text": [
            "\n",
            "max training accuracy 0.10006000101566315\n",
            "min training loss 55.49030685424805\n",
            "max validation accuracy 0.10000000149011612\n",
            "min validation loss 55.529842376708984\n",
            "\n",
            "l2-normed weight changes from initial values after last epoch:\n",
            "[30.639067, 1.3211002, 49.933365, 1.3894542]\n",
            "================================================================================\n",
            "opt = sgd, lr = 0.100000, alpha = 0.100000\n",
            "================================================================================\n"
          ],
          "name": "stdout"
        },
        {
          "output_type": "display_data",
          "data": {
            "application/vnd.google.colaboratory.intrinsic+json": {
              "type": "string"
            },
            "text/plain": [
              "'Epoch: 0009, Total Run Time: 00:00:46 - Loss: 1.2434e+03, Accuracy: 0.100, Test Loss: 1.2434e+03, Test Accuracy: 0.100 - L2 Norm of Weight Movement From Initialization: [581.12805, 21.489557, 101.42391, 23.787317]'"
            ]
          },
          "metadata": {
            "tags": []
          }
        },
        {
          "output_type": "stream",
          "text": [
            "\n",
            "max training accuracy 0.10000000149011612\n",
            "min training loss 1242.8460693359375\n",
            "max validation accuracy 0.10000000149011612\n",
            "min validation loss 1243.396728515625\n",
            "\n",
            "l2-normed weight changes from initial values after last epoch:\n",
            "[581.12805, 21.489557, 101.42391, 23.787317]\n",
            "================================================================================\n",
            "opt = sgd, lr = 0.100000, alpha = 0.010000\n",
            "================================================================================\n"
          ],
          "name": "stdout"
        },
        {
          "output_type": "display_data",
          "data": {
            "application/vnd.google.colaboratory.intrinsic+json": {
              "type": "string"
            },
            "text/plain": [
              "'Epoch: 0009, Total Run Time: 00:00:46 - Loss: 1.0362e+05, Accuracy: 0.100, Test Loss: 1.0362e+05, Test Accuracy: 0.100 - L2 Norm of Weight Movement From Initialization: [78411.98, 2514.0466, 10091.065, 2961.561]'"
            ]
          },
          "metadata": {
            "tags": []
          }
        },
        {
          "output_type": "stream",
          "text": [
            "\n",
            "max training accuracy 0.10000000149011612\n",
            "min training loss 103578.46875\n",
            "max validation accuracy 0.10000000149011612\n",
            "min validation loss 103617.046875\n",
            "\n",
            "l2-normed weight changes from initial values after last epoch:\n",
            "[78411.98, 2514.0466, 10091.065, 2961.561]\n",
            "================================================================================\n",
            "opt = sgd, lr = 0.010000, alpha = 10000000.000000\n",
            "================================================================================\n"
          ],
          "name": "stdout"
        },
        {
          "output_type": "display_data",
          "data": {
            "application/vnd.google.colaboratory.intrinsic+json": {
              "type": "string"
            },
            "text/plain": [
              "'Epoch: 0009, Total Run Time: 00:00:45 - Loss: 2.3026e-14, Accuracy: 0.100, Test Loss: 2.3026e-14, Test Accuracy: 0.101 - L2 Norm of Weight Movement From Initialization: [0.0, 0.0, 0.0, 0.0]'"
            ]
          },
          "metadata": {
            "tags": []
          }
        },
        {
          "output_type": "stream",
          "text": [
            "\n",
            "max training accuracy 0.09978000074625015\n",
            "min training loss 2.3025665711129753e-14\n",
            "max validation accuracy 0.1006999984383583\n",
            "min validation loss 2.3025850364312254e-14\n",
            "\n",
            "l2-normed weight changes from initial values after last epoch:\n",
            "[0.0, 0.0, 0.0, 0.0]\n",
            "================================================================================\n",
            "opt = sgd, lr = 0.010000, alpha = 1000000.000000\n",
            "================================================================================\n"
          ],
          "name": "stdout"
        },
        {
          "output_type": "display_data",
          "data": {
            "application/vnd.google.colaboratory.intrinsic+json": {
              "type": "string"
            },
            "text/plain": [
              "'Epoch: 0009, Total Run Time: 00:00:50 - Loss: 2.3026e-12, Accuracy: 0.103, Test Loss: 2.3026e-12, Test Accuracy: 0.108 - L2 Norm of Weight Movement From Initialization: [0.0, 0.0, 0.0, 0.0]'"
            ]
          },
          "metadata": {
            "tags": []
          }
        },
        {
          "output_type": "stream",
          "text": [
            "\n",
            "max training accuracy 0.10344000160694122\n",
            "min training loss 2.3025997341469262e-12\n",
            "max validation accuracy 0.10809999704360962\n",
            "min validation loss 2.302588675284767e-12\n",
            "\n",
            "l2-normed weight changes from initial values after last epoch:\n",
            "[0.0, 0.0, 0.0, 0.0]\n",
            "================================================================================\n",
            "opt = sgd, lr = 0.010000, alpha = 100000.000000\n",
            "================================================================================\n"
          ],
          "name": "stdout"
        },
        {
          "output_type": "display_data",
          "data": {
            "application/vnd.google.colaboratory.intrinsic+json": {
              "type": "string"
            },
            "text/plain": [
              "'Epoch: 0009, Total Run Time: 00:00:46 - Loss: 2.3026e-10, Accuracy: 0.101, Test Loss: 2.3026e-10, Test Accuracy: 0.102 - L2 Norm of Weight Movement From Initialization: [0.0, 0.0, 0.0, 0.0]'"
            ]
          },
          "metadata": {
            "tags": []
          }
        },
        {
          "output_type": "stream",
          "text": [
            "\n",
            "max training accuracy 0.10080000013113022\n",
            "min training loss 2.3026328066499957e-10\n",
            "max validation accuracy 0.10180000215768814\n",
            "min validation loss 2.3025850670599368e-10\n",
            "\n",
            "l2-normed weight changes from initial values after last epoch:\n",
            "[0.0, 0.0, 0.0, 0.0]\n",
            "================================================================================\n",
            "opt = sgd, lr = 0.010000, alpha = 10000.000000\n",
            "================================================================================\n"
          ],
          "name": "stdout"
        },
        {
          "output_type": "display_data",
          "data": {
            "application/vnd.google.colaboratory.intrinsic+json": {
              "type": "string"
            },
            "text/plain": [
              "'Epoch: 0009, Total Run Time: 00:00:46 - Loss: 2.3026e-08, Accuracy: 0.094, Test Loss: 2.3026e-08, Test Accuracy: 0.090 - L2 Norm of Weight Movement From Initialization: [0.0, 0.0, 0.0, 0.0]'"
            ]
          },
          "metadata": {
            "tags": []
          }
        },
        {
          "output_type": "stream",
          "text": [
            "\n",
            "max training accuracy 0.094480000436306\n",
            "min training loss 2.3025949147381652e-08\n",
            "max validation accuracy 0.09030000120401382\n",
            "min validation loss 2.3025791051622946e-08\n",
            "\n",
            "l2-normed weight changes from initial values after last epoch:\n",
            "[0.0, 0.0, 0.0, 0.0]\n",
            "================================================================================\n",
            "opt = sgd, lr = 0.010000, alpha = 1000.000000\n",
            "================================================================================\n"
          ],
          "name": "stdout"
        },
        {
          "output_type": "display_data",
          "data": {
            "application/vnd.google.colaboratory.intrinsic+json": {
              "type": "string"
            },
            "text/plain": [
              "'Epoch: 0009, Total Run Time: 00:00:46 - Loss: 2.3026e-06, Accuracy: 0.098, Test Loss: 2.3026e-06, Test Accuracy: 0.097 - L2 Norm of Weight Movement From Initialization: [0.0, 0.0, 0.0, 0.0]'"
            ]
          },
          "metadata": {
            "tags": []
          }
        },
        {
          "output_type": "stream",
          "text": [
            "\n",
            "max training accuracy 0.09839999675750732\n",
            "min training loss 2.302632083228673e-06\n",
            "max validation accuracy 0.09740000218153\n",
            "min validation loss 2.3025800146569964e-06\n",
            "\n",
            "l2-normed weight changes from initial values after last epoch:\n",
            "[0.0, 0.0, 0.0, 0.0]\n",
            "================================================================================\n",
            "opt = sgd, lr = 0.010000, alpha = 100.000000\n",
            "================================================================================\n"
          ],
          "name": "stdout"
        },
        {
          "output_type": "display_data",
          "data": {
            "application/vnd.google.colaboratory.intrinsic+json": {
              "type": "string"
            },
            "text/plain": [
              "'Epoch: 0009, Total Run Time: 00:00:44 - Loss: 2.3026e-04, Accuracy: 0.109, Test Loss: 2.3026e-04, Test Accuracy: 0.109 - L2 Norm of Weight Movement From Initialization: [0.0, 0.0, 0.0, 0.0]'"
            ]
          },
          "metadata": {
            "tags": []
          }
        },
        {
          "output_type": "stream",
          "text": [
            "\n",
            "max training accuracy 0.1092199981212616\n",
            "min training loss 0.0002302551583852619\n",
            "max validation accuracy 0.10909999907016754\n",
            "min validation loss 0.0002302593638887629\n",
            "\n",
            "l2-normed weight changes from initial values after last epoch:\n",
            "[0.0, 0.0, 0.0, 0.0]\n",
            "================================================================================\n",
            "opt = sgd, lr = 0.010000, alpha = 10.000000\n",
            "================================================================================\n"
          ],
          "name": "stdout"
        },
        {
          "output_type": "display_data",
          "data": {
            "application/vnd.google.colaboratory.intrinsic+json": {
              "type": "string"
            },
            "text/plain": [
              "'Epoch: 0009, Total Run Time: 00:00:45 - Loss: 1.9162e-02, Accuracy: 0.200, Test Loss: 1.9095e-02, Test Accuracy: 0.210 - L2 Norm of Weight Movement From Initialization: [1.69165, 0.14758249, 0.65157443, 0.14894329]'"
            ]
          },
          "metadata": {
            "tags": []
          }
        },
        {
          "output_type": "stream",
          "text": [
            "\n",
            "max training accuracy 0.19957999885082245\n",
            "min training loss 0.019161611795425415\n",
            "max validation accuracy 0.2101999968290329\n",
            "min validation loss 0.019095223397016525\n",
            "\n",
            "l2-normed weight changes from initial values after last epoch:\n",
            "[1.69165, 0.14758249, 0.65157443, 0.14894329]\n",
            "================================================================================\n",
            "opt = sgd, lr = 0.010000, alpha = 5.000000\n",
            "================================================================================\n"
          ],
          "name": "stdout"
        },
        {
          "output_type": "display_data",
          "data": {
            "application/vnd.google.colaboratory.intrinsic+json": {
              "type": "string"
            },
            "text/plain": [
              "'Epoch: 0009, Total Run Time: 00:00:46 - Loss: 6.5288e-02, Accuracy: 0.420, Test Loss: 6.5596e-02, Test Accuracy: 0.421 - L2 Norm of Weight Movement From Initialization: [3.779057, 0.42760393, 1.8717364, 0.36189264]'"
            ]
          },
          "metadata": {
            "tags": []
          }
        },
        {
          "output_type": "stream",
          "text": [
            "\n",
            "max training accuracy 0.4198800027370453\n",
            "min training loss 0.0652879998087883\n",
            "max validation accuracy 0.4214000105857849\n",
            "min validation loss 0.06559550017118454\n",
            "\n",
            "l2-normed weight changes from initial values after last epoch:\n",
            "[3.779057, 0.42760393, 1.8717364, 0.36189264]\n",
            "================================================================================\n",
            "opt = sgd, lr = 0.010000, alpha = 1.000000\n",
            "================================================================================\n"
          ],
          "name": "stdout"
        },
        {
          "output_type": "display_data",
          "data": {
            "application/vnd.google.colaboratory.intrinsic+json": {
              "type": "string"
            },
            "text/plain": [
              "'Epoch: 0009, Total Run Time: 00:00:48 - Loss: 1.7178e+00, Accuracy: 0.383, Test Loss: 1.7821e+00, Test Accuracy: 0.368 - L2 Norm of Weight Movement From Initialization: [13.247671, 2.9822862, 2.2227376, 3.1047251]'"
            ]
          },
          "metadata": {
            "tags": []
          }
        },
        {
          "output_type": "stream",
          "text": [
            "\n",
            "max training accuracy 0.3833799958229065\n",
            "min training loss 1.7177767753601074\n",
            "max validation accuracy 0.3727000057697296\n",
            "min validation loss 1.7324427366256714\n",
            "\n",
            "l2-normed weight changes from initial values after last epoch:\n",
            "[13.247671, 2.9822862, 2.2227376, 3.1047251]\n",
            "================================================================================\n",
            "opt = sgd, lr = 0.010000, alpha = 0.500000\n",
            "================================================================================\n"
          ],
          "name": "stdout"
        },
        {
          "output_type": "display_data",
          "data": {
            "application/vnd.google.colaboratory.intrinsic+json": {
              "type": "string"
            },
            "text/plain": [
              "'Epoch: 0009, Total Run Time: 00:00:47 - Loss: 9.2223e+00, Accuracy: 0.099, Test Loss: 9.2176e+00, Test Accuracy: 0.100 - L2 Norm of Weight Movement From Initialization: [6.812647, 0.42942634, 2.6451435, 0.19117646]'"
            ]
          },
          "metadata": {
            "tags": []
          }
        },
        {
          "output_type": "stream",
          "text": [
            "\n",
            "max training accuracy 0.10875999927520752\n",
            "min training loss 9.167901039123535\n",
            "max validation accuracy 0.12300000339746475\n",
            "min validation loss 9.055254936218262\n",
            "\n",
            "l2-normed weight changes from initial values after last epoch:\n",
            "[6.812647, 0.42942634, 2.6451435, 0.19117646]\n",
            "================================================================================\n",
            "opt = sgd, lr = 0.010000, alpha = 0.100000\n",
            "================================================================================\n"
          ],
          "name": "stdout"
        },
        {
          "output_type": "display_data",
          "data": {
            "application/vnd.google.colaboratory.intrinsic+json": {
              "type": "string"
            },
            "text/plain": [
              "'Epoch: 0009, Total Run Time: 00:00:49 - Loss: 1.2434e+03, Accuracy: 0.100, Test Loss: 1.2434e+03, Test Accuracy: 0.100 - L2 Norm of Weight Movement From Initialization: [69.04085, 2.2613008, 7.2700424, 2.1453192]'"
            ]
          },
          "metadata": {
            "tags": []
          }
        },
        {
          "output_type": "stream",
          "text": [
            "\n",
            "max training accuracy 0.10000000149011612\n",
            "min training loss 1242.8170166015625\n",
            "max validation accuracy 0.10000000149011612\n",
            "min validation loss 1243.396728515625\n",
            "\n",
            "l2-normed weight changes from initial values after last epoch:\n",
            "[69.04085, 2.2613008, 7.2700424, 2.1453192]\n",
            "================================================================================\n",
            "opt = sgd, lr = 0.010000, alpha = 0.010000\n",
            "================================================================================\n"
          ],
          "name": "stdout"
        },
        {
          "output_type": "display_data",
          "data": {
            "application/vnd.google.colaboratory.intrinsic+json": {
              "type": "string"
            },
            "text/plain": [
              "'Epoch: 0009, Total Run Time: 00:00:46 - Loss: 1.0362e+05, Accuracy: 0.100, Test Loss: 1.0362e+05, Test Accuracy: 0.100 - L2 Norm of Weight Movement From Initialization: [10157.753, 351.99518, 1353.956, 311.5324]'"
            ]
          },
          "metadata": {
            "tags": []
          }
        },
        {
          "output_type": "stream",
          "text": [
            "\n",
            "max training accuracy 0.10000000149011612\n",
            "min training loss 103575.953125\n",
            "max validation accuracy 0.10000000149011612\n",
            "min validation loss 103617.0703125\n",
            "\n",
            "l2-normed weight changes from initial values after last epoch:\n",
            "[10157.753, 351.99518, 1353.956, 311.5324]\n",
            "================================================================================\n",
            "opt = sgd, lr = 0.001000, alpha = 10000000.000000\n",
            "================================================================================\n"
          ],
          "name": "stdout"
        },
        {
          "output_type": "display_data",
          "data": {
            "application/vnd.google.colaboratory.intrinsic+json": {
              "type": "string"
            },
            "text/plain": [
              "'Epoch: 0009, Total Run Time: 00:00:44 - Loss: 2.3026e-14, Accuracy: 0.077, Test Loss: 2.3026e-14, Test Accuracy: 0.079 - L2 Norm of Weight Movement From Initialization: [0.0, 0.0, 0.0, 0.0]'"
            ]
          },
          "metadata": {
            "tags": []
          }
        },
        {
          "output_type": "stream",
          "text": [
            "\n",
            "max training accuracy 0.07699999958276749\n",
            "min training loss 2.3025665711129753e-14\n",
            "max validation accuracy 0.07909999787807465\n",
            "min validation loss 2.3025850364312254e-14\n",
            "\n",
            "l2-normed weight changes from initial values after last epoch:\n",
            "[0.0, 0.0, 0.0, 0.0]\n",
            "================================================================================\n",
            "opt = sgd, lr = 0.001000, alpha = 1000000.000000\n",
            "================================================================================\n"
          ],
          "name": "stdout"
        },
        {
          "output_type": "display_data",
          "data": {
            "application/vnd.google.colaboratory.intrinsic+json": {
              "type": "string"
            },
            "text/plain": [
              "'Epoch: 0009, Total Run Time: 00:00:45 - Loss: 2.3026e-12, Accuracy: 0.092, Test Loss: 2.3026e-12, Test Accuracy: 0.091 - L2 Norm of Weight Movement From Initialization: [0.0, 0.0, 0.0, 0.0]'"
            ]
          },
          "metadata": {
            "tags": []
          }
        },
        {
          "output_type": "stream",
          "text": [
            "\n",
            "max training accuracy 0.09192000329494476\n",
            "min training loss 2.3025997341469262e-12\n",
            "max validation accuracy 0.09059999883174896\n",
            "min validation loss 2.302588675284767e-12\n",
            "\n",
            "l2-normed weight changes from initial values after last epoch:\n",
            "[0.0, 0.0, 0.0, 0.0]\n",
            "================================================================================\n",
            "opt = sgd, lr = 0.001000, alpha = 100000.000000\n",
            "================================================================================\n"
          ],
          "name": "stdout"
        },
        {
          "output_type": "display_data",
          "data": {
            "application/vnd.google.colaboratory.intrinsic+json": {
              "type": "string"
            },
            "text/plain": [
              "'Epoch: 0009, Total Run Time: 00:00:46 - Loss: 2.3026e-10, Accuracy: 0.085, Test Loss: 2.3026e-10, Test Accuracy: 0.086 - L2 Norm of Weight Movement From Initialization: [0.0, 0.0, 0.0, 0.0]'"
            ]
          },
          "metadata": {
            "tags": []
          }
        },
        {
          "output_type": "stream",
          "text": [
            "\n",
            "max training accuracy 0.0853400006890297\n",
            "min training loss 2.3026328066499957e-10\n",
            "max validation accuracy 0.08609999716281891\n",
            "min validation loss 2.3025850670599368e-10\n",
            "\n",
            "l2-normed weight changes from initial values after last epoch:\n",
            "[0.0, 0.0, 0.0, 0.0]\n",
            "================================================================================\n",
            "opt = sgd, lr = 0.001000, alpha = 10000.000000\n",
            "================================================================================\n"
          ],
          "name": "stdout"
        },
        {
          "output_type": "display_data",
          "data": {
            "application/vnd.google.colaboratory.intrinsic+json": {
              "type": "string"
            },
            "text/plain": [
              "'Epoch: 0009, Total Run Time: 00:00:46 - Loss: 2.3026e-08, Accuracy: 0.100, Test Loss: 2.3026e-08, Test Accuracy: 0.098 - L2 Norm of Weight Movement From Initialization: [0.0, 0.0, 0.0, 0.0]'"
            ]
          },
          "metadata": {
            "tags": []
          }
        },
        {
          "output_type": "stream",
          "text": [
            "\n",
            "max training accuracy 0.100040003657341\n",
            "min training loss 2.3025949147381652e-08\n",
            "max validation accuracy 0.09790000319480896\n",
            "min validation loss 2.3025791051622946e-08\n",
            "\n",
            "l2-normed weight changes from initial values after last epoch:\n",
            "[0.0, 0.0, 0.0, 0.0]\n",
            "================================================================================\n",
            "opt = sgd, lr = 0.001000, alpha = 1000.000000\n",
            "================================================================================\n"
          ],
          "name": "stdout"
        },
        {
          "output_type": "display_data",
          "data": {
            "application/vnd.google.colaboratory.intrinsic+json": {
              "type": "string"
            },
            "text/plain": [
              "'Epoch: 0009, Total Run Time: 00:00:46 - Loss: 2.3026e-06, Accuracy: 0.095, Test Loss: 2.3026e-06, Test Accuracy: 0.096 - L2 Norm of Weight Movement From Initialization: [0.0, 0.0, 0.0, 0.0]'"
            ]
          },
          "metadata": {
            "tags": []
          }
        },
        {
          "output_type": "stream",
          "text": [
            "\n",
            "max training accuracy 0.09474000334739685\n",
            "min training loss 2.302632083228673e-06\n",
            "max validation accuracy 0.09600000083446503\n",
            "min validation loss 2.3025800146569964e-06\n",
            "\n",
            "l2-normed weight changes from initial values after last epoch:\n",
            "[0.0, 0.0, 0.0, 0.0]\n",
            "================================================================================\n",
            "opt = sgd, lr = 0.001000, alpha = 100.000000\n",
            "================================================================================\n"
          ],
          "name": "stdout"
        },
        {
          "output_type": "display_data",
          "data": {
            "application/vnd.google.colaboratory.intrinsic+json": {
              "type": "string"
            },
            "text/plain": [
              "'Epoch: 0009, Total Run Time: 00:00:46 - Loss: 2.3026e-04, Accuracy: 0.114, Test Loss: 2.3026e-04, Test Accuracy: 0.117 - L2 Norm of Weight Movement From Initialization: [0.0, 0.0, 0.0, 0.0]'"
            ]
          },
          "metadata": {
            "tags": []
          }
        },
        {
          "output_type": "stream",
          "text": [
            "\n",
            "max training accuracy 0.11448000371456146\n",
            "min training loss 0.0002302551583852619\n",
            "max validation accuracy 0.11699999868869781\n",
            "min validation loss 0.0002302593638887629\n",
            "\n",
            "l2-normed weight changes from initial values after last epoch:\n",
            "[0.0, 0.0, 0.0, 0.0]\n",
            "================================================================================\n",
            "opt = sgd, lr = 0.001000, alpha = 10.000000\n",
            "================================================================================\n"
          ],
          "name": "stdout"
        },
        {
          "output_type": "display_data",
          "data": {
            "application/vnd.google.colaboratory.intrinsic+json": {
              "type": "string"
            },
            "text/plain": [
              "'Epoch: 0009, Total Run Time: 00:00:48 - Loss: 2.1392e-02, Accuracy: 0.087, Test Loss: 2.1353e-02, Test Accuracy: 0.090 - L2 Norm of Weight Movement From Initialization: [0.43189716, 0.016479632, 0.09886324, 0.02174516]'"
            ]
          },
          "metadata": {
            "tags": []
          }
        },
        {
          "output_type": "stream",
          "text": [
            "\n",
            "max training accuracy 0.10029999911785126\n",
            "min training loss 0.021392416208982468\n",
            "max validation accuracy 0.10119999945163727\n",
            "min validation loss 0.021353216841816902\n",
            "\n",
            "l2-normed weight changes from initial values after last epoch:\n",
            "[0.43189716, 0.016479632, 0.09886324, 0.02174516]\n",
            "================================================================================\n",
            "opt = sgd, lr = 0.001000, alpha = 5.000000\n",
            "================================================================================\n"
          ],
          "name": "stdout"
        },
        {
          "output_type": "display_data",
          "data": {
            "application/vnd.google.colaboratory.intrinsic+json": {
              "type": "string"
            },
            "text/plain": [
              "'Epoch: 0009, Total Run Time: 00:00:49 - Loss: 7.5305e-02, Accuracy: 0.338, Test Loss: 7.5469e-02, Test Accuracy: 0.322 - L2 Norm of Weight Movement From Initialization: [1.2281338, 0.06536366, 0.4421587, 0.07780786]'"
            ]
          },
          "metadata": {
            "tags": []
          }
        },
        {
          "output_type": "stream",
          "text": [
            "\n",
            "max training accuracy 0.3384999930858612\n",
            "min training loss 0.07530481368303299\n",
            "max validation accuracy 0.3253999948501587\n",
            "min validation loss 0.0754685178399086\n",
            "\n",
            "l2-normed weight changes from initial values after last epoch:\n",
            "[1.2281338, 0.06536366, 0.4421587, 0.07780786]\n",
            "================================================================================\n",
            "opt = sgd, lr = 0.001000, alpha = 1.000000\n",
            "================================================================================\n"
          ],
          "name": "stdout"
        },
        {
          "output_type": "display_data",
          "data": {
            "application/vnd.google.colaboratory.intrinsic+json": {
              "type": "string"
            },
            "text/plain": [
              "'Epoch: 0009, Total Run Time: 00:00:47 - Loss: 1.4605e+00, Accuracy: 0.488, Test Loss: 1.4940e+00, Test Accuracy: 0.468 - L2 Norm of Weight Movement From Initialization: [6.272486, 0.9100276, 2.6379566, 0.9102471]'"
            ]
          },
          "metadata": {
            "tags": []
          }
        },
        {
          "output_type": "stream",
          "text": [
            "\n",
            "max training accuracy 0.48750001192092896\n",
            "min training loss 1.4605473279953003\n",
            "max validation accuracy 0.4677000045776367\n",
            "min validation loss 1.4939736127853394\n",
            "\n",
            "l2-normed weight changes from initial values after last epoch:\n",
            "[6.272486, 0.9100276, 2.6379566, 0.9102471]\n",
            "================================================================================\n",
            "opt = sgd, lr = 0.001000, alpha = 0.500000\n",
            "================================================================================\n"
          ],
          "name": "stdout"
        },
        {
          "output_type": "display_data",
          "data": {
            "application/vnd.google.colaboratory.intrinsic+json": {
              "type": "string"
            },
            "text/plain": [
              "'Epoch: 0009, Total Run Time: 00:00:47 - Loss: 6.1231e+00, Accuracy: 0.455, Test Loss: 6.2871e+00, Test Accuracy: 0.445 - L2 Norm of Weight Movement From Initialization: [10.945328, 1.7978578, 2.5358744, 2.3660274]'"
            ]
          },
          "metadata": {
            "tags": []
          }
        },
        {
          "output_type": "stream",
          "text": [
            "\n",
            "max training accuracy 0.45451998710632324\n",
            "min training loss 6.123098850250244\n",
            "max validation accuracy 0.4447000026702881\n",
            "min validation loss 6.286983966827393\n",
            "\n",
            "l2-normed weight changes from initial values after last epoch:\n",
            "[10.945328, 1.7978578, 2.5358744, 2.3660274]\n",
            "================================================================================\n",
            "opt = sgd, lr = 0.001000, alpha = 0.100000\n",
            "================================================================================\n"
          ],
          "name": "stdout"
        },
        {
          "output_type": "display_data",
          "data": {
            "application/vnd.google.colaboratory.intrinsic+json": {
              "type": "string"
            },
            "text/plain": [
              "'Epoch: 0009, Total Run Time: 00:00:46 - Loss: 2.3104e+02, Accuracy: 0.099, Test Loss: 2.3058e+02, Test Accuracy: 0.100 - L2 Norm of Weight Movement From Initialization: [25.359215, 0.89406925, 17.915815, 0.25575876]'"
            ]
          },
          "metadata": {
            "tags": []
          }
        },
        {
          "output_type": "stream",
          "text": [
            "\n",
            "max training accuracy 0.10255999863147736\n",
            "min training loss 230.9173126220703\n",
            "max validation accuracy 0.10000000149011612\n",
            "min validation loss 230.57913208007812\n",
            "\n",
            "l2-normed weight changes from initial values after last epoch:\n",
            "[25.359215, 0.89406925, 17.915815, 0.25575876]\n",
            "================================================================================\n",
            "opt = sgd, lr = 0.001000, alpha = 0.010000\n",
            "================================================================================\n"
          ],
          "name": "stdout"
        },
        {
          "output_type": "display_data",
          "data": {
            "application/vnd.google.colaboratory.intrinsic+json": {
              "type": "string"
            },
            "text/plain": [
              "'Epoch: 0009, Total Run Time: 00:00:45 - Loss: 1.0362e+05, Accuracy: 0.100, Test Loss: 1.0362e+05, Test Accuracy: 0.100 - L2 Norm of Weight Movement From Initialization: [524.8614, 22.775066, 73.9547, 19.422792]'"
            ]
          },
          "metadata": {
            "tags": []
          }
        },
        {
          "output_type": "stream",
          "text": [
            "\n",
            "max training accuracy 0.10000000149011612\n",
            "min training loss 103571.109375\n",
            "max validation accuracy 0.10000000149011612\n",
            "min validation loss 103617.0703125\n",
            "\n",
            "l2-normed weight changes from initial values after last epoch:\n",
            "[524.8614, 22.775066, 73.9547, 19.422792]\n"
          ],
          "name": "stdout"
        }
      ]
    },
    {
      "cell_type": "code",
      "metadata": {
        "colab": {
          "base_uri": "https://localhost:8080/",
          "height": 1000
        },
        "id": "p8cwtl00CCIs",
        "outputId": "ced39480-b14c-4648-e776-295efbb49f5f"
      },
      "source": [
        "lrs = [1.0, 0.1, 0.01, 0.001]\n",
        "alphas = [20000.0, 1000.0, 100.0, 80.0, 60.0, 40.0, 30.0, 20.0, 10.0, 9.0, 8.0, 7.0, 6.0, 5.0, 4.0, 3.0, 2.0, 1.0, 0.8, 0.6, 0.4, 0.2, 0.1, 0.07, 0.04, 0.01, 0.001]\n",
        "normed_weight_changes = {}\n",
        "optimizer = 'sgd'\n",
        "num_epochs = 10\n",
        "for learning_rate in lrs:\n",
        "  for alpha_val in alphas:\n",
        "    print('='*80)\n",
        "    print('opt = %s, lr = %f, alpha = %f' %(optimizer, learning_rate, alpha_val))\n",
        "    print('='*80)\n",
        "    normed_weight_changes[(optimizer, learning_rate, alpha_val)] = train(alpha=alpha_val, epoch=num_epochs, opt=optimizer, lr=learning_rate, scaling=True)"
      ],
      "execution_count": 8,
      "outputs": [
        {
          "output_type": "stream",
          "text": [
            "================================================================================\n",
            "opt = sgd, lr = 1.000000, alpha = 20000.000000\n",
            "================================================================================\n"
          ],
          "name": "stdout"
        },
        {
          "output_type": "display_data",
          "data": {
            "application/vnd.google.colaboratory.intrinsic+json": {
              "type": "string"
            },
            "text/plain": [
              "'Epoch: 0009, Total Run Time: 00:01:01 - Loss: 5.7565e-09, Accuracy: 0.106, Test Loss: 5.7564e-09, Test Accuracy: 0.102 - L2 Norm of Weight Movement From Initialization: [0.0, 0.0, 0.0, 0.0]'"
            ]
          },
          "metadata": {
            "tags": []
          }
        },
        {
          "output_type": "stream",
          "text": [
            "\n",
            "max training accuracy 0.10608000308275223\n",
            "min training loss 5.756487286845413e-09\n",
            "max validation accuracy 0.10189999639987946\n",
            "min validation loss 5.7564477629057365e-09\n",
            "\n",
            "l2-normed weight changes from initial values after last epoch:\n",
            "[0.0, 0.0, 0.0, 0.0]\n",
            "================================================================================\n",
            "opt = sgd, lr = 1.000000, alpha = 1000.000000\n",
            "================================================================================\n"
          ],
          "name": "stdout"
        },
        {
          "output_type": "display_data",
          "data": {
            "application/vnd.google.colaboratory.intrinsic+json": {
              "type": "string"
            },
            "text/plain": [
              "'Epoch: 0009, Total Run Time: 00:01:03 - Loss: 2.3026e-06, Accuracy: 0.113, Test Loss: 2.3026e-06, Test Accuracy: 0.115 - L2 Norm of Weight Movement From Initialization: [0.0, 0.0, 0.0, 0.0]'"
            ]
          },
          "metadata": {
            "tags": []
          }
        },
        {
          "output_type": "stream",
          "text": [
            "\n",
            "max training accuracy 0.11259999871253967\n",
            "min training loss 2.302632083228673e-06\n",
            "max validation accuracy 0.1151999980211258\n",
            "min validation loss 2.3025800146569964e-06\n",
            "\n",
            "l2-normed weight changes from initial values after last epoch:\n",
            "[0.0, 0.0, 0.0, 0.0]\n",
            "================================================================================\n",
            "opt = sgd, lr = 1.000000, alpha = 100.000000\n",
            "================================================================================\n"
          ],
          "name": "stdout"
        },
        {
          "output_type": "display_data",
          "data": {
            "application/vnd.google.colaboratory.intrinsic+json": {
              "type": "string"
            },
            "text/plain": [
              "'Epoch: 0009, Total Run Time: 00:01:01 - Loss: 2.2452e-04, Accuracy: 0.131, Test Loss: 2.2451e-04, Test Accuracy: 0.140 - L2 Norm of Weight Movement From Initialization: [0.68474156, 0.06128573, 0.22278644, 0.060494028]'"
            ]
          },
          "metadata": {
            "tags": []
          }
        },
        {
          "output_type": "stream",
          "text": [
            "\n",
            "max training accuracy 0.13106000423431396\n",
            "min training loss 0.00022451694530900568\n",
            "max validation accuracy 0.1396999955177307\n",
            "min validation loss 0.00022451221593655646\n",
            "\n",
            "l2-normed weight changes from initial values after last epoch:\n",
            "[0.68474156, 0.06128573, 0.22278644, 0.060494028]\n",
            "================================================================================\n",
            "opt = sgd, lr = 1.000000, alpha = 80.000000\n",
            "================================================================================\n"
          ],
          "name": "stdout"
        },
        {
          "output_type": "display_data",
          "data": {
            "application/vnd.google.colaboratory.intrinsic+json": {
              "type": "string"
            },
            "text/plain": [
              "'Epoch: 0009, Total Run Time: 00:00:55 - Loss: 3.5977e-04, Accuracy: 0.103, Test Loss: 3.5978e-04, Test Accuracy: 0.101 - L2 Norm of Weight Movement From Initialization: [0.020813564, 0.00036608937, 0.002504848, 0.0002190831]'"
            ]
          },
          "metadata": {
            "tags": []
          }
        },
        {
          "output_type": "stream",
          "text": [
            "\n",
            "max training accuracy 0.10345999896526337\n",
            "min training loss 0.00035977360676042736\n",
            "max validation accuracy 0.1014999970793724\n",
            "min validation loss 0.0003597791073843837\n",
            "\n",
            "l2-normed weight changes from initial values after last epoch:\n",
            "[0.020813564, 0.00036608937, 0.002504848, 0.0002190831]\n",
            "================================================================================\n",
            "opt = sgd, lr = 1.000000, alpha = 60.000000\n",
            "================================================================================\n"
          ],
          "name": "stdout"
        },
        {
          "output_type": "display_data",
          "data": {
            "application/vnd.google.colaboratory.intrinsic+json": {
              "type": "string"
            },
            "text/plain": [
              "'Epoch: 0009, Total Run Time: 00:00:57 - Loss: 5.9156e-04, Accuracy: 0.070, Test Loss: 5.9200e-04, Test Accuracy: 0.070 - L2 Norm of Weight Movement From Initialization: [1.4477499, 0.18152007, 0.60584956, 0.17281352]'"
            ]
          },
          "metadata": {
            "tags": []
          }
        },
        {
          "output_type": "stream",
          "text": [
            "\n",
            "max training accuracy 0.09888000041246414\n",
            "min training loss 0.0005915614892728627\n",
            "max validation accuracy 0.09700000286102295\n",
            "min validation loss 0.0005919969989918172\n",
            "\n",
            "l2-normed weight changes from initial values after last epoch:\n",
            "[1.4477499, 0.18152007, 0.60584956, 0.17281352]\n",
            "================================================================================\n",
            "opt = sgd, lr = 1.000000, alpha = 40.000000\n",
            "================================================================================\n"
          ],
          "name": "stdout"
        },
        {
          "output_type": "display_data",
          "data": {
            "application/vnd.google.colaboratory.intrinsic+json": {
              "type": "string"
            },
            "text/plain": [
              "'Epoch: 0009, Total Run Time: 00:01:00 - Loss: 1.4016e-03, Accuracy: 0.092, Test Loss: 1.3739e-03, Test Accuracy: 0.084 - L2 Norm of Weight Movement From Initialization: [0.81815594, 0.0848096, 0.19500084, 0.08900814]'"
            ]
          },
          "metadata": {
            "tags": []
          }
        },
        {
          "output_type": "stream",
          "text": [
            "\n",
            "max training accuracy 0.12008000165224075\n",
            "min training loss 0.0014015964698046446\n",
            "max validation accuracy 0.1324000060558319\n",
            "min validation loss 0.0013739463174715638\n",
            "\n",
            "l2-normed weight changes from initial values after last epoch:\n",
            "[0.81815594, 0.0848096, 0.19500084, 0.08900814]\n",
            "================================================================================\n",
            "opt = sgd, lr = 1.000000, alpha = 30.000000\n",
            "================================================================================\n"
          ],
          "name": "stdout"
        },
        {
          "output_type": "display_data",
          "data": {
            "application/vnd.google.colaboratory.intrinsic+json": {
              "type": "string"
            },
            "text/plain": [
              "'Epoch: 0009, Total Run Time: 00:00:58 - Loss: 1.9624e-03, Accuracy: 0.224, Test Loss: 2.0118e-03, Test Accuracy: 0.259 - L2 Norm of Weight Movement From Initialization: [5.250973, 0.6217295, 2.7605786, 1.0026412]'"
            ]
          },
          "metadata": {
            "tags": []
          }
        },
        {
          "output_type": "stream",
          "text": [
            "\n",
            "max training accuracy 0.22416000068187714\n",
            "min training loss 0.0019623825792223215\n",
            "max validation accuracy 0.2590999901294708\n",
            "min validation loss 0.0019937672186642885\n",
            "\n",
            "l2-normed weight changes from initial values after last epoch:\n",
            "[5.250973, 0.6217295, 2.7605786, 1.0026412]\n",
            "================================================================================\n",
            "opt = sgd, lr = 1.000000, alpha = 20.000000\n",
            "================================================================================\n"
          ],
          "name": "stdout"
        },
        {
          "output_type": "display_data",
          "data": {
            "application/vnd.google.colaboratory.intrinsic+json": {
              "type": "string"
            },
            "text/plain": [
              "'Epoch: 0009, Total Run Time: 00:00:59 - Loss: 4.0943e-03, Accuracy: 0.423, Test Loss: 4.1619e-03, Test Accuracy: 0.423 - L2 Norm of Weight Movement From Initialization: [9.140864, 1.1357388, 3.683684, 0.96537554]'"
            ]
          },
          "metadata": {
            "tags": []
          }
        },
        {
          "output_type": "stream",
          "text": [
            "\n",
            "max training accuracy 0.42309999465942383\n",
            "min training loss 0.004094340838491917\n",
            "max validation accuracy 0.42250001430511475\n",
            "min validation loss 0.00416187196969986\n",
            "\n",
            "l2-normed weight changes from initial values after last epoch:\n",
            "[9.140864, 1.1357388, 3.683684, 0.96537554]\n",
            "================================================================================\n",
            "opt = sgd, lr = 1.000000, alpha = 10.000000\n",
            "================================================================================\n"
          ],
          "name": "stdout"
        },
        {
          "output_type": "display_data",
          "data": {
            "application/vnd.google.colaboratory.intrinsic+json": {
              "type": "string"
            },
            "text/plain": [
              "'Epoch: 0009, Total Run Time: 00:00:57 - Loss: 1.8194e-02, Accuracy: 0.321, Test Loss: 1.8235e-02, Test Accuracy: 0.335 - L2 Norm of Weight Movement From Initialization: [11.933597, 2.267309, 2.408033, 3.4048178]'"
            ]
          },
          "metadata": {
            "tags": []
          }
        },
        {
          "output_type": "stream",
          "text": [
            "\n",
            "max training accuracy 0.32133999466896057\n",
            "min training loss 0.018193619325757027\n",
            "max validation accuracy 0.3345000147819519\n",
            "min validation loss 0.018234586343169212\n",
            "\n",
            "l2-normed weight changes from initial values after last epoch:\n",
            "[11.933597, 2.267309, 2.408033, 3.4048178]\n",
            "================================================================================\n",
            "opt = sgd, lr = 1.000000, alpha = 9.000000\n",
            "================================================================================\n"
          ],
          "name": "stdout"
        },
        {
          "output_type": "display_data",
          "data": {
            "application/vnd.google.colaboratory.intrinsic+json": {
              "type": "string"
            },
            "text/plain": [
              "'Epoch: 0009, Total Run Time: 00:00:48 - Loss: 2.1922e-02, Accuracy: 0.350, Test Loss: 2.2702e-02, Test Accuracy: 0.311 - L2 Norm of Weight Movement From Initialization: [14.473484, 2.8185508, 2.8190112, 4.142594]'"
            ]
          },
          "metadata": {
            "tags": []
          }
        },
        {
          "output_type": "stream",
          "text": [
            "\n",
            "max training accuracy 0.34964001178741455\n",
            "min training loss 0.021921848878264427\n",
            "max validation accuracy 0.3508000075817108\n",
            "min validation loss 0.021948199719190598\n",
            "\n",
            "l2-normed weight changes from initial values after last epoch:\n",
            "[14.473484, 2.8185508, 2.8190112, 4.142594]\n",
            "================================================================================\n",
            "opt = sgd, lr = 1.000000, alpha = 8.000000\n",
            "================================================================================\n"
          ],
          "name": "stdout"
        },
        {
          "output_type": "display_data",
          "data": {
            "application/vnd.google.colaboratory.intrinsic+json": {
              "type": "string"
            },
            "text/plain": [
              "'Epoch: 0009, Total Run Time: 00:00:49 - Loss: 2.9038e-02, Accuracy: 0.300, Test Loss: 2.8680e-02, Test Accuracy: 0.324 - L2 Norm of Weight Movement From Initialization: [13.996995, 3.2468293, 2.584002, 2.650785]'"
            ]
          },
          "metadata": {
            "tags": []
          }
        },
        {
          "output_type": "stream",
          "text": [
            "\n",
            "max training accuracy 0.3000600039958954\n",
            "min training loss 0.029037686064839363\n",
            "max validation accuracy 0.32429999113082886\n",
            "min validation loss 0.028680093586444855\n",
            "\n",
            "l2-normed weight changes from initial values after last epoch:\n",
            "[13.996995, 3.2468293, 2.584002, 2.650785]\n",
            "================================================================================\n",
            "opt = sgd, lr = 1.000000, alpha = 7.000000\n",
            "================================================================================\n"
          ],
          "name": "stdout"
        },
        {
          "output_type": "display_data",
          "data": {
            "application/vnd.google.colaboratory.intrinsic+json": {
              "type": "string"
            },
            "text/plain": [
              "'Epoch: 0009, Total Run Time: 00:00:51 - Loss: 3.9344e-02, Accuracy: 0.248, Test Loss: 3.9371e-02, Test Accuracy: 0.253 - L2 Norm of Weight Movement From Initialization: [13.309275, 3.6144874, 1.8896875, 3.3773122]'"
            ]
          },
          "metadata": {
            "tags": []
          }
        },
        {
          "output_type": "stream",
          "text": [
            "\n",
            "max training accuracy 0.24794000387191772\n",
            "min training loss 0.03934365510940552\n",
            "max validation accuracy 0.2581000030040741\n",
            "min validation loss 0.039214398711919785\n",
            "\n",
            "l2-normed weight changes from initial values after last epoch:\n",
            "[13.309275, 3.6144874, 1.8896875, 3.3773122]\n",
            "================================================================================\n",
            "opt = sgd, lr = 1.000000, alpha = 6.000000\n",
            "================================================================================\n"
          ],
          "name": "stdout"
        },
        {
          "output_type": "display_data",
          "data": {
            "application/vnd.google.colaboratory.intrinsic+json": {
              "type": "string"
            },
            "text/plain": [
              "'Epoch: 0009, Total Run Time: 00:00:49 - Loss: 5.9076e-02, Accuracy: 0.175, Test Loss: 6.1692e-02, Test Accuracy: 0.179 - L2 Norm of Weight Movement From Initialization: [12.204843, 1.6011443, 2.6020687, 1.3189007]'"
            ]
          },
          "metadata": {
            "tags": []
          }
        },
        {
          "output_type": "stream",
          "text": [
            "\n",
            "max training accuracy 0.19327999651432037\n",
            "min training loss 0.05851173773407936\n",
            "max validation accuracy 0.19740000367164612\n",
            "min validation loss 0.056341566145420074\n",
            "\n",
            "l2-normed weight changes from initial values after last epoch:\n",
            "[12.204843, 1.6011443, 2.6020687, 1.3189007]\n",
            "================================================================================\n",
            "opt = sgd, lr = 1.000000, alpha = 5.000000\n",
            "================================================================================\n"
          ],
          "name": "stdout"
        },
        {
          "output_type": "display_data",
          "data": {
            "application/vnd.google.colaboratory.intrinsic+json": {
              "type": "string"
            },
            "text/plain": [
              "'Epoch: 0009, Total Run Time: 00:00:48 - Loss: 9.2223e-02, Accuracy: 0.099, Test Loss: 9.2178e-02, Test Accuracy: 0.100 - L2 Norm of Weight Movement From Initialization: [5.362784, 0.19341625, 2.6222446, 0.19345966]'"
            ]
          },
          "metadata": {
            "tags": []
          }
        },
        {
          "output_type": "stream",
          "text": [
            "\n",
            "max training accuracy 0.10496000200510025\n",
            "min training loss 0.09189360588788986\n",
            "max validation accuracy 0.10000000149011612\n",
            "min validation loss 0.09215328097343445\n",
            "\n",
            "l2-normed weight changes from initial values after last epoch:\n",
            "[5.362784, 0.19341625, 2.6222446, 0.19345966]\n",
            "================================================================================\n",
            "opt = sgd, lr = 1.000000, alpha = 4.000000\n",
            "================================================================================\n"
          ],
          "name": "stdout"
        },
        {
          "output_type": "display_data",
          "data": {
            "application/vnd.google.colaboratory.intrinsic+json": {
              "type": "string"
            },
            "text/plain": [
              "'Epoch: 0009, Total Run Time: 00:00:52 - Loss: 1.4419e-01, Accuracy: 0.100, Test Loss: 1.4409e-01, Test Accuracy: 0.100 - L2 Norm of Weight Movement From Initialization: [6.7772055, 0.22017655, 2.6528208, 0.23961352]'"
            ]
          },
          "metadata": {
            "tags": []
          }
        },
        {
          "output_type": "stream",
          "text": [
            "\n",
            "max training accuracy 0.10481999814510345\n",
            "min training loss 0.14395739138126373\n",
            "max validation accuracy 0.10000000149011612\n",
            "min validation loss 0.14400887489318848\n",
            "\n",
            "l2-normed weight changes from initial values after last epoch:\n",
            "[6.7772055, 0.22017655, 2.6528208, 0.23961352]\n",
            "================================================================================\n",
            "opt = sgd, lr = 1.000000, alpha = 3.000000\n",
            "================================================================================\n"
          ],
          "name": "stdout"
        },
        {
          "output_type": "display_data",
          "data": {
            "application/vnd.google.colaboratory.intrinsic+json": {
              "type": "string"
            },
            "text/plain": [
              "'Epoch: 0009, Total Run Time: 00:00:47 - Loss: 1.6118e+00, Accuracy: 0.100, Test Loss: 1.6118e+00, Test Accuracy: 0.100 - L2 Norm of Weight Movement From Initialization: [16.435804, 0.5601467, 16.423609, 0.51729816]'"
            ]
          },
          "metadata": {
            "tags": []
          }
        },
        {
          "output_type": "stream",
          "text": [
            "\n",
            "max training accuracy 0.100040003657341\n",
            "min training loss 1.6092973947525024\n",
            "max validation accuracy 0.10000000149011612\n",
            "min validation loss 1.6118098497390747\n",
            "\n",
            "l2-normed weight changes from initial values after last epoch:\n",
            "[16.435804, 0.5601467, 16.423609, 0.51729816]\n",
            "================================================================================\n",
            "opt = sgd, lr = 1.000000, alpha = 2.000000\n",
            "================================================================================\n"
          ],
          "name": "stdout"
        },
        {
          "output_type": "display_data",
          "data": {
            "application/vnd.google.colaboratory.intrinsic+json": {
              "type": "string"
            },
            "text/plain": [
              "'Epoch: 0009, Total Run Time: 00:00:48 - Loss: 3.6266e+00, Accuracy: 0.100, Test Loss: 3.6266e+00, Test Accuracy: 0.100 - L2 Norm of Weight Movement From Initialization: [29.530716, 1.1123738, 51.807373, 1.9005119]'"
            ]
          },
          "metadata": {
            "tags": []
          }
        },
        {
          "output_type": "stream",
          "text": [
            "\n",
            "max training accuracy 0.10000000149011612\n",
            "min training loss 3.622891664505005\n",
            "max validation accuracy 0.10000000149011612\n",
            "min validation loss 3.6265671253204346\n",
            "\n",
            "l2-normed weight changes from initial values after last epoch:\n",
            "[29.530716, 1.1123738, 51.807373, 1.9005119]\n",
            "================================================================================\n",
            "opt = sgd, lr = 1.000000, alpha = 1.000000\n",
            "================================================================================\n"
          ],
          "name": "stdout"
        },
        {
          "output_type": "display_data",
          "data": {
            "application/vnd.google.colaboratory.intrinsic+json": {
              "type": "string"
            },
            "text/plain": [
              "'Epoch: 0009, Total Run Time: 00:00:46 - Loss: 1.4506e+01, Accuracy: 0.100, Test Loss: 1.4506e+01, Test Accuracy: 0.100 - L2 Norm of Weight Movement From Initialization: [47.57411, 1.5923578, 22.187862, 1.6518625]'"
            ]
          },
          "metadata": {
            "tags": []
          }
        },
        {
          "output_type": "stream",
          "text": [
            "\n",
            "max training accuracy 0.10000000149011612\n",
            "min training loss 14.499715805053711\n",
            "max validation accuracy 0.10000000149011612\n",
            "min validation loss 14.50627326965332\n",
            "\n",
            "l2-normed weight changes from initial values after last epoch:\n",
            "[47.57411, 1.5923578, 22.187862, 1.6518625]\n",
            "================================================================================\n",
            "opt = sgd, lr = 1.000000, alpha = 0.800000\n",
            "================================================================================\n"
          ],
          "name": "stdout"
        },
        {
          "output_type": "display_data",
          "data": {
            "application/vnd.google.colaboratory.intrinsic+json": {
              "type": "string"
            },
            "text/plain": [
              "'Epoch: 0009, Total Run Time: 00:00:47 - Loss: 2.2352e+01, Accuracy: 0.100, Test Loss: 2.2352e+01, Test Accuracy: 0.100 - L2 Norm of Weight Movement From Initialization: [91.49532, 2.948711, 17.438267, 3.687691]'"
            ]
          },
          "metadata": {
            "tags": []
          }
        },
        {
          "output_type": "stream",
          "text": [
            "\n",
            "max training accuracy 0.10000000149011612\n",
            "min training loss 22.34185791015625\n",
            "max validation accuracy 0.10000000149011612\n",
            "min validation loss 22.352264404296875\n",
            "\n",
            "l2-normed weight changes from initial values after last epoch:\n",
            "[91.49532, 2.948711, 17.438267, 3.687691]\n",
            "================================================================================\n",
            "opt = sgd, lr = 1.000000, alpha = 0.600000\n",
            "================================================================================\n"
          ],
          "name": "stdout"
        },
        {
          "output_type": "display_data",
          "data": {
            "application/vnd.google.colaboratory.intrinsic+json": {
              "type": "string"
            },
            "text/plain": [
              "'Epoch: 0009, Total Run Time: 00:00:47 - Loss: 3.9018e+01, Accuracy: 0.100, Test Loss: 3.9018e+01, Test Accuracy: 0.100 - L2 Norm of Weight Movement From Initialization: [156.5725, 4.6003084, 17.242233, 4.8498206]'"
            ]
          },
          "metadata": {
            "tags": []
          }
        },
        {
          "output_type": "stream",
          "text": [
            "\n",
            "max training accuracy 0.10000000149011612\n",
            "min training loss 38.998226165771484\n",
            "max validation accuracy 0.10000000149011612\n",
            "min validation loss 39.018157958984375\n",
            "\n",
            "l2-normed weight changes from initial values after last epoch:\n",
            "[156.5725, 4.6003084, 17.242233, 4.8498206]\n",
            "================================================================================\n",
            "opt = sgd, lr = 1.000000, alpha = 0.400000\n",
            "================================================================================\n"
          ],
          "name": "stdout"
        },
        {
          "output_type": "display_data",
          "data": {
            "application/vnd.google.colaboratory.intrinsic+json": {
              "type": "string"
            },
            "text/plain": [
              "'Epoch: 0009, Total Run Time: 00:00:46 - Loss: 8.5509e+01, Accuracy: 0.100, Test Loss: 8.5510e+01, Test Accuracy: 0.100 - L2 Norm of Weight Movement From Initialization: [314.52945, 10.748122, 52.516026, 10.180938]'"
            ]
          },
          "metadata": {
            "tags": []
          }
        },
        {
          "output_type": "stream",
          "text": [
            "\n",
            "max training accuracy 0.10000000149011612\n",
            "min training loss 85.4654769897461\n",
            "max validation accuracy 0.10000000149011612\n",
            "min validation loss 85.51007843017578\n",
            "\n",
            "l2-normed weight changes from initial values after last epoch:\n",
            "[314.52945, 10.748122, 52.516026, 10.180938]\n",
            "================================================================================\n",
            "opt = sgd, lr = 1.000000, alpha = 0.200000\n",
            "================================================================================\n"
          ],
          "name": "stdout"
        },
        {
          "output_type": "display_data",
          "data": {
            "application/vnd.google.colaboratory.intrinsic+json": {
              "type": "string"
            },
            "text/plain": [
              "'Epoch: 0009, Total Run Time: 00:00:47 - Loss: 3.2644e+02, Accuracy: 0.100, Test Loss: 3.2644e+02, Test Accuracy: 0.100 - L2 Norm of Weight Movement From Initialization: [1234.1603, 42.385532, 201.95984, 57.5798]'"
            ]
          },
          "metadata": {
            "tags": []
          }
        },
        {
          "output_type": "stream",
          "text": [
            "\n",
            "max training accuracy 0.10000000149011612\n",
            "min training loss 326.3004150390625\n",
            "max validation accuracy 0.10000000149011612\n",
            "min validation loss 326.44476318359375\n",
            "\n",
            "l2-normed weight changes from initial values after last epoch:\n",
            "[1234.1603, 42.385532, 201.95984, 57.5798]\n",
            "================================================================================\n",
            "opt = sgd, lr = 1.000000, alpha = 0.100000\n",
            "================================================================================\n"
          ],
          "name": "stdout"
        },
        {
          "output_type": "display_data",
          "data": {
            "application/vnd.google.colaboratory.intrinsic+json": {
              "type": "string"
            },
            "text/plain": [
              "'Epoch: 0009, Total Run Time: 00:00:50 - Loss: 1.2434e+03, Accuracy: 0.100, Test Loss: 1.2434e+03, Test Accuracy: 0.100 - L2 Norm of Weight Movement From Initialization: [7996.9116, 271.05765, 1219.1005, 290.3244]'"
            ]
          },
          "metadata": {
            "tags": []
          }
        },
        {
          "output_type": "stream",
          "text": [
            "\n",
            "max training accuracy 0.10000000149011612\n",
            "min training loss 1242.851318359375\n",
            "max validation accuracy 0.10000000149011612\n",
            "min validation loss 1243.396728515625\n",
            "\n",
            "l2-normed weight changes from initial values after last epoch:\n",
            "[7996.9116, 271.05765, 1219.1005, 290.3244]\n",
            "================================================================================\n",
            "opt = sgd, lr = 1.000000, alpha = 0.070000\n",
            "================================================================================\n"
          ],
          "name": "stdout"
        },
        {
          "output_type": "display_data",
          "data": {
            "application/vnd.google.colaboratory.intrinsic+json": {
              "type": "string"
            },
            "text/plain": [
              "'Epoch: 0009, Total Run Time: 00:00:53 - Loss: 2.4720e+03, Accuracy: 0.100, Test Loss: 2.4720e+03, Test Accuracy: 0.100 - L2 Norm of Weight Movement From Initialization: [10543.988, 317.61487, 1507.5032, 291.19934]'"
            ]
          },
          "metadata": {
            "tags": []
          }
        },
        {
          "output_type": "stream",
          "text": [
            "\n",
            "max training accuracy 0.10000000149011612\n",
            "min training loss 2470.890869140625\n",
            "max validation accuracy 0.10000000149011612\n",
            "min validation loss 2472.03662109375\n",
            "\n",
            "l2-normed weight changes from initial values after last epoch:\n",
            "[10543.988, 317.61487, 1507.5032, 291.19934]\n",
            "================================================================================\n",
            "opt = sgd, lr = 1.000000, alpha = 0.040000\n",
            "================================================================================\n"
          ],
          "name": "stdout"
        },
        {
          "output_type": "display_data",
          "data": {
            "application/vnd.google.colaboratory.intrinsic+json": {
              "type": "string"
            },
            "text/plain": [
              "'Epoch: 0009, Total Run Time: 00:00:55 - Loss: 7.2558e+03, Accuracy: 0.100, Test Loss: 7.2558e+03, Test Accuracy: 0.100 - L2 Norm of Weight Movement From Initialization: [47775.734, 1560.6101, 7844.4155, 1707.0941]'"
            ]
          },
          "metadata": {
            "tags": []
          }
        },
        {
          "output_type": "stream",
          "text": [
            "\n",
            "max training accuracy 0.10000000149011612\n",
            "min training loss 7252.43798828125\n",
            "max validation accuracy 0.10000000149011612\n",
            "min validation loss 7255.82421875\n",
            "\n",
            "l2-normed weight changes from initial values after last epoch:\n",
            "[47775.734, 1560.6101, 7844.4155, 1707.0941]\n",
            "================================================================================\n",
            "opt = sgd, lr = 1.000000, alpha = 0.010000\n",
            "================================================================================\n"
          ],
          "name": "stdout"
        },
        {
          "output_type": "display_data",
          "data": {
            "application/vnd.google.colaboratory.intrinsic+json": {
              "type": "string"
            },
            "text/plain": [
              "'Epoch: 0009, Total Run Time: 00:00:53 - Loss: 1.0362e+05, Accuracy: 0.100, Test Loss: 1.0362e+05, Test Accuracy: 0.100 - L2 Norm of Weight Movement From Initialization: [773025.75, 27903.514, 99754.98, 31971.89]'"
            ]
          },
          "metadata": {
            "tags": []
          }
        },
        {
          "output_type": "stream",
          "text": [
            "\n",
            "max training accuracy 0.10000000149011612\n",
            "min training loss 103576.3203125\n",
            "max validation accuracy 0.10000000149011612\n",
            "min validation loss 103617.0546875\n",
            "\n",
            "l2-normed weight changes from initial values after last epoch:\n",
            "[773025.75, 27903.514, 99754.98, 31971.89]\n",
            "================================================================================\n",
            "opt = sgd, lr = 1.000000, alpha = 0.001000\n",
            "================================================================================\n"
          ],
          "name": "stdout"
        },
        {
          "output_type": "display_data",
          "data": {
            "application/vnd.google.colaboratory.intrinsic+json": {
              "type": "string"
            },
            "text/plain": [
              "'Epoch: 0009, Total Run Time: 00:00:56 - Loss: 8.3130e+06, Accuracy: 0.098, Test Loss: 8.3123e+06, Test Accuracy: 0.098 - L2 Norm of Weight Movement From Initialization: [49182830.0, 1741843.4, 7779259.5, 1541352.6]'"
            ]
          },
          "metadata": {
            "tags": []
          }
        },
        {
          "output_type": "stream",
          "text": [
            "\n",
            "max training accuracy 0.09752000123262405\n",
            "min training loss 8309390.0\n",
            "max validation accuracy 0.09759999811649323\n",
            "min validation loss 8312312.0\n",
            "\n",
            "l2-normed weight changes from initial values after last epoch:\n",
            "[49182830.0, 1741843.4, 7779259.5, 1541352.6]\n",
            "================================================================================\n",
            "opt = sgd, lr = 0.100000, alpha = 20000.000000\n",
            "================================================================================\n"
          ],
          "name": "stdout"
        },
        {
          "output_type": "display_data",
          "data": {
            "application/vnd.google.colaboratory.intrinsic+json": {
              "type": "string"
            },
            "text/plain": [
              "'Epoch: 0009, Total Run Time: 00:00:54 - Loss: 5.7565e-09, Accuracy: 0.100, Test Loss: 5.7564e-09, Test Accuracy: 0.100 - L2 Norm of Weight Movement From Initialization: [0.0, 0.0, 0.0, 0.0]'"
            ]
          },
          "metadata": {
            "tags": []
          }
        },
        {
          "output_type": "stream",
          "text": [
            "\n",
            "max training accuracy 0.09957999736070633\n",
            "min training loss 5.756487286845413e-09\n",
            "max validation accuracy 0.09960000216960907\n",
            "min validation loss 5.7564477629057365e-09\n",
            "\n",
            "l2-normed weight changes from initial values after last epoch:\n",
            "[0.0, 0.0, 0.0, 0.0]\n",
            "================================================================================\n",
            "opt = sgd, lr = 0.100000, alpha = 1000.000000\n",
            "================================================================================\n"
          ],
          "name": "stdout"
        },
        {
          "output_type": "display_data",
          "data": {
            "application/vnd.google.colaboratory.intrinsic+json": {
              "type": "string"
            },
            "text/plain": [
              "'Epoch: 0009, Total Run Time: 00:00:50 - Loss: 2.3026e-06, Accuracy: 0.116, Test Loss: 2.3026e-06, Test Accuracy: 0.114 - L2 Norm of Weight Movement From Initialization: [0.0, 0.0, 0.0, 0.0]'"
            ]
          },
          "metadata": {
            "tags": []
          }
        },
        {
          "output_type": "stream",
          "text": [
            "\n",
            "max training accuracy 0.11587999761104584\n",
            "min training loss 2.302632083228673e-06\n",
            "max validation accuracy 0.11379999667406082\n",
            "min validation loss 2.3025800146569964e-06\n",
            "\n",
            "l2-normed weight changes from initial values after last epoch:\n",
            "[0.0, 0.0, 0.0, 0.0]\n",
            "================================================================================\n",
            "opt = sgd, lr = 0.100000, alpha = 100.000000\n",
            "================================================================================\n"
          ],
          "name": "stdout"
        },
        {
          "output_type": "display_data",
          "data": {
            "application/vnd.google.colaboratory.intrinsic+json": {
              "type": "string"
            },
            "text/plain": [
              "'Epoch: 0009, Total Run Time: 00:00:52 - Loss: 2.3001e-04, Accuracy: 0.075, Test Loss: 2.2996e-04, Test Accuracy: 0.074 - L2 Norm of Weight Movement From Initialization: [0.054268762, 0.0014107644, 0.006875383, 0.0013348376]'"
            ]
          },
          "metadata": {
            "tags": []
          }
        },
        {
          "output_type": "stream",
          "text": [
            "\n",
            "max training accuracy 0.08851999789476395\n",
            "min training loss 0.00023001179215498269\n",
            "max validation accuracy 0.0877000018954277\n",
            "min validation loss 0.0002299635234521702\n",
            "\n",
            "l2-normed weight changes from initial values after last epoch:\n",
            "[0.054268762, 0.0014107644, 0.006875383, 0.0013348376]\n",
            "================================================================================\n",
            "opt = sgd, lr = 0.100000, alpha = 80.000000\n",
            "================================================================================\n"
          ],
          "name": "stdout"
        },
        {
          "output_type": "display_data",
          "data": {
            "application/vnd.google.colaboratory.intrinsic+json": {
              "type": "string"
            },
            "text/plain": [
              "'Epoch: 0009, Total Run Time: 00:00:59 - Loss: 3.4853e-04, Accuracy: 0.112, Test Loss: 3.4779e-04, Test Accuracy: 0.114 - L2 Norm of Weight Movement From Initialization: [0.34200373, 0.0110071385, 0.06974908, 0.011733193]'"
            ]
          },
          "metadata": {
            "tags": []
          }
        },
        {
          "output_type": "stream",
          "text": [
            "\n",
            "max training accuracy 0.11187999695539474\n",
            "min training loss 0.000348534929798916\n",
            "max validation accuracy 0.11540000140666962\n",
            "min validation loss 0.0003477866994217038\n",
            "\n",
            "l2-normed weight changes from initial values after last epoch:\n",
            "[0.34200373, 0.0110071385, 0.06974908, 0.011733193]\n",
            "================================================================================\n",
            "opt = sgd, lr = 0.100000, alpha = 60.000000\n",
            "================================================================================\n"
          ],
          "name": "stdout"
        },
        {
          "output_type": "display_data",
          "data": {
            "application/vnd.google.colaboratory.intrinsic+json": {
              "type": "string"
            },
            "text/plain": [
              "'Epoch: 0009, Total Run Time: 00:01:08 - Loss: 6.3962e-04, Accuracy: 0.097, Test Loss: 6.3960e-04, Test Accuracy: 0.097 - L2 Norm of Weight Movement From Initialization: [0.004359057, 9.551497e-05, 0.0006109884, 8.822795e-05]'"
            ]
          },
          "metadata": {
            "tags": []
          }
        },
        {
          "output_type": "stream",
          "text": [
            "\n",
            "max training accuracy 0.09724000096321106\n",
            "min training loss 0.0006396151147782803\n",
            "max validation accuracy 0.09650000184774399\n",
            "min validation loss 0.0006396027165465057\n",
            "\n",
            "l2-normed weight changes from initial values after last epoch:\n",
            "[0.004359057, 9.551497e-05, 0.0006109884, 8.822795e-05]\n",
            "================================================================================\n",
            "opt = sgd, lr = 0.100000, alpha = 40.000000\n",
            "================================================================================\n"
          ],
          "name": "stdout"
        },
        {
          "output_type": "display_data",
          "data": {
            "application/vnd.google.colaboratory.intrinsic+json": {
              "type": "string"
            },
            "text/plain": [
              "'Epoch: 0009, Total Run Time: 00:01:01 - Loss: 1.4137e-03, Accuracy: 0.108, Test Loss: 1.4121e-03, Test Accuracy: 0.109 - L2 Norm of Weight Movement From Initialization: [0.34828386, 0.015198114, 0.056152724, 0.013733017]'"
            ]
          },
          "metadata": {
            "tags": []
          }
        },
        {
          "output_type": "stream",
          "text": [
            "\n",
            "max training accuracy 0.120619997382164\n",
            "min training loss 0.00141371157951653\n",
            "max validation accuracy 0.12479999661445618\n",
            "min validation loss 0.0014120617415755987\n",
            "\n",
            "l2-normed weight changes from initial values after last epoch:\n",
            "[0.34828386, 0.015198114, 0.056152724, 0.013733017]\n",
            "================================================================================\n",
            "opt = sgd, lr = 0.100000, alpha = 30.000000\n",
            "================================================================================\n"
          ],
          "name": "stdout"
        },
        {
          "output_type": "display_data",
          "data": {
            "application/vnd.google.colaboratory.intrinsic+json": {
              "type": "string"
            },
            "text/plain": [
              "'Epoch: 0009, Total Run Time: 00:00:48 - Loss: 2.3478e-03, Accuracy: 0.062, Test Loss: 2.3460e-03, Test Accuracy: 0.057 - L2 Norm of Weight Movement From Initialization: [1.1805403, 0.07192715, 0.35428986, 0.06801064]'"
            ]
          },
          "metadata": {
            "tags": []
          }
        },
        {
          "output_type": "stream",
          "text": [
            "\n",
            "max training accuracy 0.08771999925374985\n",
            "min training loss 0.0023477887734770775\n",
            "max validation accuracy 0.08839999884366989\n",
            "min validation loss 0.002345960820093751\n",
            "\n",
            "l2-normed weight changes from initial values after last epoch:\n",
            "[1.1805403, 0.07192715, 0.35428986, 0.06801064]\n",
            "================================================================================\n",
            "opt = sgd, lr = 0.100000, alpha = 20.000000\n",
            "================================================================================\n"
          ],
          "name": "stdout"
        },
        {
          "output_type": "display_data",
          "data": {
            "application/vnd.google.colaboratory.intrinsic+json": {
              "type": "string"
            },
            "text/plain": [
              "'Epoch: 0009, Total Run Time: 00:00:48 - Loss: 4.7079e-03, Accuracy: 0.117, Test Loss: 4.7079e-03, Test Accuracy: 0.123 - L2 Norm of Weight Movement From Initialization: [2.339544, 0.20176792, 0.98722535, 0.25597855]'"
            ]
          },
          "metadata": {
            "tags": []
          }
        },
        {
          "output_type": "stream",
          "text": [
            "\n",
            "max training accuracy 0.11789999902248383\n",
            "min training loss 0.004707875195890665\n",
            "max validation accuracy 0.1251000016927719\n",
            "min validation loss 0.004707877524197102\n",
            "\n",
            "l2-normed weight changes from initial values after last epoch:\n",
            "[2.339544, 0.20176792, 0.98722535, 0.25597855]\n",
            "================================================================================\n",
            "opt = sgd, lr = 0.100000, alpha = 10.000000\n",
            "================================================================================\n"
          ],
          "name": "stdout"
        },
        {
          "output_type": "display_data",
          "data": {
            "application/vnd.google.colaboratory.intrinsic+json": {
              "type": "string"
            },
            "text/plain": [
              "'Epoch: 0009, Total Run Time: 00:00:47 - Loss: 1.6113e-02, Accuracy: 0.420, Test Loss: 1.6321e-02, Test Accuracy: 0.423 - L2 Norm of Weight Movement From Initialization: [5.9524803, 0.7210022, 2.9867098, 0.5624039]'"
            ]
          },
          "metadata": {
            "tags": []
          }
        },
        {
          "output_type": "stream",
          "text": [
            "\n",
            "max training accuracy 0.41962000727653503\n",
            "min training loss 0.016112886369228363\n",
            "max validation accuracy 0.42320001125335693\n",
            "min validation loss 0.016320642083883286\n",
            "\n",
            "l2-normed weight changes from initial values after last epoch:\n",
            "[5.9524803, 0.7210022, 2.9867098, 0.5624039]\n",
            "================================================================================\n",
            "opt = sgd, lr = 0.100000, alpha = 9.000000\n",
            "================================================================================\n"
          ],
          "name": "stdout"
        },
        {
          "output_type": "display_data",
          "data": {
            "application/vnd.google.colaboratory.intrinsic+json": {
              "type": "string"
            },
            "text/plain": [
              "'Epoch: 0009, Total Run Time: 00:00:48 - Loss: 1.9711e-02, Accuracy: 0.433, Test Loss: 2.0047e-02, Test Accuracy: 0.423 - L2 Norm of Weight Movement From Initialization: [6.503714, 0.8349519, 3.259109, 0.7352887]'"
            ]
          },
          "metadata": {
            "tags": []
          }
        },
        {
          "output_type": "stream",
          "text": [
            "\n",
            "max training accuracy 0.4325000047683716\n",
            "min training loss 0.019711410626769066\n",
            "max validation accuracy 0.4309999942779541\n",
            "min validation loss 0.020025044679641724\n",
            "\n",
            "l2-normed weight changes from initial values after last epoch:\n",
            "[6.503714, 0.8349519, 3.259109, 0.7352887]\n",
            "================================================================================\n",
            "opt = sgd, lr = 0.100000, alpha = 8.000000\n",
            "================================================================================\n"
          ],
          "name": "stdout"
        },
        {
          "output_type": "display_data",
          "data": {
            "application/vnd.google.colaboratory.intrinsic+json": {
              "type": "string"
            },
            "text/plain": [
              "'Epoch: 0009, Total Run Time: 00:00:48 - Loss: 2.4444e-02, Accuracy: 0.441, Test Loss: 2.4671e-02, Test Accuracy: 0.450 - L2 Norm of Weight Movement From Initialization: [7.451647, 1.0755042, 3.4698749, 0.90320677]'"
            ]
          },
          "metadata": {
            "tags": []
          }
        },
        {
          "output_type": "stream",
          "text": [
            "\n",
            "max training accuracy 0.4410800039768219\n",
            "min training loss 0.024443529546260834\n",
            "max validation accuracy 0.44999998807907104\n",
            "min validation loss 0.02467130869626999\n",
            "\n",
            "l2-normed weight changes from initial values after last epoch:\n",
            "[7.451647, 1.0755042, 3.4698749, 0.90320677]\n",
            "================================================================================\n",
            "opt = sgd, lr = 0.100000, alpha = 7.000000\n",
            "================================================================================\n"
          ],
          "name": "stdout"
        },
        {
          "output_type": "display_data",
          "data": {
            "application/vnd.google.colaboratory.intrinsic+json": {
              "type": "string"
            },
            "text/plain": [
              "'Epoch: 0009, Total Run Time: 00:00:46 - Loss: 3.1843e-02, Accuracy: 0.444, Test Loss: 3.1788e-02, Test Accuracy: 0.454 - L2 Norm of Weight Movement From Initialization: [8.395297, 1.2555305, 3.4009585, 1.1722462]'"
            ]
          },
          "metadata": {
            "tags": []
          }
        },
        {
          "output_type": "stream",
          "text": [
            "\n",
            "max training accuracy 0.44359999895095825\n",
            "min training loss 0.03184295818209648\n",
            "max validation accuracy 0.4537999927997589\n",
            "min validation loss 0.03178844228386879\n",
            "\n",
            "l2-normed weight changes from initial values after last epoch:\n",
            "[8.395297, 1.2555305, 3.4009585, 1.1722462]\n",
            "================================================================================\n",
            "opt = sgd, lr = 0.100000, alpha = 6.000000\n",
            "================================================================================\n"
          ],
          "name": "stdout"
        },
        {
          "output_type": "display_data",
          "data": {
            "application/vnd.google.colaboratory.intrinsic+json": {
              "type": "string"
            },
            "text/plain": [
              "'Epoch: 0009, Total Run Time: 00:00:45 - Loss: 4.3115e-02, Accuracy: 0.438, Test Loss: 4.3636e-02, Test Accuracy: 0.439 - L2 Norm of Weight Movement From Initialization: [9.788506, 1.5278726, 3.1762538, 1.6564387]'"
            ]
          },
          "metadata": {
            "tags": []
          }
        },
        {
          "output_type": "stream",
          "text": [
            "\n",
            "max training accuracy 0.44064000248908997\n",
            "min training loss 0.04311501607298851\n",
            "max validation accuracy 0.43950000405311584\n",
            "min validation loss 0.04363606125116348\n",
            "\n",
            "l2-normed weight changes from initial values after last epoch:\n",
            "[9.788506, 1.5278726, 3.1762538, 1.6564387]\n",
            "================================================================================\n",
            "opt = sgd, lr = 0.100000, alpha = 5.000000\n",
            "================================================================================\n"
          ],
          "name": "stdout"
        },
        {
          "output_type": "display_data",
          "data": {
            "application/vnd.google.colaboratory.intrinsic+json": {
              "type": "string"
            },
            "text/plain": [
              "'Epoch: 0009, Total Run Time: 00:00:46 - Loss: 6.3252e-02, Accuracy: 0.432, Test Loss: 6.5580e-02, Test Accuracy: 0.413 - L2 Norm of Weight Movement From Initialization: [10.5476265, 1.63417, 2.9999561, 2.1166186]'"
            ]
          },
          "metadata": {
            "tags": []
          }
        },
        {
          "output_type": "stream",
          "text": [
            "\n",
            "max training accuracy 0.4318400025367737\n",
            "min training loss 0.06325214356184006\n",
            "max validation accuracy 0.426800012588501\n",
            "min validation loss 0.06499608606100082\n",
            "\n",
            "l2-normed weight changes from initial values after last epoch:\n",
            "[10.5476265, 1.63417, 2.9999561, 2.1166186]\n",
            "================================================================================\n",
            "opt = sgd, lr = 0.100000, alpha = 4.000000\n",
            "================================================================================\n"
          ],
          "name": "stdout"
        },
        {
          "output_type": "display_data",
          "data": {
            "application/vnd.google.colaboratory.intrinsic+json": {
              "type": "string"
            },
            "text/plain": [
              "'Epoch: 0009, Total Run Time: 00:00:50 - Loss: 9.9345e-02, Accuracy: 0.430, Test Loss: 9.9032e-02, Test Accuracy: 0.442 - L2 Norm of Weight Movement From Initialization: [12.597225, 2.0851648, 2.8402867, 2.8266504]'"
            ]
          },
          "metadata": {
            "tags": []
          }
        },
        {
          "output_type": "stream",
          "text": [
            "\n",
            "max training accuracy 0.43007999658584595\n",
            "min training loss 0.09934525191783905\n",
            "max validation accuracy 0.44200000166893005\n",
            "min validation loss 0.09903214126825333\n",
            "\n",
            "l2-normed weight changes from initial values after last epoch:\n",
            "[12.597225, 2.0851648, 2.8402867, 2.8266504]\n",
            "================================================================================\n",
            "opt = sgd, lr = 0.100000, alpha = 3.000000\n",
            "================================================================================\n"
          ],
          "name": "stdout"
        },
        {
          "output_type": "display_data",
          "data": {
            "application/vnd.google.colaboratory.intrinsic+json": {
              "type": "string"
            },
            "text/plain": [
              "'Epoch: 0009, Total Run Time: 00:00:47 - Loss: 1.8939e-01, Accuracy: 0.388, Test Loss: 1.8677e-01, Test Accuracy: 0.391 - L2 Norm of Weight Movement From Initialization: [14.344613, 2.9397628, 2.5271456, 2.8185773]'"
            ]
          },
          "metadata": {
            "tags": []
          }
        },
        {
          "output_type": "stream",
          "text": [
            "\n",
            "max training accuracy 0.38815999031066895\n",
            "min training loss 0.1893947720527649\n",
            "max validation accuracy 0.3912999927997589\n",
            "min validation loss 0.18677058815956116\n",
            "\n",
            "l2-normed weight changes from initial values after last epoch:\n",
            "[14.344613, 2.9397628, 2.5271456, 2.8185773]\n",
            "================================================================================\n",
            "opt = sgd, lr = 0.100000, alpha = 2.000000\n",
            "================================================================================\n"
          ],
          "name": "stdout"
        },
        {
          "output_type": "display_data",
          "data": {
            "application/vnd.google.colaboratory.intrinsic+json": {
              "type": "string"
            },
            "text/plain": [
              "'Epoch: 0009, Total Run Time: 00:00:47 - Loss: 5.5519e-01, Accuracy: 0.136, Test Loss: 5.7644e-01, Test Accuracy: 0.100 - L2 Norm of Weight Movement From Initialization: [10.437254, 2.671324, 3.1384814, 0.2524314]'"
            ]
          },
          "metadata": {
            "tags": []
          }
        },
        {
          "output_type": "stream",
          "text": [
            "\n",
            "max training accuracy 0.1729000061750412\n",
            "min training loss 0.5374564528465271\n",
            "max validation accuracy 0.21089999377727509\n",
            "min validation loss 0.5227702260017395\n",
            "\n",
            "l2-normed weight changes from initial values after last epoch:\n",
            "[10.437254, 2.671324, 3.1384814, 0.2524314]\n",
            "================================================================================\n",
            "opt = sgd, lr = 0.100000, alpha = 1.000000\n",
            "================================================================================\n"
          ],
          "name": "stdout"
        },
        {
          "output_type": "display_data",
          "data": {
            "application/vnd.google.colaboratory.intrinsic+json": {
              "type": "string"
            },
            "text/plain": [
              "'Epoch: 0009, Total Run Time: 00:00:46 - Loss: 1.4506e+01, Accuracy: 0.100, Test Loss: 1.4506e+01, Test Accuracy: 0.100 - L2 Norm of Weight Movement From Initialization: [14.5854845, 0.55096865, 19.61719, 0.8292582]'"
            ]
          },
          "metadata": {
            "tags": []
          }
        },
        {
          "output_type": "stream",
          "text": [
            "\n",
            "max training accuracy 0.10000000149011612\n",
            "min training loss 14.487117767333984\n",
            "max validation accuracy 0.10000000149011612\n",
            "min validation loss 14.50627326965332\n",
            "\n",
            "l2-normed weight changes from initial values after last epoch:\n",
            "[14.5854845, 0.55096865, 19.61719, 0.8292582]\n",
            "================================================================================\n",
            "opt = sgd, lr = 0.100000, alpha = 0.800000\n",
            "================================================================================\n"
          ],
          "name": "stdout"
        },
        {
          "output_type": "display_data",
          "data": {
            "application/vnd.google.colaboratory.intrinsic+json": {
              "type": "string"
            },
            "text/plain": [
              "'Epoch: 0009, Total Run Time: 00:00:46 - Loss: 2.2352e+01, Accuracy: 0.100, Test Loss: 2.2352e+01, Test Accuracy: 0.100 - L2 Norm of Weight Movement From Initialization: [30.65274, 1.1685557, 47.97587, 1.4433278]'"
            ]
          },
          "metadata": {
            "tags": []
          }
        },
        {
          "output_type": "stream",
          "text": [
            "\n",
            "max training accuracy 0.10001999884843826\n",
            "min training loss 22.32388687133789\n",
            "max validation accuracy 0.10000000149011612\n",
            "min validation loss 22.35226821899414\n",
            "\n",
            "l2-normed weight changes from initial values after last epoch:\n",
            "[30.65274, 1.1685557, 47.97587, 1.4433278]\n",
            "================================================================================\n",
            "opt = sgd, lr = 0.100000, alpha = 0.600000\n",
            "================================================================================\n"
          ],
          "name": "stdout"
        },
        {
          "output_type": "display_data",
          "data": {
            "application/vnd.google.colaboratory.intrinsic+json": {
              "type": "string"
            },
            "text/plain": [
              "'Epoch: 0009, Total Run Time: 00:00:46 - Loss: 3.9018e+01, Accuracy: 0.100, Test Loss: 3.9018e+01, Test Accuracy: 0.100 - L2 Norm of Weight Movement From Initialization: [32.9481, 1.3245616, 46.448566, 1.5705059]'"
            ]
          },
          "metadata": {
            "tags": []
          }
        },
        {
          "output_type": "stream",
          "text": [
            "\n",
            "max training accuracy 0.10006000101566315\n",
            "min training loss 38.98286819458008\n",
            "max validation accuracy 0.10000000149011612\n",
            "min validation loss 39.01816177368164\n",
            "\n",
            "l2-normed weight changes from initial values after last epoch:\n",
            "[32.9481, 1.3245616, 46.448566, 1.5705059]\n",
            "================================================================================\n",
            "opt = sgd, lr = 0.100000, alpha = 0.400000\n",
            "================================================================================\n"
          ],
          "name": "stdout"
        },
        {
          "output_type": "display_data",
          "data": {
            "application/vnd.google.colaboratory.intrinsic+json": {
              "type": "string"
            },
            "text/plain": [
              "'Epoch: 0009, Total Run Time: 00:00:47 - Loss: 8.5509e+01, Accuracy: 0.100, Test Loss: 8.5510e+01, Test Accuracy: 0.100 - L2 Norm of Weight Movement From Initialization: [83.8756, 3.234147, 116.98285, 3.1039855]'"
            ]
          },
          "metadata": {
            "tags": []
          }
        },
        {
          "output_type": "stream",
          "text": [
            "\n",
            "max training accuracy 0.10000000149011612\n",
            "min training loss 85.44725036621094\n",
            "max validation accuracy 0.10000000149011612\n",
            "min validation loss 85.51007080078125\n",
            "\n",
            "l2-normed weight changes from initial values after last epoch:\n",
            "[83.8756, 3.234147, 116.98285, 3.1039855]\n",
            "================================================================================\n",
            "opt = sgd, lr = 0.100000, alpha = 0.200000\n",
            "================================================================================\n"
          ],
          "name": "stdout"
        },
        {
          "output_type": "display_data",
          "data": {
            "application/vnd.google.colaboratory.intrinsic+json": {
              "type": "string"
            },
            "text/plain": [
              "'Epoch: 0009, Total Run Time: 00:00:47 - Loss: 3.2644e+02, Accuracy: 0.100, Test Loss: 3.2644e+02, Test Accuracy: 0.100 - L2 Norm of Weight Movement From Initialization: [154.58298, 5.807763, 20.92782, 6.0851865]'"
            ]
          },
          "metadata": {
            "tags": []
          }
        },
        {
          "output_type": "stream",
          "text": [
            "\n",
            "max training accuracy 0.10000000149011612\n",
            "min training loss 326.28839111328125\n",
            "max validation accuracy 0.10000000149011612\n",
            "min validation loss 326.44476318359375\n",
            "\n",
            "l2-normed weight changes from initial values after last epoch:\n",
            "[154.58298, 5.807763, 20.92782, 6.0851865]\n",
            "================================================================================\n",
            "opt = sgd, lr = 0.100000, alpha = 0.100000\n",
            "================================================================================\n"
          ],
          "name": "stdout"
        },
        {
          "output_type": "display_data",
          "data": {
            "application/vnd.google.colaboratory.intrinsic+json": {
              "type": "string"
            },
            "text/plain": [
              "'Epoch: 0009, Total Run Time: 00:00:47 - Loss: 1.2434e+03, Accuracy: 0.100, Test Loss: 1.2434e+03, Test Accuracy: 0.100 - L2 Norm of Weight Movement From Initialization: [763.7431, 26.46899, 82.06319, 26.584469]'"
            ]
          },
          "metadata": {
            "tags": []
          }
        },
        {
          "output_type": "stream",
          "text": [
            "\n",
            "max training accuracy 0.10000000149011612\n",
            "min training loss 1242.86962890625\n",
            "max validation accuracy 0.10000000149011612\n",
            "min validation loss 1243.396484375\n",
            "\n",
            "l2-normed weight changes from initial values after last epoch:\n",
            "[763.7431, 26.46899, 82.06319, 26.584469]\n",
            "================================================================================\n",
            "opt = sgd, lr = 0.100000, alpha = 0.070000\n",
            "================================================================================\n"
          ],
          "name": "stdout"
        },
        {
          "output_type": "display_data",
          "data": {
            "application/vnd.google.colaboratory.intrinsic+json": {
              "type": "string"
            },
            "text/plain": [
              "'Epoch: 0009, Total Run Time: 00:00:50 - Loss: 2.4720e+03, Accuracy: 0.100, Test Loss: 2.4720e+03, Test Accuracy: 0.100 - L2 Norm of Weight Movement From Initialization: [2768.6328, 97.84261, 276.4753, 86.67657]'"
            ]
          },
          "metadata": {
            "tags": []
          }
        },
        {
          "output_type": "stream",
          "text": [
            "\n",
            "max training accuracy 0.10000000149011612\n",
            "min training loss 2471.16015625\n",
            "max validation accuracy 0.10000000149011612\n",
            "min validation loss 2472.03466796875\n",
            "\n",
            "l2-normed weight changes from initial values after last epoch:\n",
            "[2768.6328, 97.84261, 276.4753, 86.67657]\n",
            "================================================================================\n",
            "opt = sgd, lr = 0.100000, alpha = 0.040000\n",
            "================================================================================\n"
          ],
          "name": "stdout"
        },
        {
          "output_type": "display_data",
          "data": {
            "application/vnd.google.colaboratory.intrinsic+json": {
              "type": "string"
            },
            "text/plain": [
              "'Epoch: 0009, Total Run Time: 00:00:47 - Loss: 7.2558e+03, Accuracy: 0.100, Test Loss: 7.2558e+03, Test Accuracy: 0.100 - L2 Norm of Weight Movement From Initialization: [3858.7102, 128.98053, 738.0783, 150.73013]'"
            ]
          },
          "metadata": {
            "tags": []
          }
        },
        {
          "output_type": "stream",
          "text": [
            "\n",
            "max training accuracy 0.10000000149011612\n",
            "min training loss 7252.71044921875\n",
            "max validation accuracy 0.10000000149011612\n",
            "min validation loss 7255.8232421875\n",
            "\n",
            "l2-normed weight changes from initial values after last epoch:\n",
            "[3858.7102, 128.98053, 738.0783, 150.73013]\n",
            "================================================================================\n",
            "opt = sgd, lr = 0.100000, alpha = 0.010000\n",
            "================================================================================\n"
          ],
          "name": "stdout"
        },
        {
          "output_type": "display_data",
          "data": {
            "application/vnd.google.colaboratory.intrinsic+json": {
              "type": "string"
            },
            "text/plain": [
              "'Epoch: 0009, Total Run Time: 00:00:48 - Loss: 1.0362e+05, Accuracy: 0.100, Test Loss: 1.0362e+05, Test Accuracy: 0.100 - L2 Norm of Weight Movement From Initialization: [65426.305, 2185.4602, 8354.539, 1994.0205]'"
            ]
          },
          "metadata": {
            "tags": []
          }
        },
        {
          "output_type": "stream",
          "text": [
            "\n",
            "max training accuracy 0.10000000149011612\n",
            "min training loss 103572.8828125\n",
            "max validation accuracy 0.10000000149011612\n",
            "min validation loss 103617.0703125\n",
            "\n",
            "l2-normed weight changes from initial values after last epoch:\n",
            "[65426.305, 2185.4602, 8354.539, 1994.0205]\n",
            "================================================================================\n",
            "opt = sgd, lr = 0.100000, alpha = 0.001000\n",
            "================================================================================\n"
          ],
          "name": "stdout"
        },
        {
          "output_type": "display_data",
          "data": {
            "application/vnd.google.colaboratory.intrinsic+json": {
              "type": "string"
            },
            "text/plain": [
              "'Epoch: 0009, Total Run Time: 00:00:47 - Loss: 8.2902e+06, Accuracy: 0.100, Test Loss: 8.2902e+06, Test Accuracy: 0.100 - L2 Norm of Weight Movement From Initialization: [5576388.0, 218211.34, 1040679.5, 247779.11]'"
            ]
          },
          "metadata": {
            "tags": []
          }
        },
        {
          "output_type": "stream",
          "text": [
            "\n",
            "max training accuracy 0.10000000149011612\n",
            "min training loss 8286802.0\n",
            "max validation accuracy 0.10000000149011612\n",
            "min validation loss 8290206.5\n",
            "\n",
            "l2-normed weight changes from initial values after last epoch:\n",
            "[5576388.0, 218211.34, 1040679.5, 247779.11]\n",
            "================================================================================\n",
            "opt = sgd, lr = 0.010000, alpha = 20000.000000\n",
            "================================================================================\n"
          ],
          "name": "stdout"
        },
        {
          "output_type": "display_data",
          "data": {
            "application/vnd.google.colaboratory.intrinsic+json": {
              "type": "string"
            },
            "text/plain": [
              "'Epoch: 0009, Total Run Time: 00:00:48 - Loss: 5.7565e-09, Accuracy: 0.096, Test Loss: 5.7564e-09, Test Accuracy: 0.097 - L2 Norm of Weight Movement From Initialization: [0.0, 0.0, 0.0, 0.0]'"
            ]
          },
          "metadata": {
            "tags": []
          }
        },
        {
          "output_type": "stream",
          "text": [
            "\n",
            "max training accuracy 0.09625999629497528\n",
            "min training loss 5.756487286845413e-09\n",
            "max validation accuracy 0.09679999947547913\n",
            "min validation loss 5.7564477629057365e-09\n",
            "\n",
            "l2-normed weight changes from initial values after last epoch:\n",
            "[0.0, 0.0, 0.0, 0.0]\n",
            "================================================================================\n",
            "opt = sgd, lr = 0.010000, alpha = 1000.000000\n",
            "================================================================================\n"
          ],
          "name": "stdout"
        },
        {
          "output_type": "display_data",
          "data": {
            "application/vnd.google.colaboratory.intrinsic+json": {
              "type": "string"
            },
            "text/plain": [
              "'Epoch: 0009, Total Run Time: 00:00:48 - Loss: 2.3026e-06, Accuracy: 0.116, Test Loss: 2.3026e-06, Test Accuracy: 0.117 - L2 Norm of Weight Movement From Initialization: [0.0, 0.0, 0.0, 0.0]'"
            ]
          },
          "metadata": {
            "tags": []
          }
        },
        {
          "output_type": "stream",
          "text": [
            "\n",
            "max training accuracy 0.11631999909877777\n",
            "min training loss 2.302632083228673e-06\n",
            "max validation accuracy 0.11710000038146973\n",
            "min validation loss 2.3025800146569964e-06\n",
            "\n",
            "l2-normed weight changes from initial values after last epoch:\n",
            "[0.0, 0.0, 0.0, 0.0]\n",
            "================================================================================\n",
            "opt = sgd, lr = 0.010000, alpha = 100.000000\n",
            "================================================================================\n"
          ],
          "name": "stdout"
        },
        {
          "output_type": "display_data",
          "data": {
            "application/vnd.google.colaboratory.intrinsic+json": {
              "type": "string"
            },
            "text/plain": [
              "'Epoch: 0009, Total Run Time: 00:00:48 - Loss: 2.3026e-04, Accuracy: 0.094, Test Loss: 2.3026e-04, Test Accuracy: 0.095 - L2 Norm of Weight Movement From Initialization: [0.00024980976, 5.7359007e-06, 4.5553305e-05, 6.672597e-06]'"
            ]
          },
          "metadata": {
            "tags": []
          }
        },
        {
          "output_type": "stream",
          "text": [
            "\n",
            "max training accuracy 0.0940999984741211\n",
            "min training loss 0.00023025574046187103\n",
            "max validation accuracy 0.09570000320672989\n",
            "min validation loss 0.0002302593638887629\n",
            "\n",
            "l2-normed weight changes from initial values after last epoch:\n",
            "[0.00024980976, 5.7359007e-06, 4.5553305e-05, 6.672597e-06]\n",
            "================================================================================\n",
            "opt = sgd, lr = 0.010000, alpha = 80.000000\n",
            "================================================================================\n"
          ],
          "name": "stdout"
        },
        {
          "output_type": "display_data",
          "data": {
            "application/vnd.google.colaboratory.intrinsic+json": {
              "type": "string"
            },
            "text/plain": [
              "'Epoch: 0009, Total Run Time: 00:00:47 - Loss: 3.5978e-04, Accuracy: 0.113, Test Loss: 3.5980e-04, Test Accuracy: 0.117 - L2 Norm of Weight Movement From Initialization: [0.011108864, 0.0002145907, 0.0017369111, 0.00020889568]'"
            ]
          },
          "metadata": {
            "tags": []
          }
        },
        {
          "output_type": "stream",
          "text": [
            "\n",
            "max training accuracy 0.11337999999523163\n",
            "min training loss 0.00035978350206278265\n",
            "max validation accuracy 0.11729999631643295\n",
            "min validation loss 0.0003598020412027836\n",
            "\n",
            "l2-normed weight changes from initial values after last epoch:\n",
            "[0.011108864, 0.0002145907, 0.0017369111, 0.00020889568]\n",
            "================================================================================\n",
            "opt = sgd, lr = 0.010000, alpha = 60.000000\n",
            "================================================================================\n"
          ],
          "name": "stdout"
        },
        {
          "output_type": "display_data",
          "data": {
            "application/vnd.google.colaboratory.intrinsic+json": {
              "type": "string"
            },
            "text/plain": [
              "'Epoch: 0004, Total Run Time: 00:00:23 - Loss: 6.3922e-04, Accuracy: 0.091, Test Loss: 6.3930e-04, Test Accuracy: 0.092 - L2 Norm of Weight Movement From Initialization: [0.013705308, 0.0002762005, 0.0017851021, 0.00021769408]'"
            ]
          },
          "metadata": {
            "tags": []
          }
        },
        {
          "output_type": "display_data",
          "data": {
            "application/vnd.google.colaboratory.intrinsic+json": {
              "type": "string"
            },
            "text/plain": [
              "'Epoch: 0009, Total Run Time: 00:00:45 - Loss: 6.3880e-04, Accuracy: 0.091, Test Loss: 6.3892e-04, Test Accuracy: 0.093 - L2 Norm of Weight Movement From Initialization: [0.030978173, 0.00063523056, 0.0040650168, 0.00046431154]'"
            ]
          },
          "metadata": {
            "tags": []
          }
        },
        {
          "output_type": "stream",
          "text": [
            "\n",
            "max training accuracy 0.09126000106334686\n",
            "min training loss 0.0006388036999851465\n",
            "max validation accuracy 0.0934000015258789\n",
            "min validation loss 0.000638919766061008\n",
            "\n",
            "l2-normed weight changes from initial values after last epoch:\n",
            "[0.030978173, 0.00063523056, 0.0040650168, 0.00046431154]\n",
            "================================================================================\n",
            "opt = sgd, lr = 0.010000, alpha = 40.000000\n",
            "================================================================================\n"
          ],
          "name": "stdout"
        },
        {
          "output_type": "display_data",
          "data": {
            "application/vnd.google.colaboratory.intrinsic+json": {
              "type": "string"
            },
            "text/plain": [
              "'Epoch: 0009, Total Run Time: 00:00:48 - Loss: 1.4391e-03, Accuracy: 0.106, Test Loss: 1.4391e-03, Test Accuracy: 0.108 - L2 Norm of Weight Movement From Initialization: [0.01389715, 0.00033202482, 0.0017931663, 0.000353919]'"
            ]
          },
          "metadata": {
            "tags": []
          }
        },
        {
          "output_type": "stream",
          "text": [
            "\n",
            "max training accuracy 0.10666000097990036\n",
            "min training loss 0.00143910082988441\n",
            "max validation accuracy 0.10809999704360962\n",
            "min validation loss 0.0014390799915418029\n",
            "\n",
            "l2-normed weight changes from initial values after last epoch:\n",
            "[0.01389715, 0.00033202482, 0.0017931663, 0.000353919]\n",
            "================================================================================\n",
            "opt = sgd, lr = 0.010000, alpha = 30.000000\n",
            "================================================================================\n"
          ],
          "name": "stdout"
        },
        {
          "output_type": "display_data",
          "data": {
            "application/vnd.google.colaboratory.intrinsic+json": {
              "type": "string"
            },
            "text/plain": [
              "'Epoch: 0009, Total Run Time: 00:00:46 - Loss: 2.5225e-03, Accuracy: 0.103, Test Loss: 2.5221e-03, Test Accuracy: 0.104 - L2 Norm of Weight Movement From Initialization: [0.19908425, 0.009972077, 0.03135142, 0.008934185]'"
            ]
          },
          "metadata": {
            "tags": []
          }
        },
        {
          "output_type": "stream",
          "text": [
            "\n",
            "max training accuracy 0.1053600013256073\n",
            "min training loss 0.0025225465651601553\n",
            "max validation accuracy 0.10419999808073044\n",
            "min validation loss 0.0025220809038728476\n",
            "\n",
            "l2-normed weight changes from initial values after last epoch:\n",
            "[0.19908425, 0.009972077, 0.03135142, 0.008934185]\n",
            "================================================================================\n",
            "opt = sgd, lr = 0.010000, alpha = 20.000000\n",
            "================================================================================\n"
          ],
          "name": "stdout"
        },
        {
          "output_type": "display_data",
          "data": {
            "application/vnd.google.colaboratory.intrinsic+json": {
              "type": "string"
            },
            "text/plain": [
              "'Epoch: 0009, Total Run Time: 00:00:46 - Loss: 5.2643e-03, Accuracy: 0.124, Test Loss: 5.2352e-03, Test Accuracy: 0.119 - L2 Norm of Weight Movement From Initialization: [0.6655547, 0.021023288, 0.16571982, 0.019797683]'"
            ]
          },
          "metadata": {
            "tags": []
          }
        },
        {
          "output_type": "stream",
          "text": [
            "\n",
            "max training accuracy 0.12625999748706818\n",
            "min training loss 0.005264324136078358\n",
            "max validation accuracy 0.12860000133514404\n",
            "min validation loss 0.005235190968960524\n",
            "\n",
            "l2-normed weight changes from initial values after last epoch:\n",
            "[0.6655547, 0.021023288, 0.16571982, 0.019797683]\n",
            "================================================================================\n",
            "opt = sgd, lr = 0.010000, alpha = 10.000000\n",
            "================================================================================\n"
          ],
          "name": "stdout"
        },
        {
          "output_type": "display_data",
          "data": {
            "application/vnd.google.colaboratory.intrinsic+json": {
              "type": "string"
            },
            "text/plain": [
              "'Epoch: 0009, Total Run Time: 00:00:46 - Loss: 1.8755e-02, Accuracy: 0.235, Test Loss: 1.8775e-02, Test Accuracy: 0.233 - L2 Norm of Weight Movement From Initialization: [1.7845676, 0.1257214, 0.68083364, 0.13456154]'"
            ]
          },
          "metadata": {
            "tags": []
          }
        },
        {
          "output_type": "stream",
          "text": [
            "\n",
            "max training accuracy 0.23533999919891357\n",
            "min training loss 0.018755441531538963\n",
            "max validation accuracy 0.23330000042915344\n",
            "min validation loss 0.018775252625346184\n",
            "\n",
            "l2-normed weight changes from initial values after last epoch:\n",
            "[1.7845676, 0.1257214, 0.68083364, 0.13456154]\n",
            "================================================================================\n",
            "opt = sgd, lr = 0.010000, alpha = 9.000000\n",
            "================================================================================\n"
          ],
          "name": "stdout"
        },
        {
          "output_type": "display_data",
          "data": {
            "application/vnd.google.colaboratory.intrinsic+json": {
              "type": "string"
            },
            "text/plain": [
              "'Epoch: 0009, Total Run Time: 00:00:47 - Loss: 2.2956e-02, Accuracy: 0.255, Test Loss: 2.2887e-02, Test Accuracy: 0.255 - L2 Norm of Weight Movement From Initialization: [1.9066192, 0.13871357, 0.77168304, 0.13173616]'"
            ]
          },
          "metadata": {
            "tags": []
          }
        },
        {
          "output_type": "stream",
          "text": [
            "\n",
            "max training accuracy 0.2551400065422058\n",
            "min training loss 0.022956496104598045\n",
            "max validation accuracy 0.2547999918460846\n",
            "min validation loss 0.022887496277689934\n",
            "\n",
            "l2-normed weight changes from initial values after last epoch:\n",
            "[1.9066192, 0.13871357, 0.77168304, 0.13173616]\n",
            "================================================================================\n",
            "opt = sgd, lr = 0.010000, alpha = 8.000000\n",
            "================================================================================\n"
          ],
          "name": "stdout"
        },
        {
          "output_type": "display_data",
          "data": {
            "application/vnd.google.colaboratory.intrinsic+json": {
              "type": "string"
            },
            "text/plain": [
              "'Epoch: 0009, Total Run Time: 00:00:47 - Loss: 2.8580e-02, Accuracy: 0.272, Test Loss: 2.8684e-02, Test Accuracy: 0.268 - L2 Norm of Weight Movement From Initialization: [2.1928542, 0.17457834, 0.85823333, 0.14218593]'"
            ]
          },
          "metadata": {
            "tags": []
          }
        },
        {
          "output_type": "stream",
          "text": [
            "\n",
            "max training accuracy 0.27233999967575073\n",
            "min training loss 0.028580017387866974\n",
            "max validation accuracy 0.2711000144481659\n",
            "min validation loss 0.02868424355983734\n",
            "\n",
            "l2-normed weight changes from initial values after last epoch:\n",
            "[2.1928542, 0.17457834, 0.85823333, 0.14218593]\n",
            "================================================================================\n",
            "opt = sgd, lr = 0.010000, alpha = 7.000000\n",
            "================================================================================\n"
          ],
          "name": "stdout"
        },
        {
          "output_type": "display_data",
          "data": {
            "application/vnd.google.colaboratory.intrinsic+json": {
              "type": "string"
            },
            "text/plain": [
              "'Epoch: 0009, Total Run Time: 00:00:46 - Loss: 3.5915e-02, Accuracy: 0.328, Test Loss: 3.6030e-02, Test Accuracy: 0.341 - L2 Norm of Weight Movement From Initialization: [2.5709534, 0.21085525, 1.1475517, 0.18983097]'"
            ]
          },
          "metadata": {
            "tags": []
          }
        },
        {
          "output_type": "stream",
          "text": [
            "\n",
            "max training accuracy 0.32839998602867126\n",
            "min training loss 0.03591495752334595\n",
            "max validation accuracy 0.34060001373291016\n",
            "min validation loss 0.03603028133511543\n",
            "\n",
            "l2-normed weight changes from initial values after last epoch:\n",
            "[2.5709534, 0.21085525, 1.1475517, 0.18983097]\n",
            "================================================================================\n",
            "opt = sgd, lr = 0.010000, alpha = 6.000000\n",
            "================================================================================\n"
          ],
          "name": "stdout"
        },
        {
          "output_type": "display_data",
          "data": {
            "application/vnd.google.colaboratory.intrinsic+json": {
              "type": "string"
            },
            "text/plain": [
              "'Epoch: 0009, Total Run Time: 00:00:46 - Loss: 4.7632e-02, Accuracy: 0.376, Test Loss: 4.7892e-02, Test Accuracy: 0.377 - L2 Norm of Weight Movement From Initialization: [3.043211, 0.2986869, 1.4687209, 0.27956274]'"
            ]
          },
          "metadata": {
            "tags": []
          }
        },
        {
          "output_type": "stream",
          "text": [
            "\n",
            "max training accuracy 0.3756600022315979\n",
            "min training loss 0.047631826251745224\n",
            "max validation accuracy 0.37720000743865967\n",
            "min validation loss 0.047889795154333115\n",
            "\n",
            "l2-normed weight changes from initial values after last epoch:\n",
            "[3.043211, 0.2986869, 1.4687209, 0.27956274]\n",
            "================================================================================\n",
            "opt = sgd, lr = 0.010000, alpha = 5.000000\n",
            "================================================================================\n"
          ],
          "name": "stdout"
        },
        {
          "output_type": "display_data",
          "data": {
            "application/vnd.google.colaboratory.intrinsic+json": {
              "type": "string"
            },
            "text/plain": [
              "'Epoch: 0009, Total Run Time: 00:00:46 - Loss: 6.5731e-02, Accuracy: 0.421, Test Loss: 6.6318e-02, Test Accuracy: 0.423 - L2 Norm of Weight Movement From Initialization: [3.7500105, 0.39715508, 1.9572554, 0.32953978]'"
            ]
          },
          "metadata": {
            "tags": []
          }
        },
        {
          "output_type": "stream",
          "text": [
            "\n",
            "max training accuracy 0.4205999970436096\n",
            "min training loss 0.06573103368282318\n",
            "max validation accuracy 0.4262000024318695\n",
            "min validation loss 0.0663180947303772\n",
            "\n",
            "l2-normed weight changes from initial values after last epoch:\n",
            "[3.7500105, 0.39715508, 1.9572554, 0.32953978]\n",
            "================================================================================\n",
            "opt = sgd, lr = 0.010000, alpha = 4.000000\n",
            "================================================================================\n"
          ],
          "name": "stdout"
        },
        {
          "output_type": "display_data",
          "data": {
            "application/vnd.google.colaboratory.intrinsic+json": {
              "type": "string"
            },
            "text/plain": [
              "'Epoch: 0009, Total Run Time: 00:00:45 - Loss: 9.7515e-02, Accuracy: 0.450, Test Loss: 9.7900e-02, Test Accuracy: 0.454 - L2 Norm of Weight Movement From Initialization: [4.777665, 0.6588268, 2.486111, 0.59155613]'"
            ]
          },
          "metadata": {
            "tags": []
          }
        },
        {
          "output_type": "stream",
          "text": [
            "\n",
            "max training accuracy 0.45013999938964844\n",
            "min training loss 0.09751484543085098\n",
            "max validation accuracy 0.45350000262260437\n",
            "min validation loss 0.09789978712797165\n",
            "\n",
            "l2-normed weight changes from initial values after last epoch:\n",
            "[4.777665, 0.6588268, 2.486111, 0.59155613]\n",
            "================================================================================\n",
            "opt = sgd, lr = 0.010000, alpha = 3.000000\n",
            "================================================================================\n"
          ],
          "name": "stdout"
        },
        {
          "output_type": "display_data",
          "data": {
            "application/vnd.google.colaboratory.intrinsic+json": {
              "type": "string"
            },
            "text/plain": [
              "'Epoch: 0009, Total Run Time: 00:00:46 - Loss: 1.6551e-01, Accuracy: 0.476, Test Loss: 1.6851e-01, Test Accuracy: 0.467 - L2 Norm of Weight Movement From Initialization: [6.4416347, 1.0086722, 3.0421476, 0.96739495]'"
            ]
          },
          "metadata": {
            "tags": []
          }
        },
        {
          "output_type": "stream",
          "text": [
            "\n",
            "max training accuracy 0.47609999775886536\n",
            "min training loss 0.16551020741462708\n",
            "max validation accuracy 0.46650001406669617\n",
            "min validation loss 0.16850784420967102\n",
            "\n",
            "l2-normed weight changes from initial values after last epoch:\n",
            "[6.4416347, 1.0086722, 3.0421476, 0.96739495]\n",
            "================================================================================\n",
            "opt = sgd, lr = 0.010000, alpha = 2.000000\n",
            "================================================================================\n"
          ],
          "name": "stdout"
        },
        {
          "output_type": "display_data",
          "data": {
            "application/vnd.google.colaboratory.intrinsic+json": {
              "type": "string"
            },
            "text/plain": [
              "'Epoch: 0009, Total Run Time: 00:00:46 - Loss: 3.7269e-01, Accuracy: 0.470, Test Loss: 3.8520e-01, Test Accuracy: 0.447 - L2 Norm of Weight Movement From Initialization: [9.057637, 1.4776163, 2.853147, 1.7801768]'"
            ]
          },
          "metadata": {
            "tags": []
          }
        },
        {
          "output_type": "stream",
          "text": [
            "\n",
            "max training accuracy 0.47001999616622925\n",
            "min training loss 0.37269386649131775\n",
            "max validation accuracy 0.45579999685287476\n",
            "min validation loss 0.38086310029029846\n",
            "\n",
            "l2-normed weight changes from initial values after last epoch:\n",
            "[9.057637, 1.4776163, 2.853147, 1.7801768]\n",
            "================================================================================\n",
            "opt = sgd, lr = 0.010000, alpha = 1.000000\n",
            "================================================================================\n"
          ],
          "name": "stdout"
        },
        {
          "output_type": "display_data",
          "data": {
            "application/vnd.google.colaboratory.intrinsic+json": {
              "type": "string"
            },
            "text/plain": [
              "'Epoch: 0009, Total Run Time: 00:00:47 - Loss: 1.6992e+00, Accuracy: 0.389, Test Loss: 1.7130e+00, Test Accuracy: 0.380 - L2 Norm of Weight Movement From Initialization: [13.647683, 3.0959759, 2.103018, 2.959004]'"
            ]
          },
          "metadata": {
            "tags": []
          }
        },
        {
          "output_type": "stream",
          "text": [
            "\n",
            "max training accuracy 0.3889800012111664\n",
            "min training loss 1.6991910934448242\n",
            "max validation accuracy 0.38600000739097595\n",
            "min validation loss 1.7130123376846313\n",
            "\n",
            "l2-normed weight changes from initial values after last epoch:\n",
            "[13.647683, 3.0959759, 2.103018, 2.959004]\n",
            "================================================================================\n",
            "opt = sgd, lr = 0.010000, alpha = 0.800000\n",
            "================================================================================\n"
          ],
          "name": "stdout"
        },
        {
          "output_type": "display_data",
          "data": {
            "application/vnd.google.colaboratory.intrinsic+json": {
              "type": "string"
            },
            "text/plain": [
              "'Epoch: 0009, Total Run Time: 00:00:45 - Loss: 3.0348e+00, Accuracy: 0.270, Test Loss: 2.9687e+00, Test Accuracy: 0.283 - L2 Norm of Weight Movement From Initialization: [10.341673, 2.6792932, 1.666092, 2.384451]'"
            ]
          },
          "metadata": {
            "tags": []
          }
        },
        {
          "output_type": "stream",
          "text": [
            "\n",
            "max training accuracy 0.2701199948787689\n",
            "min training loss 3.0233774185180664\n",
            "max validation accuracy 0.2883000075817108\n",
            "min validation loss 2.968705177307129\n",
            "\n",
            "l2-normed weight changes from initial values after last epoch:\n",
            "[10.341673, 2.6792932, 1.666092, 2.384451]\n",
            "================================================================================\n",
            "opt = sgd, lr = 0.010000, alpha = 0.600000\n",
            "================================================================================\n"
          ],
          "name": "stdout"
        },
        {
          "output_type": "display_data",
          "data": {
            "application/vnd.google.colaboratory.intrinsic+json": {
              "type": "string"
            },
            "text/plain": [
              "'Epoch: 0009, Total Run Time: 00:00:45 - Loss: 6.4022e+00, Accuracy: 0.099, Test Loss: 6.3997e+00, Test Accuracy: 0.100 - L2 Norm of Weight Movement From Initialization: [6.4488835, 1.1765423, 2.363383, 0.1655872]'"
            ]
          },
          "metadata": {
            "tags": []
          }
        },
        {
          "output_type": "stream",
          "text": [
            "\n",
            "max training accuracy 0.12064000219106674\n",
            "min training loss 6.2844767570495605\n",
            "max validation accuracy 0.19189999997615814\n",
            "min validation loss 6.049861907958984\n",
            "\n",
            "l2-normed weight changes from initial values after last epoch:\n",
            "[6.4488835, 1.1765423, 2.363383, 0.1655872]\n",
            "================================================================================\n",
            "opt = sgd, lr = 0.010000, alpha = 0.400000\n",
            "================================================================================\n"
          ],
          "name": "stdout"
        },
        {
          "output_type": "display_data",
          "data": {
            "application/vnd.google.colaboratory.intrinsic+json": {
              "type": "string"
            },
            "text/plain": [
              "'Epoch: 0009, Total Run Time: 00:00:42 - Loss: 1.4421e+01, Accuracy: 0.098, Test Loss: 1.4415e+01, Test Accuracy: 0.100 - L2 Norm of Weight Movement From Initialization: [10.31103, 0.386674, 5.643599, 0.27159783]'"
            ]
          },
          "metadata": {
            "tags": []
          }
        },
        {
          "output_type": "stream",
          "text": [
            "\n",
            "max training accuracy 0.10118000209331512\n",
            "min training loss 14.41639232635498\n",
            "max validation accuracy 0.10000000149011612\n",
            "min validation loss 14.407975196838379\n",
            "\n",
            "l2-normed weight changes from initial values after last epoch:\n",
            "[10.31103, 0.386674, 5.643599, 0.27159783]\n",
            "================================================================================\n",
            "opt = sgd, lr = 0.010000, alpha = 0.200000\n",
            "================================================================================\n"
          ],
          "name": "stdout"
        },
        {
          "output_type": "display_data",
          "data": {
            "application/vnd.google.colaboratory.intrinsic+json": {
              "type": "string"
            },
            "text/plain": [
              "'Epoch: 0009, Total Run Time: 00:00:43 - Loss: 3.2644e+02, Accuracy: 0.100, Test Loss: 3.2644e+02, Test Accuracy: 0.100 - L2 Norm of Weight Movement From Initialization: [25.243608, 0.9938675, 28.37464, 1.2337116]'"
            ]
          },
          "metadata": {
            "tags": []
          }
        },
        {
          "output_type": "stream",
          "text": [
            "\n",
            "max training accuracy 0.10000000149011612\n",
            "min training loss 326.26708984375\n",
            "max validation accuracy 0.10000000149011612\n",
            "min validation loss 326.44476318359375\n",
            "\n",
            "l2-normed weight changes from initial values after last epoch:\n",
            "[25.243608, 0.9938675, 28.37464, 1.2337116]\n",
            "================================================================================\n",
            "opt = sgd, lr = 0.010000, alpha = 0.100000\n",
            "================================================================================\n"
          ],
          "name": "stdout"
        },
        {
          "output_type": "display_data",
          "data": {
            "application/vnd.google.colaboratory.intrinsic+json": {
              "type": "string"
            },
            "text/plain": [
              "'Epoch: 0009, Total Run Time: 00:00:43 - Loss: 1.2434e+03, Accuracy: 0.100, Test Loss: 1.2434e+03, Test Accuracy: 0.100 - L2 Norm of Weight Movement From Initialization: [74.28205, 2.2687125, 12.155881, 2.3133523]'"
            ]
          },
          "metadata": {
            "tags": []
          }
        },
        {
          "output_type": "stream",
          "text": [
            "\n",
            "max training accuracy 0.10000000149011612\n",
            "min training loss 1242.786376953125\n",
            "max validation accuracy 0.10000000149011612\n",
            "min validation loss 1243.396484375\n",
            "\n",
            "l2-normed weight changes from initial values after last epoch:\n",
            "[74.28205, 2.2687125, 12.155881, 2.3133523]\n",
            "================================================================================\n",
            "opt = sgd, lr = 0.010000, alpha = 0.070000\n",
            "================================================================================\n"
          ],
          "name": "stdout"
        },
        {
          "output_type": "display_data",
          "data": {
            "application/vnd.google.colaboratory.intrinsic+json": {
              "type": "string"
            },
            "text/plain": [
              "'Epoch: 0009, Total Run Time: 00:00:48 - Loss: 2.4720e+03, Accuracy: 0.100, Test Loss: 2.4720e+03, Test Accuracy: 0.100 - L2 Norm of Weight Movement From Initialization: [163.71794, 5.243478, 57.15761, 5.2170506]'"
            ]
          },
          "metadata": {
            "tags": []
          }
        },
        {
          "output_type": "stream",
          "text": [
            "\n",
            "max training accuracy 0.10006000101566315\n",
            "min training loss 2470.6689453125\n",
            "max validation accuracy 0.10000000149011612\n",
            "min validation loss 2472.03564453125\n",
            "\n",
            "l2-normed weight changes from initial values after last epoch:\n",
            "[163.71794, 5.243478, 57.15761, 5.2170506]\n",
            "================================================================================\n",
            "opt = sgd, lr = 0.010000, alpha = 0.040000\n",
            "================================================================================\n"
          ],
          "name": "stdout"
        },
        {
          "output_type": "display_data",
          "data": {
            "application/vnd.google.colaboratory.intrinsic+json": {
              "type": "string"
            },
            "text/plain": [
              "'Epoch: 0009, Total Run Time: 00:00:44 - Loss: 7.2558e+03, Accuracy: 0.100, Test Loss: 7.2558e+03, Test Accuracy: 0.100 - L2 Norm of Weight Movement From Initialization: [251.35077, 8.070101, 36.698364, 7.8012905]'"
            ]
          },
          "metadata": {
            "tags": []
          }
        },
        {
          "output_type": "stream",
          "text": [
            "\n",
            "max training accuracy 0.10000000149011612\n",
            "min training loss 7252.2080078125\n",
            "max validation accuracy 0.10000000149011612\n",
            "min validation loss 7255.82421875\n",
            "\n",
            "l2-normed weight changes from initial values after last epoch:\n",
            "[251.35077, 8.070101, 36.698364, 7.8012905]\n",
            "================================================================================\n",
            "opt = sgd, lr = 0.010000, alpha = 0.010000\n",
            "================================================================================\n"
          ],
          "name": "stdout"
        },
        {
          "output_type": "display_data",
          "data": {
            "application/vnd.google.colaboratory.intrinsic+json": {
              "type": "string"
            },
            "text/plain": [
              "'Epoch: 0009, Total Run Time: 00:00:46 - Loss: 1.0362e+05, Accuracy: 0.100, Test Loss: 1.0362e+05, Test Accuracy: 0.100 - L2 Norm of Weight Movement From Initialization: [6337.586, 209.62503, 1028.7968, 219.9832]'"
            ]
          },
          "metadata": {
            "tags": []
          }
        },
        {
          "output_type": "stream",
          "text": [
            "\n",
            "max training accuracy 0.10000000149011612\n",
            "min training loss 103569.2421875\n",
            "max validation accuracy 0.10000000149011612\n",
            "min validation loss 103617.0625\n",
            "\n",
            "l2-normed weight changes from initial values after last epoch:\n",
            "[6337.586, 209.62503, 1028.7968, 219.9832]\n",
            "================================================================================\n",
            "opt = sgd, lr = 0.010000, alpha = 0.001000\n",
            "================================================================================\n"
          ],
          "name": "stdout"
        },
        {
          "output_type": "display_data",
          "data": {
            "application/vnd.google.colaboratory.intrinsic+json": {
              "type": "string"
            },
            "text/plain": [
              "'Epoch: 0009, Total Run Time: 00:00:44 - Loss: 8.2902e+06, Accuracy: 0.100, Test Loss: 8.2902e+06, Test Accuracy: 0.100 - L2 Norm of Weight Movement From Initialization: [1069550.5, 33252.152, 170467.14, 33361.004]'"
            ]
          },
          "metadata": {
            "tags": []
          }
        },
        {
          "output_type": "stream",
          "text": [
            "\n",
            "max training accuracy 0.10000000149011612\n",
            "min training loss 8287235.0\n",
            "max validation accuracy 0.10000000149011612\n",
            "min validation loss 8290205.0\n",
            "\n",
            "l2-normed weight changes from initial values after last epoch:\n",
            "[1069550.5, 33252.152, 170467.14, 33361.004]\n",
            "================================================================================\n",
            "opt = sgd, lr = 0.001000, alpha = 20000.000000\n",
            "================================================================================\n"
          ],
          "name": "stdout"
        },
        {
          "output_type": "display_data",
          "data": {
            "application/vnd.google.colaboratory.intrinsic+json": {
              "type": "string"
            },
            "text/plain": [
              "'Epoch: 0009, Total Run Time: 00:00:43 - Loss: 5.7565e-09, Accuracy: 0.094, Test Loss: 5.7564e-09, Test Accuracy: 0.093 - L2 Norm of Weight Movement From Initialization: [0.0, 0.0, 0.0, 0.0]'"
            ]
          },
          "metadata": {
            "tags": []
          }
        },
        {
          "output_type": "stream",
          "text": [
            "\n",
            "max training accuracy 0.09415999799966812\n",
            "min training loss 5.756487286845413e-09\n",
            "max validation accuracy 0.0925000011920929\n",
            "min validation loss 5.7564477629057365e-09\n",
            "\n",
            "l2-normed weight changes from initial values after last epoch:\n",
            "[0.0, 0.0, 0.0, 0.0]\n",
            "================================================================================\n",
            "opt = sgd, lr = 0.001000, alpha = 1000.000000\n",
            "================================================================================\n"
          ],
          "name": "stdout"
        },
        {
          "output_type": "display_data",
          "data": {
            "application/vnd.google.colaboratory.intrinsic+json": {
              "type": "string"
            },
            "text/plain": [
              "'Epoch: 0009, Total Run Time: 00:00:43 - Loss: 2.3026e-06, Accuracy: 0.089, Test Loss: 2.3026e-06, Test Accuracy: 0.088 - L2 Norm of Weight Movement From Initialization: [0.0, 0.0, 0.0, 0.0]'"
            ]
          },
          "metadata": {
            "tags": []
          }
        },
        {
          "output_type": "stream",
          "text": [
            "\n",
            "max training accuracy 0.088639996945858\n",
            "min training loss 2.302632083228673e-06\n",
            "max validation accuracy 0.08789999783039093\n",
            "min validation loss 2.3025800146569964e-06\n",
            "\n",
            "l2-normed weight changes from initial values after last epoch:\n",
            "[0.0, 0.0, 0.0, 0.0]\n",
            "================================================================================\n",
            "opt = sgd, lr = 0.001000, alpha = 100.000000\n",
            "================================================================================\n"
          ],
          "name": "stdout"
        },
        {
          "output_type": "display_data",
          "data": {
            "application/vnd.google.colaboratory.intrinsic+json": {
              "type": "string"
            },
            "text/plain": [
              "'Epoch: 0009, Total Run Time: 00:00:44 - Loss: 2.3030e-04, Accuracy: 0.101, Test Loss: 2.3032e-04, Test Accuracy: 0.102 - L2 Norm of Weight Movement From Initialization: [0.0009601165, 3.5921992e-05, 0.00024641884, 4.140436e-05]'"
            ]
          },
          "metadata": {
            "tags": []
          }
        },
        {
          "output_type": "stream",
          "text": [
            "\n",
            "max training accuracy 0.10130000114440918\n",
            "min training loss 0.000230304358410649\n",
            "max validation accuracy 0.10170000046491623\n",
            "min validation loss 0.000230320161790587\n",
            "\n",
            "l2-normed weight changes from initial values after last epoch:\n",
            "[0.0009601165, 3.5921992e-05, 0.00024641884, 4.140436e-05]\n",
            "================================================================================\n",
            "opt = sgd, lr = 0.001000, alpha = 80.000000\n",
            "================================================================================\n"
          ],
          "name": "stdout"
        },
        {
          "output_type": "display_data",
          "data": {
            "application/vnd.google.colaboratory.intrinsic+json": {
              "type": "string"
            },
            "text/plain": [
              "'Epoch: 0009, Total Run Time: 00:00:46 - Loss: 3.5998e-04, Accuracy: 0.096, Test Loss: 3.5996e-04, Test Accuracy: 0.097 - L2 Norm of Weight Movement From Initialization: [0.0060916925, 0.00016185999, 0.001216271, 0.00019715105]'"
            ]
          },
          "metadata": {
            "tags": []
          }
        },
        {
          "output_type": "stream",
          "text": [
            "\n",
            "max training accuracy 0.09582000225782394\n",
            "min training loss 0.0003599772753659636\n",
            "max validation accuracy 0.09870000183582306\n",
            "min validation loss 0.0003599566116463393\n",
            "\n",
            "l2-normed weight changes from initial values after last epoch:\n",
            "[0.0060916925, 0.00016185999, 0.001216271, 0.00019715105]\n",
            "================================================================================\n",
            "opt = sgd, lr = 0.001000, alpha = 60.000000\n",
            "================================================================================\n"
          ],
          "name": "stdout"
        },
        {
          "output_type": "display_data",
          "data": {
            "application/vnd.google.colaboratory.intrinsic+json": {
              "type": "string"
            },
            "text/plain": [
              "'Epoch: 0009, Total Run Time: 00:00:44 - Loss: 6.3973e-04, Accuracy: 0.104, Test Loss: 6.3979e-04, Test Accuracy: 0.105 - L2 Norm of Weight Movement From Initialization: [0.006964406, 0.00017045543, 0.0010207827, 0.00013682344]'"
            ]
          },
          "metadata": {
            "tags": []
          }
        },
        {
          "output_type": "stream",
          "text": [
            "\n",
            "max training accuracy 0.10409999638795853\n",
            "min training loss 0.000639728328678757\n",
            "max validation accuracy 0.10509999841451645\n",
            "min validation loss 0.0006397857796400785\n",
            "\n",
            "l2-normed weight changes from initial values after last epoch:\n",
            "[0.006964406, 0.00017045543, 0.0010207827, 0.00013682344]\n",
            "================================================================================\n",
            "opt = sgd, lr = 0.001000, alpha = 40.000000\n",
            "================================================================================\n"
          ],
          "name": "stdout"
        },
        {
          "output_type": "display_data",
          "data": {
            "application/vnd.google.colaboratory.intrinsic+json": {
              "type": "string"
            },
            "text/plain": [
              "'Epoch: 0009, Total Run Time: 00:00:45 - Loss: 1.4392e-03, Accuracy: 0.099, Test Loss: 1.4391e-03, Test Accuracy: 0.100 - L2 Norm of Weight Movement From Initialization: [0.016033595, 0.0003930556, 0.002088645, 0.0003877037]'"
            ]
          },
          "metadata": {
            "tags": []
          }
        },
        {
          "output_type": "stream",
          "text": [
            "\n",
            "max training accuracy 0.10106000304222107\n",
            "min training loss 0.0014392241137102246\n",
            "max validation accuracy 0.10119999945163727\n",
            "min validation loss 0.0014391306322067976\n",
            "\n",
            "l2-normed weight changes from initial values after last epoch:\n",
            "[0.016033595, 0.0003930556, 0.002088645, 0.0003877037]\n",
            "================================================================================\n",
            "opt = sgd, lr = 0.001000, alpha = 30.000000\n",
            "================================================================================\n"
          ],
          "name": "stdout"
        },
        {
          "output_type": "display_data",
          "data": {
            "application/vnd.google.colaboratory.intrinsic+json": {
              "type": "string"
            },
            "text/plain": [
              "'Epoch: 0009, Total Run Time: 00:00:44 - Loss: 2.5495e-03, Accuracy: 0.087, Test Loss: 2.5492e-03, Test Accuracy: 0.089 - L2 Norm of Weight Movement From Initialization: [0.026556656, 0.00068038347, 0.0032935934, 0.00055029267]'"
            ]
          },
          "metadata": {
            "tags": []
          }
        },
        {
          "output_type": "stream",
          "text": [
            "\n",
            "max training accuracy 0.08907999843358994\n",
            "min training loss 0.0025495104491710663\n",
            "max validation accuracy 0.09099999815225601\n",
            "min validation loss 0.0025492191780358553\n",
            "\n",
            "l2-normed weight changes from initial values after last epoch:\n",
            "[0.026556656, 0.00068038347, 0.0032935934, 0.00055029267]\n",
            "================================================================================\n",
            "opt = sgd, lr = 0.001000, alpha = 20.000000\n",
            "================================================================================\n"
          ],
          "name": "stdout"
        },
        {
          "output_type": "display_data",
          "data": {
            "application/vnd.google.colaboratory.intrinsic+json": {
              "type": "string"
            },
            "text/plain": [
              "'Epoch: 0009, Total Run Time: 00:00:44 - Loss: 5.6828e-03, Accuracy: 0.114, Test Loss: 5.6839e-03, Test Accuracy: 0.117 - L2 Norm of Weight Movement From Initialization: [0.10137652, 0.0027214652, 0.018756162, 0.003754253]'"
            ]
          },
          "metadata": {
            "tags": []
          }
        },
        {
          "output_type": "stream",
          "text": [
            "\n",
            "max training accuracy 0.11435999721288681\n",
            "min training loss 0.005682753399014473\n",
            "max validation accuracy 0.11729999631643295\n",
            "min validation loss 0.005683880764991045\n",
            "\n",
            "l2-normed weight changes from initial values after last epoch:\n",
            "[0.10137652, 0.0027214652, 0.018756162, 0.003754253]\n",
            "================================================================================\n",
            "opt = sgd, lr = 0.001000, alpha = 10.000000\n",
            "================================================================================\n"
          ],
          "name": "stdout"
        },
        {
          "output_type": "display_data",
          "data": {
            "application/vnd.google.colaboratory.intrinsic+json": {
              "type": "string"
            },
            "text/plain": [
              "'Epoch: 0009, Total Run Time: 00:00:44 - Loss: 2.0956e-02, Accuracy: 0.110, Test Loss: 2.0916e-02, Test Accuracy: 0.110 - L2 Norm of Weight Movement From Initialization: [0.48699778, 0.020415168, 0.11272783, 0.020781415]'"
            ]
          },
          "metadata": {
            "tags": []
          }
        },
        {
          "output_type": "stream",
          "text": [
            "\n",
            "max training accuracy 0.11247999966144562\n",
            "min training loss 0.020956311374902725\n",
            "max validation accuracy 0.11010000109672546\n",
            "min validation loss 0.02091616578400135\n",
            "\n",
            "l2-normed weight changes from initial values after last epoch:\n",
            "[0.48699778, 0.020415168, 0.11272783, 0.020781415]\n",
            "================================================================================\n",
            "opt = sgd, lr = 0.001000, alpha = 9.000000\n",
            "================================================================================\n"
          ],
          "name": "stdout"
        },
        {
          "output_type": "display_data",
          "data": {
            "application/vnd.google.colaboratory.intrinsic+json": {
              "type": "string"
            },
            "text/plain": [
              "'Epoch: 0009, Total Run Time: 00:00:45 - Loss: 2.5785e-02, Accuracy: 0.139, Test Loss: 2.5735e-02, Test Accuracy: 0.138 - L2 Norm of Weight Movement From Initialization: [0.53473866, 0.018835802, 0.14457874, 0.032799132]'"
            ]
          },
          "metadata": {
            "tags": []
          }
        },
        {
          "output_type": "stream",
          "text": [
            "\n",
            "max training accuracy 0.13882000744342804\n",
            "min training loss 0.02578529343008995\n",
            "max validation accuracy 0.13899999856948853\n",
            "min validation loss 0.02573472075164318\n",
            "\n",
            "l2-normed weight changes from initial values after last epoch:\n",
            "[0.53473866, 0.018835802, 0.14457874, 0.032799132]\n",
            "================================================================================\n",
            "opt = sgd, lr = 0.001000, alpha = 8.000000\n",
            "================================================================================\n"
          ],
          "name": "stdout"
        },
        {
          "output_type": "display_data",
          "data": {
            "application/vnd.google.colaboratory.intrinsic+json": {
              "type": "string"
            },
            "text/plain": [
              "'Epoch: 0009, Total Run Time: 00:00:44 - Loss: 3.2312e-02, Accuracy: 0.122, Test Loss: 3.2207e-02, Test Accuracy: 0.123 - L2 Norm of Weight Movement From Initialization: [0.67128766, 0.0300431, 0.18600559, 0.04794811]'"
            ]
          },
          "metadata": {
            "tags": []
          }
        },
        {
          "output_type": "stream",
          "text": [
            "\n",
            "max training accuracy 0.14377999305725098\n",
            "min training loss 0.03231215476989746\n",
            "max validation accuracy 0.14990000426769257\n",
            "min validation loss 0.03220657631754875\n",
            "\n",
            "l2-normed weight changes from initial values after last epoch:\n",
            "[0.67128766, 0.0300431, 0.18600559, 0.04794811]\n",
            "================================================================================\n",
            "opt = sgd, lr = 0.001000, alpha = 7.000000\n",
            "================================================================================\n"
          ],
          "name": "stdout"
        },
        {
          "output_type": "display_data",
          "data": {
            "application/vnd.google.colaboratory.intrinsic+json": {
              "type": "string"
            },
            "text/plain": [
              "'Epoch: 0009, Total Run Time: 00:00:45 - Loss: 4.0975e-02, Accuracy: 0.230, Test Loss: 4.0880e-02, Test Accuracy: 0.228 - L2 Norm of Weight Movement From Initialization: [0.8276962, 0.033146415, 0.2588749, 0.040917885]'"
            ]
          },
          "metadata": {
            "tags": []
          }
        },
        {
          "output_type": "stream",
          "text": [
            "\n",
            "max training accuracy 0.24988000094890594\n",
            "min training loss 0.040975283831357956\n",
            "max validation accuracy 0.2459000051021576\n",
            "min validation loss 0.040880464017391205\n",
            "\n",
            "l2-normed weight changes from initial values after last epoch:\n",
            "[0.8276962, 0.033146415, 0.2588749, 0.040917885]\n",
            "================================================================================\n",
            "opt = sgd, lr = 0.001000, alpha = 6.000000\n",
            "================================================================================\n"
          ],
          "name": "stdout"
        },
        {
          "output_type": "display_data",
          "data": {
            "application/vnd.google.colaboratory.intrinsic+json": {
              "type": "string"
            },
            "text/plain": [
              "'Epoch: 0009, Total Run Time: 00:00:47 - Loss: 5.3704e-02, Accuracy: 0.305, Test Loss: 5.3663e-02, Test Accuracy: 0.311 - L2 Norm of Weight Movement From Initialization: [0.96660084, 0.049045946, 0.31003702, 0.04347367]'"
            ]
          },
          "metadata": {
            "tags": []
          }
        },
        {
          "output_type": "stream",
          "text": [
            "\n",
            "max training accuracy 0.3050999939441681\n",
            "min training loss 0.05370378494262695\n",
            "max validation accuracy 0.31060001254081726\n",
            "min validation loss 0.053662627935409546\n",
            "\n",
            "l2-normed weight changes from initial values after last epoch:\n",
            "[0.96660084, 0.049045946, 0.31003702, 0.04347367]\n",
            "================================================================================\n",
            "opt = sgd, lr = 0.001000, alpha = 5.000000\n",
            "================================================================================\n"
          ],
          "name": "stdout"
        },
        {
          "output_type": "display_data",
          "data": {
            "application/vnd.google.colaboratory.intrinsic+json": {
              "type": "string"
            },
            "text/plain": [
              "'Epoch: 0009, Total Run Time: 00:00:47 - Loss: 7.5620e-02, Accuracy: 0.339, Test Loss: 7.5414e-02, Test Accuracy: 0.336 - L2 Norm of Weight Movement From Initialization: [1.1883656, 0.07267438, 0.37737468, 0.06799513]'"
            ]
          },
          "metadata": {
            "tags": []
          }
        },
        {
          "output_type": "stream",
          "text": [
            "\n",
            "max training accuracy 0.3389799892902374\n",
            "min training loss 0.07561992853879929\n",
            "max validation accuracy 0.3361000120639801\n",
            "min validation loss 0.07541428506374359\n",
            "\n",
            "l2-normed weight changes from initial values after last epoch:\n",
            "[1.1883656, 0.07267438, 0.37737468, 0.06799513]\n",
            "================================================================================\n",
            "opt = sgd, lr = 0.001000, alpha = 4.000000\n",
            "================================================================================\n"
          ],
          "name": "stdout"
        },
        {
          "output_type": "display_data",
          "data": {
            "application/vnd.google.colaboratory.intrinsic+json": {
              "type": "string"
            },
            "text/plain": [
              "'Epoch: 0009, Total Run Time: 00:00:49 - Loss: 1.1380e-01, Accuracy: 0.359, Test Loss: 1.1382e-01, Test Accuracy: 0.354 - L2 Norm of Weight Movement From Initialization: [1.5296563, 0.09872549, 0.5896142, 0.09529141]'"
            ]
          },
          "metadata": {
            "tags": []
          }
        },
        {
          "output_type": "stream",
          "text": [
            "\n",
            "max training accuracy 0.3594200015068054\n",
            "min training loss 0.11379600316286087\n",
            "max validation accuracy 0.35429999232292175\n",
            "min validation loss 0.11382072418928146\n",
            "\n",
            "l2-normed weight changes from initial values after last epoch:\n",
            "[1.5296563, 0.09872549, 0.5896142, 0.09529141]\n",
            "================================================================================\n",
            "opt = sgd, lr = 0.001000, alpha = 3.000000\n",
            "================================================================================\n"
          ],
          "name": "stdout"
        },
        {
          "output_type": "display_data",
          "data": {
            "application/vnd.google.colaboratory.intrinsic+json": {
              "type": "string"
            },
            "text/plain": [
              "'Epoch: 0009, Total Run Time: 00:00:47 - Loss: 1.9240e-01, Accuracy: 0.400, Test Loss: 1.9245e-01, Test Accuracy: 0.399 - L2 Norm of Weight Movement From Initialization: [1.9734362, 0.17178439, 0.7063096, 0.16055235]'"
            ]
          },
          "metadata": {
            "tags": []
          }
        },
        {
          "output_type": "stream",
          "text": [
            "\n",
            "max training accuracy 0.40011999011039734\n",
            "min training loss 0.1924024373292923\n",
            "max validation accuracy 0.39890000224113464\n",
            "min validation loss 0.1924535185098648\n",
            "\n",
            "l2-normed weight changes from initial values after last epoch:\n",
            "[1.9734362, 0.17178439, 0.7063096, 0.16055235]\n",
            "================================================================================\n",
            "opt = sgd, lr = 0.001000, alpha = 2.000000\n",
            "================================================================================\n"
          ],
          "name": "stdout"
        },
        {
          "output_type": "display_data",
          "data": {
            "application/vnd.google.colaboratory.intrinsic+json": {
              "type": "string"
            },
            "text/plain": [
              "'Epoch: 0009, Total Run Time: 00:00:48 - Loss: 4.0449e-01, Accuracy: 0.439, Test Loss: 4.0624e-01, Test Accuracy: 0.427 - L2 Norm of Weight Movement From Initialization: [2.9941375, 0.3114812, 1.353337, 0.29284403]'"
            ]
          },
          "metadata": {
            "tags": []
          }
        },
        {
          "output_type": "stream",
          "text": [
            "\n",
            "max training accuracy 0.4385400116443634\n",
            "min training loss 0.4044868052005768\n",
            "max validation accuracy 0.43149998784065247\n",
            "min validation loss 0.40624183416366577\n",
            "\n",
            "l2-normed weight changes from initial values after last epoch:\n",
            "[2.9941375, 0.3114812, 1.353337, 0.29284403]\n",
            "================================================================================\n",
            "opt = sgd, lr = 0.001000, alpha = 1.000000\n",
            "================================================================================\n"
          ],
          "name": "stdout"
        },
        {
          "output_type": "display_data",
          "data": {
            "application/vnd.google.colaboratory.intrinsic+json": {
              "type": "string"
            },
            "text/plain": [
              "'Epoch: 0009, Total Run Time: 00:00:47 - Loss: 1.4849e+00, Accuracy: 0.478, Test Loss: 1.5371e+00, Test Accuracy: 0.452 - L2 Norm of Weight Movement From Initialization: [6.0999618, 0.9718548, 2.6749973, 0.9249537]'"
            ]
          },
          "metadata": {
            "tags": []
          }
        },
        {
          "output_type": "stream",
          "text": [
            "\n",
            "max training accuracy 0.4784800112247467\n",
            "min training loss 1.484932541847229\n",
            "max validation accuracy 0.4625999927520752\n",
            "min validation loss 1.5214533805847168\n",
            "\n",
            "l2-normed weight changes from initial values after last epoch:\n",
            "[6.0999618, 0.9718548, 2.6749973, 0.9249537]\n",
            "================================================================================\n",
            "opt = sgd, lr = 0.001000, alpha = 0.800000\n",
            "================================================================================\n"
          ],
          "name": "stdout"
        },
        {
          "output_type": "display_data",
          "data": {
            "application/vnd.google.colaboratory.intrinsic+json": {
              "type": "string"
            },
            "text/plain": [
              "'Epoch: 0009, Total Run Time: 00:00:46 - Loss: 2.3273e+00, Accuracy: 0.474, Test Loss: 2.3418e+00, Test Accuracy: 0.468 - L2 Norm of Weight Movement From Initialization: [7.287984, 1.1451353, 3.065266, 1.2919358]'"
            ]
          },
          "metadata": {
            "tags": []
          }
        },
        {
          "output_type": "stream",
          "text": [
            "\n",
            "max training accuracy 0.4737200140953064\n",
            "min training loss 2.327312469482422\n",
            "max validation accuracy 0.46790000796318054\n",
            "min validation loss 2.341810703277588\n",
            "\n",
            "l2-normed weight changes from initial values after last epoch:\n",
            "[7.287984, 1.1451353, 3.065266, 1.2919358]\n",
            "================================================================================\n",
            "opt = sgd, lr = 0.001000, alpha = 0.600000\n",
            "================================================================================\n"
          ],
          "name": "stdout"
        },
        {
          "output_type": "display_data",
          "data": {
            "application/vnd.google.colaboratory.intrinsic+json": {
              "type": "string"
            },
            "text/plain": [
              "'Epoch: 0009, Total Run Time: 00:00:46 - Loss: 4.1027e+00, Accuracy: 0.476, Test Loss: 4.2694e+00, Test Accuracy: 0.444 - L2 Norm of Weight Movement From Initialization: [9.882187, 1.4782689, 2.829713, 1.9745305]'"
            ]
          },
          "metadata": {
            "tags": []
          }
        },
        {
          "output_type": "stream",
          "text": [
            "\n",
            "max training accuracy 0.475739985704422\n",
            "min training loss 4.102673530578613\n",
            "max validation accuracy 0.45879998803138733\n",
            "min validation loss 4.191259860992432\n",
            "\n",
            "l2-normed weight changes from initial values after last epoch:\n",
            "[9.882187, 1.4782689, 2.829713, 1.9745305]\n",
            "================================================================================\n",
            "opt = sgd, lr = 0.001000, alpha = 0.400000\n",
            "================================================================================\n"
          ],
          "name": "stdout"
        },
        {
          "output_type": "display_data",
          "data": {
            "application/vnd.google.colaboratory.intrinsic+json": {
              "type": "string"
            },
            "text/plain": [
              "'Epoch: 0009, Total Run Time: 00:00:46 - Loss: 9.9545e+00, Accuracy: 0.431, Test Loss: 9.9244e+00, Test Accuracy: 0.441 - L2 Norm of Weight Movement From Initialization: [12.1502495, 2.117847, 2.554313, 2.5306857]'"
            ]
          },
          "metadata": {
            "tags": []
          }
        },
        {
          "output_type": "stream",
          "text": [
            "\n",
            "max training accuracy 0.43116000294685364\n",
            "min training loss 9.954527854919434\n",
            "max validation accuracy 0.4406000077724457\n",
            "min validation loss 9.924357414245605\n",
            "\n",
            "l2-normed weight changes from initial values after last epoch:\n",
            "[12.1502495, 2.117847, 2.554313, 2.5306857]\n",
            "================================================================================\n",
            "opt = sgd, lr = 0.001000, alpha = 0.200000\n",
            "================================================================================\n"
          ],
          "name": "stdout"
        },
        {
          "output_type": "display_data",
          "data": {
            "application/vnd.google.colaboratory.intrinsic+json": {
              "type": "string"
            },
            "text/plain": [
              "'Epoch: 0009, Total Run Time: 00:00:45 - Loss: 5.6882e+01, Accuracy: 0.114, Test Loss: 5.2688e+01, Test Accuracy: 0.186 - L2 Norm of Weight Movement From Initialization: [8.948306, 4.2214894, 2.777471, 1.6098415]'"
            ]
          },
          "metadata": {
            "tags": []
          }
        },
        {
          "output_type": "stream",
          "text": [
            "\n",
            "max training accuracy 0.1646600067615509\n",
            "min training loss 54.420833587646484\n",
            "max validation accuracy 0.18639999628067017\n",
            "min validation loss 52.688255310058594\n",
            "\n",
            "l2-normed weight changes from initial values after last epoch:\n",
            "[8.948306, 4.2214894, 2.777471, 1.6098415]\n",
            "================================================================================\n",
            "opt = sgd, lr = 0.001000, alpha = 0.100000\n",
            "================================================================================\n"
          ],
          "name": "stdout"
        },
        {
          "output_type": "display_data",
          "data": {
            "application/vnd.google.colaboratory.intrinsic+json": {
              "type": "string"
            },
            "text/plain": [
              "'Epoch: 0009, Total Run Time: 00:00:48 - Loss: 2.3096e+02, Accuracy: 0.100, Test Loss: 2.3124e+02, Test Accuracy: 0.100 - L2 Norm of Weight Movement From Initialization: [13.761754, 0.5005625, 10.576102, 0.44711757]'"
            ]
          },
          "metadata": {
            "tags": []
          }
        },
        {
          "output_type": "stream",
          "text": [
            "\n",
            "max training accuracy 0.10401999950408936\n",
            "min training loss 230.9393768310547\n",
            "max validation accuracy 0.10000000149011612\n",
            "min validation loss 230.5560760498047\n",
            "\n",
            "l2-normed weight changes from initial values after last epoch:\n",
            "[13.761754, 0.5005625, 10.576102, 0.44711757]\n",
            "================================================================================\n",
            "opt = sgd, lr = 0.001000, alpha = 0.070000\n",
            "================================================================================\n"
          ],
          "name": "stdout"
        },
        {
          "output_type": "display_data",
          "data": {
            "application/vnd.google.colaboratory.intrinsic+json": {
              "type": "string"
            },
            "text/plain": [
              "'Epoch: 0009, Total Run Time: 00:00:49 - Loss: 2.4720e+03, Accuracy: 0.100, Test Loss: 2.4720e+03, Test Accuracy: 0.100 - L2 Norm of Weight Movement From Initialization: [33.955746, 1.2559574, 44.06345, 1.8855948]'"
            ]
          },
          "metadata": {
            "tags": []
          }
        },
        {
          "output_type": "stream",
          "text": [
            "\n",
            "max training accuracy 0.10000000149011612\n",
            "min training loss 2469.98681640625\n",
            "max validation accuracy 0.10000000149011612\n",
            "min validation loss 2472.037109375\n",
            "\n",
            "l2-normed weight changes from initial values after last epoch:\n",
            "[33.955746, 1.2559574, 44.06345, 1.8855948]\n",
            "================================================================================\n",
            "opt = sgd, lr = 0.001000, alpha = 0.040000\n",
            "================================================================================\n"
          ],
          "name": "stdout"
        },
        {
          "output_type": "display_data",
          "data": {
            "application/vnd.google.colaboratory.intrinsic+json": {
              "type": "string"
            },
            "text/plain": [
              "'Epoch: 0009, Total Run Time: 00:00:47 - Loss: 7.2558e+03, Accuracy: 0.100, Test Loss: 7.2558e+03, Test Accuracy: 0.100 - L2 Norm of Weight Movement From Initialization: [29.170166, 1.0205396, 27.17494, 1.0541494]'"
            ]
          },
          "metadata": {
            "tags": []
          }
        },
        {
          "output_type": "stream",
          "text": [
            "\n",
            "max training accuracy 0.10010000318288803\n",
            "min training loss 7251.66259765625\n",
            "max validation accuracy 0.10000000149011612\n",
            "min validation loss 7255.8232421875\n",
            "\n",
            "l2-normed weight changes from initial values after last epoch:\n",
            "[29.170166, 1.0205396, 27.17494, 1.0541494]\n",
            "================================================================================\n",
            "opt = sgd, lr = 0.001000, alpha = 0.010000\n",
            "================================================================================\n"
          ],
          "name": "stdout"
        },
        {
          "output_type": "display_data",
          "data": {
            "application/vnd.google.colaboratory.intrinsic+json": {
              "type": "string"
            },
            "text/plain": [
              "'Epoch: 0009, Total Run Time: 00:00:47 - Loss: 1.0362e+05, Accuracy: 0.100, Test Loss: 1.0362e+05, Test Accuracy: 0.100 - L2 Norm of Weight Movement From Initialization: [526.5488, 20.098198, 72.01266, 23.057837]'"
            ]
          },
          "metadata": {
            "tags": []
          }
        },
        {
          "output_type": "stream",
          "text": [
            "\n",
            "max training accuracy 0.10000000149011612\n",
            "min training loss 103571.25\n",
            "max validation accuracy 0.10000000149011612\n",
            "min validation loss 103617.0546875\n",
            "\n",
            "l2-normed weight changes from initial values after last epoch:\n",
            "[526.5488, 20.098198, 72.01266, 23.057837]\n",
            "================================================================================\n",
            "opt = sgd, lr = 0.001000, alpha = 0.001000\n",
            "================================================================================\n"
          ],
          "name": "stdout"
        },
        {
          "output_type": "display_data",
          "data": {
            "application/vnd.google.colaboratory.intrinsic+json": {
              "type": "string"
            },
            "text/plain": [
              "'Epoch: 0009, Total Run Time: 00:00:48 - Loss: 8.2902e+06, Accuracy: 0.100, Test Loss: 8.2902e+06, Test Accuracy: 0.100 - L2 Norm of Weight Movement From Initialization: [83535.76, 2984.2903, 11637.054, 3040.1663]'"
            ]
          },
          "metadata": {
            "tags": []
          }
        },
        {
          "output_type": "stream",
          "text": [
            "\n",
            "max training accuracy 0.10000000149011612\n",
            "min training loss 8286862.0\n",
            "max validation accuracy 0.10000000149011612\n",
            "min validation loss 8290207.5\n",
            "\n",
            "l2-normed weight changes from initial values after last epoch:\n",
            "[83535.76, 2984.2903, 11637.054, 3040.1663]\n"
          ],
          "name": "stdout"
        }
      ]
    },
    {
      "cell_type": "code",
      "metadata": {
        "colab": {
          "base_uri": "https://localhost:8080/",
          "height": 1000
        },
        "id": "eNvsgXj_sEJD",
        "outputId": "a8b045b4-be0b-46d2-87d6-943179898e7e"
      },
      "source": [
        "# experiment with wider network\n",
        "lrs = [1.0, 0.1, 0.01, 0.001]\n",
        "alphas = [10000000.0, 1000000.0, 100000.0, 10000.0, 1000.0, 100.0, 10.0, 5.0, 1.0, 0.5, 0.1, 0.01]\n",
        "normed_weight_changes_w256 = {}\n",
        "optimizer = 'sgd'\n",
        "num_epochs = 10\n",
        "for learning_rate in lrs:\n",
        "  for alpha_val in alphas:\n",
        "    print('='*80)\n",
        "    print('opt = %s, lr = %f, alpha = %f' %(optimizer, learning_rate, alpha_val))\n",
        "    print('='*80)\n",
        "    normed_weight_changes_w256[(optimizer, learning_rate, alpha_val)] = train(alpha=alpha_val, epoch=num_epochs, opt=optimizer, lr=learning_rate, scaling=True, width=256)"
      ],
      "execution_count": 6,
      "outputs": [
        {
          "output_type": "stream",
          "text": [
            "================================================================================\n",
            "opt = sgd, lr = 1.000000, alpha = 10000000.000000\n",
            "================================================================================\n"
          ],
          "name": "stdout"
        },
        {
          "output_type": "display_data",
          "data": {
            "application/vnd.google.colaboratory.intrinsic+json": {
              "type": "string"
            },
            "text/plain": [
              "'Epoch: 0009, Total Run Time: 00:01:31 - Loss: 2.3026e-14, Accuracy: 0.094, Test Loss: 2.3026e-14, Test Accuracy: 0.093 - L2 Norm of Weight Movement From Initialization: [0.0, 0.0, 0.0, 0.0]'"
            ]
          },
          "metadata": {
            "tags": []
          }
        },
        {
          "output_type": "stream",
          "text": [
            "\n",
            "max training accuracy 0.09350000321865082\n",
            "min training loss 2.3025665711129753e-14\n",
            "max validation accuracy 0.09279999881982803\n",
            "min validation loss 2.3025850364312254e-14\n",
            "\n",
            "l2-normed weight changes from initial values after last epoch:\n",
            "[0.0, 0.0, 0.0, 0.0]\n",
            "================================================================================\n",
            "opt = sgd, lr = 1.000000, alpha = 1000000.000000\n",
            "================================================================================\n"
          ],
          "name": "stdout"
        },
        {
          "output_type": "display_data",
          "data": {
            "application/vnd.google.colaboratory.intrinsic+json": {
              "type": "string"
            },
            "text/plain": [
              "'Epoch: 0009, Total Run Time: 00:01:33 - Loss: 2.3026e-12, Accuracy: 0.086, Test Loss: 2.3026e-12, Test Accuracy: 0.087 - L2 Norm of Weight Movement From Initialization: [0.0, 0.0, 0.0, 0.0]'"
            ]
          },
          "metadata": {
            "tags": []
          }
        },
        {
          "output_type": "stream",
          "text": [
            "\n",
            "max training accuracy 0.08643999695777893\n",
            "min training loss 2.3025997341469262e-12\n",
            "max validation accuracy 0.08709999918937683\n",
            "min validation loss 2.302588675284767e-12\n",
            "\n",
            "l2-normed weight changes from initial values after last epoch:\n",
            "[0.0, 0.0, 0.0, 0.0]\n",
            "================================================================================\n",
            "opt = sgd, lr = 1.000000, alpha = 100000.000000\n",
            "================================================================================\n"
          ],
          "name": "stdout"
        },
        {
          "output_type": "display_data",
          "data": {
            "application/vnd.google.colaboratory.intrinsic+json": {
              "type": "string"
            },
            "text/plain": [
              "'Epoch: 0009, Total Run Time: 00:01:38 - Loss: 2.3026e-10, Accuracy: 0.104, Test Loss: 2.3026e-10, Test Accuracy: 0.105 - L2 Norm of Weight Movement From Initialization: [0.0, 0.0, 0.0, 0.0]'"
            ]
          },
          "metadata": {
            "tags": []
          }
        },
        {
          "output_type": "stream",
          "text": [
            "\n",
            "max training accuracy 0.10366000235080719\n",
            "min training loss 2.3026328066499957e-10\n",
            "max validation accuracy 0.10540000349283218\n",
            "min validation loss 2.3025850670599368e-10\n",
            "\n",
            "l2-normed weight changes from initial values after last epoch:\n",
            "[0.0, 0.0, 0.0, 0.0]\n",
            "================================================================================\n",
            "opt = sgd, lr = 1.000000, alpha = 10000.000000\n",
            "================================================================================\n"
          ],
          "name": "stdout"
        },
        {
          "output_type": "display_data",
          "data": {
            "application/vnd.google.colaboratory.intrinsic+json": {
              "type": "string"
            },
            "text/plain": [
              "'Epoch: 0009, Total Run Time: 00:01:34 - Loss: 2.3026e-08, Accuracy: 0.091, Test Loss: 2.3026e-08, Test Accuracy: 0.094 - L2 Norm of Weight Movement From Initialization: [0.0, 0.0, 0.0, 0.0]'"
            ]
          },
          "metadata": {
            "tags": []
          }
        },
        {
          "output_type": "stream",
          "text": [
            "\n",
            "max training accuracy 0.09102000296115875\n",
            "min training loss 2.3025949147381652e-08\n",
            "max validation accuracy 0.09449999779462814\n",
            "min validation loss 2.3025791051622946e-08\n",
            "\n",
            "l2-normed weight changes from initial values after last epoch:\n",
            "[0.0, 0.0, 0.0, 0.0]\n",
            "================================================================================\n",
            "opt = sgd, lr = 1.000000, alpha = 1000.000000\n",
            "================================================================================\n"
          ],
          "name": "stdout"
        },
        {
          "output_type": "display_data",
          "data": {
            "application/vnd.google.colaboratory.intrinsic+json": {
              "type": "string"
            },
            "text/plain": [
              "'Epoch: 0009, Total Run Time: 00:01:30 - Loss: 2.3026e-06, Accuracy: 0.105, Test Loss: 2.3026e-06, Test Accuracy: 0.105 - L2 Norm of Weight Movement From Initialization: [0.0, 0.0, 0.0, 0.0]'"
            ]
          },
          "metadata": {
            "tags": []
          }
        },
        {
          "output_type": "stream",
          "text": [
            "\n",
            "max training accuracy 0.10475999861955643\n",
            "min training loss 2.302632083228673e-06\n",
            "max validation accuracy 0.10530000180006027\n",
            "min validation loss 2.3025800146569964e-06\n",
            "\n",
            "l2-normed weight changes from initial values after last epoch:\n",
            "[0.0, 0.0, 0.0, 0.0]\n",
            "================================================================================\n",
            "opt = sgd, lr = 1.000000, alpha = 100.000000\n",
            "================================================================================\n"
          ],
          "name": "stdout"
        },
        {
          "output_type": "display_data",
          "data": {
            "application/vnd.google.colaboratory.intrinsic+json": {
              "type": "string"
            },
            "text/plain": [
              "'Epoch: 0009, Total Run Time: 00:01:31 - Loss: 2.3026e-04, Accuracy: 0.128, Test Loss: 2.3026e-04, Test Accuracy: 0.134 - L2 Norm of Weight Movement From Initialization: [0.0011157115, 2.9923829e-05, 0.00032210635, 3.0464722e-05]'"
            ]
          },
          "metadata": {
            "tags": []
          }
        },
        {
          "output_type": "stream",
          "text": [
            "\n",
            "max training accuracy 0.1281999945640564\n",
            "min training loss 0.00023025514383334666\n",
            "max validation accuracy 0.1339000016450882\n",
            "min validation loss 0.0002302593638887629\n",
            "\n",
            "l2-normed weight changes from initial values after last epoch:\n",
            "[0.0011157115, 2.9923829e-05, 0.00032210635, 3.0464722e-05]\n",
            "================================================================================\n",
            "opt = sgd, lr = 1.000000, alpha = 10.000000\n",
            "================================================================================\n"
          ],
          "name": "stdout"
        },
        {
          "output_type": "display_data",
          "data": {
            "application/vnd.google.colaboratory.intrinsic+json": {
              "type": "string"
            },
            "text/plain": [
              "'Epoch: 0009, Total Run Time: 00:01:30 - Loss: 1.6597e-02, Accuracy: 0.406, Test Loss: 1.6601e-02, Test Accuracy: 0.409 - L2 Norm of Weight Movement From Initialization: [17.466265, 2.7950547, 3.642623, 3.560694]'"
            ]
          },
          "metadata": {
            "tags": []
          }
        },
        {
          "output_type": "stream",
          "text": [
            "\n",
            "max training accuracy 0.4057599902153015\n",
            "min training loss 0.01659747026860714\n",
            "max validation accuracy 0.40869998931884766\n",
            "min validation loss 0.016600918024778366\n",
            "\n",
            "l2-normed weight changes from initial values after last epoch:\n",
            "[17.466265, 2.7950547, 3.642623, 3.560694]\n",
            "================================================================================\n",
            "opt = sgd, lr = 1.000000, alpha = 5.000000\n",
            "================================================================================\n"
          ],
          "name": "stdout"
        },
        {
          "output_type": "display_data",
          "data": {
            "application/vnd.google.colaboratory.intrinsic+json": {
              "type": "string"
            },
            "text/plain": [
              "'Epoch: 0009, Total Run Time: 00:01:30 - Loss: 9.0792e-02, Accuracy: 0.126, Test Loss: 9.2181e-02, Test Accuracy: 0.102 - L2 Norm of Weight Movement From Initialization: [14.745806, 1.4767742, 6.107231, 0.3025617]'"
            ]
          },
          "metadata": {
            "tags": []
          }
        },
        {
          "output_type": "stream",
          "text": [
            "\n",
            "max training accuracy 0.13857999444007874\n",
            "min training loss 0.08967292308807373\n",
            "max validation accuracy 0.16349999606609344\n",
            "min validation loss 0.08523838222026825\n",
            "\n",
            "l2-normed weight changes from initial values after last epoch:\n",
            "[14.745806, 1.4767742, 6.107231, 0.3025617]\n",
            "================================================================================\n",
            "opt = sgd, lr = 1.000000, alpha = 1.000000\n",
            "================================================================================\n"
          ],
          "name": "stdout"
        },
        {
          "output_type": "display_data",
          "data": {
            "application/vnd.google.colaboratory.intrinsic+json": {
              "type": "string"
            },
            "text/plain": [
              "'Epoch: 0009, Total Run Time: 00:01:31 - Loss: 1.4506e+01, Accuracy: 0.100, Test Loss: 1.4506e+01, Test Accuracy: 0.100 - L2 Norm of Weight Movement From Initialization: [64.387794, 2.1683698, 18.199444, 2.3300815]'"
            ]
          },
          "metadata": {
            "tags": []
          }
        },
        {
          "output_type": "stream",
          "text": [
            "\n",
            "max training accuracy 0.10000000149011612\n",
            "min training loss 14.499810218811035\n",
            "max validation accuracy 0.10000000149011612\n",
            "min validation loss 14.50627326965332\n",
            "\n",
            "l2-normed weight changes from initial values after last epoch:\n",
            "[64.387794, 2.1683698, 18.199444, 2.3300815]\n",
            "================================================================================\n",
            "opt = sgd, lr = 1.000000, alpha = 0.500000\n",
            "================================================================================\n"
          ],
          "name": "stdout"
        },
        {
          "output_type": "display_data",
          "data": {
            "application/vnd.google.colaboratory.intrinsic+json": {
              "type": "string"
            },
            "text/plain": [
              "'Epoch: 0009, Total Run Time: 00:01:30 - Loss: 5.5530e+01, Accuracy: 0.100, Test Loss: 5.5530e+01, Test Accuracy: 0.100 - L2 Norm of Weight Movement From Initialization: [280.2445, 9.767775, 1319.8534, 10.442392]'"
            ]
          },
          "metadata": {
            "tags": []
          }
        },
        {
          "output_type": "stream",
          "text": [
            "\n",
            "max training accuracy 0.10000000149011612\n",
            "min training loss 55.50981903076172\n",
            "max validation accuracy 0.10000000149011612\n",
            "min validation loss 55.52980041503906\n",
            "\n",
            "l2-normed weight changes from initial values after last epoch:\n",
            "[280.2445, 9.767775, 1319.8534, 10.442392]\n",
            "================================================================================\n",
            "opt = sgd, lr = 1.000000, alpha = 0.100000\n",
            "================================================================================\n"
          ],
          "name": "stdout"
        },
        {
          "output_type": "display_data",
          "data": {
            "application/vnd.google.colaboratory.intrinsic+json": {
              "type": "string"
            },
            "text/plain": [
              "'Epoch: 0009, Total Run Time: 00:01:30 - Loss: 1.2434e+03, Accuracy: 0.100, Test Loss: 1.2434e+03, Test Accuracy: 0.100 - L2 Norm of Weight Movement From Initialization: [8128.575, 262.55762, 2542.33, 292.8512]'"
            ]
          },
          "metadata": {
            "tags": []
          }
        },
        {
          "output_type": "stream",
          "text": [
            "\n",
            "max training accuracy 0.10000000149011612\n",
            "min training loss 1242.8526611328125\n",
            "max validation accuracy 0.10000000149011612\n",
            "min validation loss 1243.396484375\n",
            "\n",
            "l2-normed weight changes from initial values after last epoch:\n",
            "[8128.575, 262.55762, 2542.33, 292.8512]\n",
            "================================================================================\n",
            "opt = sgd, lr = 1.000000, alpha = 0.010000\n",
            "================================================================================\n"
          ],
          "name": "stdout"
        },
        {
          "output_type": "display_data",
          "data": {
            "application/vnd.google.colaboratory.intrinsic+json": {
              "type": "string"
            },
            "text/plain": [
              "'Epoch: 0009, Total Run Time: 00:01:29 - Loss: 1.0362e+05, Accuracy: 0.100, Test Loss: 1.0362e+05, Test Accuracy: 0.100 - L2 Norm of Weight Movement From Initialization: [596398.06, 24251.34, 175318.9, 25775.72]'"
            ]
          },
          "metadata": {
            "tags": []
          }
        },
        {
          "output_type": "stream",
          "text": [
            "\n",
            "max training accuracy 0.10000000149011612\n",
            "min training loss 103572.2421875\n",
            "max validation accuracy 0.10000000149011612\n",
            "min validation loss 103617.046875\n",
            "\n",
            "l2-normed weight changes from initial values after last epoch:\n",
            "[596398.06, 24251.34, 175318.9, 25775.72]\n",
            "================================================================================\n",
            "opt = sgd, lr = 0.100000, alpha = 10000000.000000\n",
            "================================================================================\n"
          ],
          "name": "stdout"
        },
        {
          "output_type": "display_data",
          "data": {
            "application/vnd.google.colaboratory.intrinsic+json": {
              "type": "string"
            },
            "text/plain": [
              "'Epoch: 0009, Total Run Time: 00:01:29 - Loss: 2.3026e-14, Accuracy: 0.086, Test Loss: 2.3026e-14, Test Accuracy: 0.089 - L2 Norm of Weight Movement From Initialization: [0.0, 0.0, 0.0, 0.0]'"
            ]
          },
          "metadata": {
            "tags": []
          }
        },
        {
          "output_type": "stream",
          "text": [
            "\n",
            "max training accuracy 0.08579999953508377\n",
            "min training loss 2.3025665711129753e-14\n",
            "max validation accuracy 0.0885000005364418\n",
            "min validation loss 2.3025850364312254e-14\n",
            "\n",
            "l2-normed weight changes from initial values after last epoch:\n",
            "[0.0, 0.0, 0.0, 0.0]\n",
            "================================================================================\n",
            "opt = sgd, lr = 0.100000, alpha = 1000000.000000\n",
            "================================================================================\n"
          ],
          "name": "stdout"
        },
        {
          "output_type": "display_data",
          "data": {
            "application/vnd.google.colaboratory.intrinsic+json": {
              "type": "string"
            },
            "text/plain": [
              "'Epoch: 0009, Total Run Time: 00:01:29 - Loss: 2.3026e-12, Accuracy: 0.103, Test Loss: 2.3026e-12, Test Accuracy: 0.102 - L2 Norm of Weight Movement From Initialization: [0.0, 0.0, 0.0, 0.0]'"
            ]
          },
          "metadata": {
            "tags": []
          }
        },
        {
          "output_type": "stream",
          "text": [
            "\n",
            "max training accuracy 0.10335999727249146\n",
            "min training loss 2.3025997341469262e-12\n",
            "max validation accuracy 0.10239999741315842\n",
            "min validation loss 2.302588675284767e-12\n",
            "\n",
            "l2-normed weight changes from initial values after last epoch:\n",
            "[0.0, 0.0, 0.0, 0.0]\n",
            "================================================================================\n",
            "opt = sgd, lr = 0.100000, alpha = 100000.000000\n",
            "================================================================================\n"
          ],
          "name": "stdout"
        },
        {
          "output_type": "display_data",
          "data": {
            "application/vnd.google.colaboratory.intrinsic+json": {
              "type": "string"
            },
            "text/plain": [
              "'Epoch: 0009, Total Run Time: 00:01:30 - Loss: 2.3026e-10, Accuracy: 0.103, Test Loss: 2.3026e-10, Test Accuracy: 0.103 - L2 Norm of Weight Movement From Initialization: [0.0, 0.0, 0.0, 0.0]'"
            ]
          },
          "metadata": {
            "tags": []
          }
        },
        {
          "output_type": "stream",
          "text": [
            "\n",
            "max training accuracy 0.10283999890089035\n",
            "min training loss 2.3026328066499957e-10\n",
            "max validation accuracy 0.10260000079870224\n",
            "min validation loss 2.3025850670599368e-10\n",
            "\n",
            "l2-normed weight changes from initial values after last epoch:\n",
            "[0.0, 0.0, 0.0, 0.0]\n",
            "================================================================================\n",
            "opt = sgd, lr = 0.100000, alpha = 10000.000000\n",
            "================================================================================\n"
          ],
          "name": "stdout"
        },
        {
          "output_type": "display_data",
          "data": {
            "application/vnd.google.colaboratory.intrinsic+json": {
              "type": "string"
            },
            "text/plain": [
              "'Epoch: 0009, Total Run Time: 00:01:28 - Loss: 2.3026e-08, Accuracy: 0.076, Test Loss: 2.3026e-08, Test Accuracy: 0.075 - L2 Norm of Weight Movement From Initialization: [0.0, 0.0, 0.0, 0.0]'"
            ]
          },
          "metadata": {
            "tags": []
          }
        },
        {
          "output_type": "stream",
          "text": [
            "\n",
            "max training accuracy 0.07581999897956848\n",
            "min training loss 2.3025949147381652e-08\n",
            "max validation accuracy 0.07450000196695328\n",
            "min validation loss 2.3025791051622946e-08\n",
            "\n",
            "l2-normed weight changes from initial values after last epoch:\n",
            "[0.0, 0.0, 0.0, 0.0]\n",
            "================================================================================\n",
            "opt = sgd, lr = 0.100000, alpha = 1000.000000\n",
            "================================================================================\n"
          ],
          "name": "stdout"
        },
        {
          "output_type": "display_data",
          "data": {
            "application/vnd.google.colaboratory.intrinsic+json": {
              "type": "string"
            },
            "text/plain": [
              "'Epoch: 0009, Total Run Time: 00:01:29 - Loss: 2.3026e-06, Accuracy: 0.090, Test Loss: 2.3026e-06, Test Accuracy: 0.087 - L2 Norm of Weight Movement From Initialization: [0.0, 0.0, 0.0, 0.0]'"
            ]
          },
          "metadata": {
            "tags": []
          }
        },
        {
          "output_type": "stream",
          "text": [
            "\n",
            "max training accuracy 0.09021999686956406\n",
            "min training loss 2.302632083228673e-06\n",
            "max validation accuracy 0.08659999817609787\n",
            "min validation loss 2.3025800146569964e-06\n",
            "\n",
            "l2-normed weight changes from initial values after last epoch:\n",
            "[0.0, 0.0, 0.0, 0.0]\n",
            "================================================================================\n",
            "opt = sgd, lr = 0.100000, alpha = 100.000000\n",
            "================================================================================\n"
          ],
          "name": "stdout"
        },
        {
          "output_type": "display_data",
          "data": {
            "application/vnd.google.colaboratory.intrinsic+json": {
              "type": "string"
            },
            "text/plain": [
              "'Epoch: 0009, Total Run Time: 00:01:27 - Loss: 2.2995e-04, Accuracy: 0.104, Test Loss: 2.2985e-04, Test Accuracy: 0.105 - L2 Norm of Weight Movement From Initialization: [0.06319915, 0.0016370281, 0.017728776, 0.0015774898]'"
            ]
          },
          "metadata": {
            "tags": []
          }
        },
        {
          "output_type": "stream",
          "text": [
            "\n",
            "max training accuracy 0.10688000172376633\n",
            "min training loss 0.0002299540356034413\n",
            "max validation accuracy 0.10980000346899033\n",
            "min validation loss 0.0002298453327966854\n",
            "\n",
            "l2-normed weight changes from initial values after last epoch:\n",
            "[0.06319915, 0.0016370281, 0.017728776, 0.0015774898]\n",
            "================================================================================\n",
            "opt = sgd, lr = 0.100000, alpha = 10.000000\n",
            "================================================================================\n"
          ],
          "name": "stdout"
        },
        {
          "output_type": "display_data",
          "data": {
            "application/vnd.google.colaboratory.intrinsic+json": {
              "type": "string"
            },
            "text/plain": [
              "'Epoch: 0009, Total Run Time: 00:01:30 - Loss: 1.5665e-02, Accuracy: 0.430, Test Loss: 1.6182e-02, Test Accuracy: 0.431 - L2 Norm of Weight Movement From Initialization: [6.284316, 0.71012884, 3.29916, 0.6048763]'"
            ]
          },
          "metadata": {
            "tags": []
          }
        },
        {
          "output_type": "stream",
          "text": [
            "\n",
            "max training accuracy 0.4298799932003021\n",
            "min training loss 0.015665274113416672\n",
            "max validation accuracy 0.4309999942779541\n",
            "min validation loss 0.01618211343884468\n",
            "\n",
            "l2-normed weight changes from initial values after last epoch:\n",
            "[6.284316, 0.71012884, 3.29916, 0.6048763]\n",
            "================================================================================\n",
            "opt = sgd, lr = 0.100000, alpha = 5.000000\n",
            "================================================================================\n"
          ],
          "name": "stdout"
        },
        {
          "output_type": "display_data",
          "data": {
            "application/vnd.google.colaboratory.intrinsic+json": {
              "type": "string"
            },
            "text/plain": [
              "'Epoch: 0009, Total Run Time: 00:01:28 - Loss: 5.7926e-02, Accuracy: 0.482, Test Loss: 5.9141e-02, Test Accuracy: 0.484 - L2 Norm of Weight Movement From Initialization: [13.549016, 1.768065, 4.1108456, 2.1841493]'"
            ]
          },
          "metadata": {
            "tags": []
          }
        },
        {
          "output_type": "stream",
          "text": [
            "\n",
            "max training accuracy 0.4815399944782257\n",
            "min training loss 0.05792620778083801\n",
            "max validation accuracy 0.48410001397132874\n",
            "min validation loss 0.059141356498003006\n",
            "\n",
            "l2-normed weight changes from initial values after last epoch:\n",
            "[13.549016, 1.768065, 4.1108456, 2.1841493]\n",
            "================================================================================\n",
            "opt = sgd, lr = 0.100000, alpha = 1.000000\n",
            "================================================================================\n"
          ],
          "name": "stdout"
        },
        {
          "output_type": "display_data",
          "data": {
            "application/vnd.google.colaboratory.intrinsic+json": {
              "type": "string"
            },
            "text/plain": [
              "'Epoch: 0009, Total Run Time: 00:01:27 - Loss: 2.3101e+00, Accuracy: 0.101, Test Loss: 2.3121e+00, Test Accuracy: 0.100 - L2 Norm of Weight Movement From Initialization: [25.048271, 1.0870311, 15.605741, 0.44250396]'"
            ]
          },
          "metadata": {
            "tags": []
          }
        },
        {
          "output_type": "stream",
          "text": [
            "\n",
            "max training accuracy 0.10288000106811523\n",
            "min training loss 2.3092122077941895\n",
            "max validation accuracy 0.1111999973654747\n",
            "min validation loss 2.287990093231201\n",
            "\n",
            "l2-normed weight changes from initial values after last epoch:\n",
            "[25.048271, 1.0870311, 15.605741, 0.44250396]\n",
            "================================================================================\n",
            "opt = sgd, lr = 0.100000, alpha = 0.500000\n",
            "================================================================================\n"
          ],
          "name": "stdout"
        },
        {
          "output_type": "display_data",
          "data": {
            "application/vnd.google.colaboratory.intrinsic+json": {
              "type": "string"
            },
            "text/plain": [
              "'Epoch: 0009, Total Run Time: 00:01:28 - Loss: 5.5530e+01, Accuracy: 0.100, Test Loss: 5.5530e+01, Test Accuracy: 0.100 - L2 Norm of Weight Movement From Initialization: [36.523777, 1.2436191, 83.20046, 1.2521315]'"
            ]
          },
          "metadata": {
            "tags": []
          }
        },
        {
          "output_type": "stream",
          "text": [
            "\n",
            "max training accuracy 0.10006000101566315\n",
            "min training loss 55.49504089355469\n",
            "max validation accuracy 0.10000000149011612\n",
            "min validation loss 55.52981185913086\n",
            "\n",
            "l2-normed weight changes from initial values after last epoch:\n",
            "[36.523777, 1.2436191, 83.20046, 1.2521315]\n",
            "================================================================================\n",
            "opt = sgd, lr = 0.100000, alpha = 0.100000\n",
            "================================================================================\n"
          ],
          "name": "stdout"
        },
        {
          "output_type": "display_data",
          "data": {
            "application/vnd.google.colaboratory.intrinsic+json": {
              "type": "string"
            },
            "text/plain": [
              "'Epoch: 0009, Total Run Time: 00:01:29 - Loss: 1.2434e+03, Accuracy: 0.100, Test Loss: 1.2434e+03, Test Accuracy: 0.100 - L2 Norm of Weight Movement From Initialization: [1285.915, 46.89927, 397.59528, 50.01398]'"
            ]
          },
          "metadata": {
            "tags": []
          }
        },
        {
          "output_type": "stream",
          "text": [
            "\n",
            "max training accuracy 0.10000000149011612\n",
            "min training loss 1242.874755859375\n",
            "max validation accuracy 0.10000000149011612\n",
            "min validation loss 1243.396728515625\n",
            "\n",
            "l2-normed weight changes from initial values after last epoch:\n",
            "[1285.915, 46.89927, 397.59528, 50.01398]\n",
            "================================================================================\n",
            "opt = sgd, lr = 0.100000, alpha = 0.010000\n",
            "================================================================================\n"
          ],
          "name": "stdout"
        },
        {
          "output_type": "display_data",
          "data": {
            "application/vnd.google.colaboratory.intrinsic+json": {
              "type": "string"
            },
            "text/plain": [
              "'Epoch: 0009, Total Run Time: 00:01:30 - Loss: 1.0362e+05, Accuracy: 0.100, Test Loss: 1.0362e+05, Test Accuracy: 0.100 - L2 Norm of Weight Movement From Initialization: [84417.42, 2820.396, 26056.498, 3015.306]'"
            ]
          },
          "metadata": {
            "tags": []
          }
        },
        {
          "output_type": "stream",
          "text": [
            "\n",
            "max training accuracy 0.10000000149011612\n",
            "min training loss 103577.5703125\n",
            "max validation accuracy 0.10000000149011612\n",
            "min validation loss 103617.0625\n",
            "\n",
            "l2-normed weight changes from initial values after last epoch:\n",
            "[84417.42, 2820.396, 26056.498, 3015.306]\n",
            "================================================================================\n",
            "opt = sgd, lr = 0.010000, alpha = 10000000.000000\n",
            "================================================================================\n"
          ],
          "name": "stdout"
        },
        {
          "output_type": "display_data",
          "data": {
            "application/vnd.google.colaboratory.intrinsic+json": {
              "type": "string"
            },
            "text/plain": [
              "'Epoch: 0009, Total Run Time: 00:01:26 - Loss: 2.3026e-14, Accuracy: 0.102, Test Loss: 2.3026e-14, Test Accuracy: 0.104 - L2 Norm of Weight Movement From Initialization: [0.0, 0.0, 0.0, 0.0]'"
            ]
          },
          "metadata": {
            "tags": []
          }
        },
        {
          "output_type": "stream",
          "text": [
            "\n",
            "max training accuracy 0.10209999978542328\n",
            "min training loss 2.3025665711129753e-14\n",
            "max validation accuracy 0.10400000214576721\n",
            "min validation loss 2.3025850364312254e-14\n",
            "\n",
            "l2-normed weight changes from initial values after last epoch:\n",
            "[0.0, 0.0, 0.0, 0.0]\n",
            "================================================================================\n",
            "opt = sgd, lr = 0.010000, alpha = 1000000.000000\n",
            "================================================================================\n"
          ],
          "name": "stdout"
        },
        {
          "output_type": "display_data",
          "data": {
            "application/vnd.google.colaboratory.intrinsic+json": {
              "type": "string"
            },
            "text/plain": [
              "'Epoch: 0009, Total Run Time: 00:01:28 - Loss: 2.3026e-12, Accuracy: 0.105, Test Loss: 2.3026e-12, Test Accuracy: 0.101 - L2 Norm of Weight Movement From Initialization: [0.0, 0.0, 0.0, 0.0]'"
            ]
          },
          "metadata": {
            "tags": []
          }
        },
        {
          "output_type": "stream",
          "text": [
            "\n",
            "max training accuracy 0.10462000221014023\n",
            "min training loss 2.3025997341469262e-12\n",
            "max validation accuracy 0.10130000114440918\n",
            "min validation loss 2.302588675284767e-12\n",
            "\n",
            "l2-normed weight changes from initial values after last epoch:\n",
            "[0.0, 0.0, 0.0, 0.0]\n",
            "================================================================================\n",
            "opt = sgd, lr = 0.010000, alpha = 100000.000000\n",
            "================================================================================\n"
          ],
          "name": "stdout"
        },
        {
          "output_type": "display_data",
          "data": {
            "application/vnd.google.colaboratory.intrinsic+json": {
              "type": "string"
            },
            "text/plain": [
              "'Epoch: 0009, Total Run Time: 00:01:27 - Loss: 2.3026e-10, Accuracy: 0.106, Test Loss: 2.3026e-10, Test Accuracy: 0.102 - L2 Norm of Weight Movement From Initialization: [0.0, 0.0, 0.0, 0.0]'"
            ]
          },
          "metadata": {
            "tags": []
          }
        },
        {
          "output_type": "stream",
          "text": [
            "\n",
            "max training accuracy 0.10576000064611435\n",
            "min training loss 2.3026328066499957e-10\n",
            "max validation accuracy 0.10199999809265137\n",
            "min validation loss 2.3025850670599368e-10\n",
            "\n",
            "l2-normed weight changes from initial values after last epoch:\n",
            "[0.0, 0.0, 0.0, 0.0]\n",
            "================================================================================\n",
            "opt = sgd, lr = 0.010000, alpha = 10000.000000\n",
            "================================================================================\n"
          ],
          "name": "stdout"
        },
        {
          "output_type": "display_data",
          "data": {
            "application/vnd.google.colaboratory.intrinsic+json": {
              "type": "string"
            },
            "text/plain": [
              "'Epoch: 0009, Total Run Time: 00:01:27 - Loss: 2.3026e-08, Accuracy: 0.099, Test Loss: 2.3026e-08, Test Accuracy: 0.097 - L2 Norm of Weight Movement From Initialization: [0.0, 0.0, 0.0, 0.0]'"
            ]
          },
          "metadata": {
            "tags": []
          }
        },
        {
          "output_type": "stream",
          "text": [
            "\n",
            "max training accuracy 0.09867999702692032\n",
            "min training loss 2.3025949147381652e-08\n",
            "max validation accuracy 0.09700000286102295\n",
            "min validation loss 2.3025791051622946e-08\n",
            "\n",
            "l2-normed weight changes from initial values after last epoch:\n",
            "[0.0, 0.0, 0.0, 0.0]\n",
            "================================================================================\n",
            "opt = sgd, lr = 0.010000, alpha = 1000.000000\n",
            "================================================================================\n"
          ],
          "name": "stdout"
        },
        {
          "output_type": "display_data",
          "data": {
            "application/vnd.google.colaboratory.intrinsic+json": {
              "type": "string"
            },
            "text/plain": [
              "'Epoch: 0009, Total Run Time: 00:01:32 - Loss: 2.3026e-06, Accuracy: 0.097, Test Loss: 2.3026e-06, Test Accuracy: 0.100 - L2 Norm of Weight Movement From Initialization: [0.0, 0.0, 0.0, 0.0]'"
            ]
          },
          "metadata": {
            "tags": []
          }
        },
        {
          "output_type": "stream",
          "text": [
            "\n",
            "max training accuracy 0.09685999900102615\n",
            "min training loss 2.302632083228673e-06\n",
            "max validation accuracy 0.10019999742507935\n",
            "min validation loss 2.3025800146569964e-06\n",
            "\n",
            "l2-normed weight changes from initial values after last epoch:\n",
            "[0.0, 0.0, 0.0, 0.0]\n",
            "================================================================================\n",
            "opt = sgd, lr = 0.010000, alpha = 100.000000\n",
            "================================================================================\n"
          ],
          "name": "stdout"
        },
        {
          "output_type": "display_data",
          "data": {
            "application/vnd.google.colaboratory.intrinsic+json": {
              "type": "string"
            },
            "text/plain": [
              "'Epoch: 0009, Total Run Time: 00:01:31 - Loss: 2.3026e-04, Accuracy: 0.095, Test Loss: 2.3026e-04, Test Accuracy: 0.093 - L2 Norm of Weight Movement From Initialization: [0.002840842, 5.1637737e-05, 0.0006502471, 4.5848632e-05]'"
            ]
          },
          "metadata": {
            "tags": []
          }
        },
        {
          "output_type": "stream",
          "text": [
            "\n",
            "max training accuracy 0.09517999738454819\n",
            "min training loss 0.00023025812697596848\n",
            "max validation accuracy 0.09390000253915787\n",
            "min validation loss 0.00023026196868158877\n",
            "\n",
            "l2-normed weight changes from initial values after last epoch:\n",
            "[0.002840842, 5.1637737e-05, 0.0006502471, 4.5848632e-05]\n",
            "================================================================================\n",
            "opt = sgd, lr = 0.010000, alpha = 10.000000\n",
            "================================================================================\n"
          ],
          "name": "stdout"
        },
        {
          "output_type": "display_data",
          "data": {
            "application/vnd.google.colaboratory.intrinsic+json": {
              "type": "string"
            },
            "text/plain": [
              "'Epoch: 0009, Total Run Time: 00:01:29 - Loss: 1.8625e-02, Accuracy: 0.233, Test Loss: 1.8595e-02, Test Accuracy: 0.238 - L2 Norm of Weight Movement From Initialization: [1.7309929, 0.1449064, 0.74818456, 0.13955392]'"
            ]
          },
          "metadata": {
            "tags": []
          }
        },
        {
          "output_type": "stream",
          "text": [
            "\n",
            "max training accuracy 0.23348000645637512\n",
            "min training loss 0.018625035881996155\n",
            "max validation accuracy 0.23770000040531158\n",
            "min validation loss 0.01859469898045063\n",
            "\n",
            "l2-normed weight changes from initial values after last epoch:\n",
            "[1.7309929, 0.1449064, 0.74818456, 0.13955392]\n",
            "================================================================================\n",
            "opt = sgd, lr = 0.010000, alpha = 5.000000\n",
            "================================================================================\n"
          ],
          "name": "stdout"
        },
        {
          "output_type": "display_data",
          "data": {
            "application/vnd.google.colaboratory.intrinsic+json": {
              "type": "string"
            },
            "text/plain": [
              "'Epoch: 0009, Total Run Time: 00:01:27 - Loss: 6.3853e-02, Accuracy: 0.432, Test Loss: 6.4097e-02, Test Accuracy: 0.437 - L2 Norm of Weight Movement From Initialization: [3.8946943, 0.454309, 2.0324702, 0.3691277]'"
            ]
          },
          "metadata": {
            "tags": []
          }
        },
        {
          "output_type": "stream",
          "text": [
            "\n",
            "max training accuracy 0.4320000112056732\n",
            "min training loss 0.06385335326194763\n",
            "max validation accuracy 0.4372999966144562\n",
            "min validation loss 0.06409714370965958\n",
            "\n",
            "l2-normed weight changes from initial values after last epoch:\n",
            "[3.8946943, 0.454309, 2.0324702, 0.3691277]\n",
            "================================================================================\n",
            "opt = sgd, lr = 0.010000, alpha = 1.000000\n",
            "================================================================================\n"
          ],
          "name": "stdout"
        },
        {
          "output_type": "display_data",
          "data": {
            "application/vnd.google.colaboratory.intrinsic+json": {
              "type": "string"
            },
            "text/plain": [
              "'Epoch: 0009, Total Run Time: 00:01:30 - Loss: 1.5703e+00, Accuracy: 0.443, Test Loss: 1.7030e+00, Test Accuracy: 0.395 - L2 Norm of Weight Movement From Initialization: [17.231565, 2.93126, 3.2676954, 3.0236156]'"
            ]
          },
          "metadata": {
            "tags": []
          }
        },
        {
          "output_type": "stream",
          "text": [
            "\n",
            "max training accuracy 0.4427799880504608\n",
            "min training loss 1.5702654123306274\n",
            "max validation accuracy 0.42309999465942383\n",
            "min validation loss 1.6167796850204468\n",
            "\n",
            "l2-normed weight changes from initial values after last epoch:\n",
            "[17.231565, 2.93126, 3.2676954, 3.0236156]\n",
            "================================================================================\n",
            "opt = sgd, lr = 0.010000, alpha = 0.500000\n",
            "================================================================================\n"
          ],
          "name": "stdout"
        },
        {
          "output_type": "display_data",
          "data": {
            "application/vnd.google.colaboratory.intrinsic+json": {
              "type": "string"
            },
            "text/plain": [
              "'Epoch: 0009, Total Run Time: 00:01:29 - Loss: 9.2137e+00, Accuracy: 0.101, Test Loss: 9.2188e+00, Test Accuracy: 0.100 - L2 Norm of Weight Movement From Initialization: [11.790709, 0.6200805, 5.7813225, 0.20874594]'"
            ]
          },
          "metadata": {
            "tags": []
          }
        },
        {
          "output_type": "stream",
          "text": [
            "\n",
            "max training accuracy 0.11535999923944473\n",
            "min training loss 9.149772644042969\n",
            "max validation accuracy 0.1386999934911728\n",
            "min validation loss 8.910216331481934\n",
            "\n",
            "l2-normed weight changes from initial values after last epoch:\n",
            "[11.790709, 0.6200805, 5.7813225, 0.20874594]\n",
            "================================================================================\n",
            "opt = sgd, lr = 0.010000, alpha = 0.100000\n",
            "================================================================================\n"
          ],
          "name": "stdout"
        },
        {
          "output_type": "display_data",
          "data": {
            "application/vnd.google.colaboratory.intrinsic+json": {
              "type": "string"
            },
            "text/plain": [
              "'Epoch: 0009, Total Run Time: 00:01:28 - Loss: 1.2434e+03, Accuracy: 0.100, Test Loss: 1.2434e+03, Test Accuracy: 0.100 - L2 Norm of Weight Movement From Initialization: [64.52841, 2.339535, 17.914055, 2.2179146]'"
            ]
          },
          "metadata": {
            "tags": []
          }
        },
        {
          "output_type": "stream",
          "text": [
            "\n",
            "max training accuracy 0.10000000149011612\n",
            "min training loss 1242.8314208984375\n",
            "max validation accuracy 0.10000000149011612\n",
            "min validation loss 1243.396728515625\n",
            "\n",
            "l2-normed weight changes from initial values after last epoch:\n",
            "[64.52841, 2.339535, 17.914055, 2.2179146]\n",
            "================================================================================\n",
            "opt = sgd, lr = 0.010000, alpha = 0.010000\n",
            "================================================================================\n"
          ],
          "name": "stdout"
        },
        {
          "output_type": "display_data",
          "data": {
            "application/vnd.google.colaboratory.intrinsic+json": {
              "type": "string"
            },
            "text/plain": [
              "'Epoch: 0009, Total Run Time: 00:01:28 - Loss: 1.0362e+05, Accuracy: 0.100, Test Loss: 1.0362e+05, Test Accuracy: 0.100 - L2 Norm of Weight Movement From Initialization: [9047.3955, 330.96738, 3029.1943, 352.78625]'"
            ]
          },
          "metadata": {
            "tags": []
          }
        },
        {
          "output_type": "stream",
          "text": [
            "\n",
            "max training accuracy 0.10000000149011612\n",
            "min training loss 103579.453125\n",
            "max validation accuracy 0.10000000149011612\n",
            "min validation loss 103617.046875\n",
            "\n",
            "l2-normed weight changes from initial values after last epoch:\n",
            "[9047.3955, 330.96738, 3029.1943, 352.78625]\n",
            "================================================================================\n",
            "opt = sgd, lr = 0.001000, alpha = 10000000.000000\n",
            "================================================================================\n"
          ],
          "name": "stdout"
        },
        {
          "output_type": "display_data",
          "data": {
            "application/vnd.google.colaboratory.intrinsic+json": {
              "type": "string"
            },
            "text/plain": [
              "'Epoch: 0009, Total Run Time: 00:01:29 - Loss: 2.3026e-14, Accuracy: 0.105, Test Loss: 2.3026e-14, Test Accuracy: 0.101 - L2 Norm of Weight Movement From Initialization: [0.0, 0.0, 0.0, 0.0]'"
            ]
          },
          "metadata": {
            "tags": []
          }
        },
        {
          "output_type": "stream",
          "text": [
            "\n",
            "max training accuracy 0.10512000322341919\n",
            "min training loss 2.3025665711129753e-14\n",
            "max validation accuracy 0.10100000351667404\n",
            "min validation loss 2.3025850364312254e-14\n",
            "\n",
            "l2-normed weight changes from initial values after last epoch:\n",
            "[0.0, 0.0, 0.0, 0.0]\n",
            "================================================================================\n",
            "opt = sgd, lr = 0.001000, alpha = 1000000.000000\n",
            "================================================================================\n"
          ],
          "name": "stdout"
        },
        {
          "output_type": "display_data",
          "data": {
            "application/vnd.google.colaboratory.intrinsic+json": {
              "type": "string"
            },
            "text/plain": [
              "'Epoch: 0009, Total Run Time: 00:01:30 - Loss: 2.3026e-12, Accuracy: 0.106, Test Loss: 2.3026e-12, Test Accuracy: 0.104 - L2 Norm of Weight Movement From Initialization: [0.0, 0.0, 0.0, 0.0]'"
            ]
          },
          "metadata": {
            "tags": []
          }
        },
        {
          "output_type": "stream",
          "text": [
            "\n",
            "max training accuracy 0.10614000260829926\n",
            "min training loss 2.3025997341469262e-12\n",
            "max validation accuracy 0.10429999977350235\n",
            "min validation loss 2.302588675284767e-12\n",
            "\n",
            "l2-normed weight changes from initial values after last epoch:\n",
            "[0.0, 0.0, 0.0, 0.0]\n",
            "================================================================================\n",
            "opt = sgd, lr = 0.001000, alpha = 100000.000000\n",
            "================================================================================\n"
          ],
          "name": "stdout"
        },
        {
          "output_type": "display_data",
          "data": {
            "application/vnd.google.colaboratory.intrinsic+json": {
              "type": "string"
            },
            "text/plain": [
              "'Epoch: 0009, Total Run Time: 00:01:28 - Loss: 2.3026e-10, Accuracy: 0.101, Test Loss: 2.3026e-10, Test Accuracy: 0.101 - L2 Norm of Weight Movement From Initialization: [0.0, 0.0, 0.0, 0.0]'"
            ]
          },
          "metadata": {
            "tags": []
          }
        },
        {
          "output_type": "stream",
          "text": [
            "\n",
            "max training accuracy 0.10051999986171722\n",
            "min training loss 2.3026328066499957e-10\n",
            "max validation accuracy 0.10109999775886536\n",
            "min validation loss 2.3025850670599368e-10\n",
            "\n",
            "l2-normed weight changes from initial values after last epoch:\n",
            "[0.0, 0.0, 0.0, 0.0]\n",
            "================================================================================\n",
            "opt = sgd, lr = 0.001000, alpha = 10000.000000\n",
            "================================================================================\n"
          ],
          "name": "stdout"
        },
        {
          "output_type": "display_data",
          "data": {
            "application/vnd.google.colaboratory.intrinsic+json": {
              "type": "string"
            },
            "text/plain": [
              "'Epoch: 0009, Total Run Time: 00:01:25 - Loss: 2.3026e-08, Accuracy: 0.100, Test Loss: 2.3026e-08, Test Accuracy: 0.100 - L2 Norm of Weight Movement From Initialization: [0.0, 0.0, 0.0, 0.0]'"
            ]
          },
          "metadata": {
            "tags": []
          }
        },
        {
          "output_type": "stream",
          "text": [
            "\n",
            "max training accuracy 0.09982000291347504\n",
            "min training loss 2.3025949147381652e-08\n",
            "max validation accuracy 0.10029999911785126\n",
            "min validation loss 2.3025791051622946e-08\n",
            "\n",
            "l2-normed weight changes from initial values after last epoch:\n",
            "[0.0, 0.0, 0.0, 0.0]\n",
            "================================================================================\n",
            "opt = sgd, lr = 0.001000, alpha = 1000.000000\n",
            "================================================================================\n"
          ],
          "name": "stdout"
        },
        {
          "output_type": "display_data",
          "data": {
            "application/vnd.google.colaboratory.intrinsic+json": {
              "type": "string"
            },
            "text/plain": [
              "'Epoch: 0009, Total Run Time: 00:01:26 - Loss: 2.3026e-06, Accuracy: 0.099, Test Loss: 2.3026e-06, Test Accuracy: 0.097 - L2 Norm of Weight Movement From Initialization: [0.0, 0.0, 0.0, 0.0]'"
            ]
          },
          "metadata": {
            "tags": []
          }
        },
        {
          "output_type": "stream",
          "text": [
            "\n",
            "max training accuracy 0.09944000095129013\n",
            "min training loss 2.302632083228673e-06\n",
            "max validation accuracy 0.09709999710321426\n",
            "min validation loss 2.3025800146569964e-06\n",
            "\n",
            "l2-normed weight changes from initial values after last epoch:\n",
            "[0.0, 0.0, 0.0, 0.0]\n",
            "================================================================================\n",
            "opt = sgd, lr = 0.001000, alpha = 100.000000\n",
            "================================================================================\n"
          ],
          "name": "stdout"
        },
        {
          "output_type": "display_data",
          "data": {
            "application/vnd.google.colaboratory.intrinsic+json": {
              "type": "string"
            },
            "text/plain": [
              "'Epoch: 0009, Total Run Time: 00:01:26 - Loss: 2.3018e-04, Accuracy: 0.110, Test Loss: 2.3025e-04, Test Accuracy: 0.118 - L2 Norm of Weight Movement From Initialization: [0.00041355574, 1.3301002e-05, 0.00014269097, 7.3098813e-06]'"
            ]
          },
          "metadata": {
            "tags": []
          }
        },
        {
          "output_type": "stream",
          "text": [
            "\n",
            "max training accuracy 0.11014000326395035\n",
            "min training loss 0.00023018104548100382\n",
            "max validation accuracy 0.11779999732971191\n",
            "min validation loss 0.00023024642723612487\n",
            "\n",
            "l2-normed weight changes from initial values after last epoch:\n",
            "[0.00041355574, 1.3301002e-05, 0.00014269097, 7.3098813e-06]\n",
            "================================================================================\n",
            "opt = sgd, lr = 0.001000, alpha = 10.000000\n",
            "================================================================================\n"
          ],
          "name": "stdout"
        },
        {
          "output_type": "display_data",
          "data": {
            "application/vnd.google.colaboratory.intrinsic+json": {
              "type": "string"
            },
            "text/plain": [
              "'Epoch: 0009, Total Run Time: 00:01:26 - Loss: 2.0872e-02, Accuracy: 0.114, Test Loss: 2.0834e-02, Test Accuracy: 0.115 - L2 Norm of Weight Movement From Initialization: [0.4857198, 0.018770743, 0.14852796, 0.022330372]'"
            ]
          },
          "metadata": {
            "tags": []
          }
        },
        {
          "output_type": "stream",
          "text": [
            "\n",
            "max training accuracy 0.11386000365018845\n",
            "min training loss 0.020872239023447037\n",
            "max validation accuracy 0.1145000010728836\n",
            "min validation loss 0.020834116265177727\n",
            "\n",
            "l2-normed weight changes from initial values after last epoch:\n",
            "[0.4857198, 0.018770743, 0.14852796, 0.022330372]\n",
            "================================================================================\n",
            "opt = sgd, lr = 0.001000, alpha = 5.000000\n",
            "================================================================================\n"
          ],
          "name": "stdout"
        },
        {
          "output_type": "display_data",
          "data": {
            "application/vnd.google.colaboratory.intrinsic+json": {
              "type": "string"
            },
            "text/plain": [
              "'Epoch: 0009, Total Run Time: 00:01:27 - Loss: 7.4512e-02, Accuracy: 0.343, Test Loss: 7.4503e-02, Test Accuracy: 0.335 - L2 Norm of Weight Movement From Initialization: [1.1709511, 0.06414604, 0.46405303, 0.06708013]'"
            ]
          },
          "metadata": {
            "tags": []
          }
        },
        {
          "output_type": "stream",
          "text": [
            "\n",
            "max training accuracy 0.34290000796318054\n",
            "min training loss 0.07451184093952179\n",
            "max validation accuracy 0.335999995470047\n",
            "min validation loss 0.07450321316719055\n",
            "\n",
            "l2-normed weight changes from initial values after last epoch:\n",
            "[1.1709511, 0.06414604, 0.46405303, 0.06708013]\n",
            "================================================================================\n",
            "opt = sgd, lr = 0.001000, alpha = 1.000000\n",
            "================================================================================\n"
          ],
          "name": "stdout"
        },
        {
          "output_type": "display_data",
          "data": {
            "application/vnd.google.colaboratory.intrinsic+json": {
              "type": "string"
            },
            "text/plain": [
              "'Epoch: 0009, Total Run Time: 00:01:33 - Loss: 1.3928e+00, Accuracy: 0.513, Test Loss: 1.4265e+00, Test Accuracy: 0.500 - L2 Norm of Weight Movement From Initialization: [6.7479134, 0.9367003, 3.166426, 0.94252664]'"
            ]
          },
          "metadata": {
            "tags": []
          }
        },
        {
          "output_type": "stream",
          "text": [
            "\n",
            "max training accuracy 0.5126799941062927\n",
            "min training loss 1.3928364515304565\n",
            "max validation accuracy 0.5001999735832214\n",
            "min validation loss 1.4264897108078003\n",
            "\n",
            "l2-normed weight changes from initial values after last epoch:\n",
            "[6.7479134, 0.9367003, 3.166426, 0.94252664]\n",
            "================================================================================\n",
            "opt = sgd, lr = 0.001000, alpha = 0.500000\n",
            "================================================================================\n"
          ],
          "name": "stdout"
        },
        {
          "output_type": "display_data",
          "data": {
            "application/vnd.google.colaboratory.intrinsic+json": {
              "type": "string"
            },
            "text/plain": [
              "'Epoch: 0009, Total Run Time: 00:01:33 - Loss: 5.5570e+00, Accuracy: 0.508, Test Loss: 5.8832e+00, Test Accuracy: 0.482 - L2 Norm of Weight Movement From Initialization: [13.602513, 1.6406225, 3.7420678, 2.4693606]'"
            ]
          },
          "metadata": {
            "tags": []
          }
        },
        {
          "output_type": "stream",
          "text": [
            "\n",
            "max training accuracy 0.5079799890518188\n",
            "min training loss 5.557001113891602\n",
            "max validation accuracy 0.4821999967098236\n",
            "min validation loss 5.8831682205200195\n",
            "\n",
            "l2-normed weight changes from initial values after last epoch:\n",
            "[13.602513, 1.6406225, 3.7420678, 2.4693606]\n",
            "================================================================================\n",
            "opt = sgd, lr = 0.001000, alpha = 0.100000\n",
            "================================================================================\n"
          ],
          "name": "stdout"
        },
        {
          "output_type": "display_data",
          "data": {
            "application/vnd.google.colaboratory.intrinsic+json": {
              "type": "string"
            },
            "text/plain": [
              "'Epoch: 0009, Total Run Time: 00:01:30 - Loss: 1.2434e+03, Accuracy: 0.100, Test Loss: 1.2434e+03, Test Accuracy: 0.100 - L2 Norm of Weight Movement From Initialization: [18.55185, 0.7219624, 19.908718, 0.798692]'"
            ]
          },
          "metadata": {
            "tags": []
          }
        },
        {
          "output_type": "stream",
          "text": [
            "\n",
            "max training accuracy 0.10007999837398529\n",
            "min training loss 1241.932373046875\n",
            "max validation accuracy 0.10000000149011612\n",
            "min validation loss 1243.396484375\n",
            "\n",
            "l2-normed weight changes from initial values after last epoch:\n",
            "[18.55185, 0.7219624, 19.908718, 0.798692]\n",
            "================================================================================\n",
            "opt = sgd, lr = 0.001000, alpha = 0.010000\n",
            "================================================================================\n"
          ],
          "name": "stdout"
        },
        {
          "output_type": "display_data",
          "data": {
            "application/vnd.google.colaboratory.intrinsic+json": {
              "type": "string"
            },
            "text/plain": [
              "'Epoch: 0009, Total Run Time: 00:01:30 - Loss: 1.0362e+05, Accuracy: 0.100, Test Loss: 1.0362e+05, Test Accuracy: 0.100 - L2 Norm of Weight Movement From Initialization: [739.8659, 26.920643, 214.2995, 29.101757]'"
            ]
          },
          "metadata": {
            "tags": []
          }
        },
        {
          "output_type": "stream",
          "text": [
            "\n",
            "max training accuracy 0.10000000149011612\n",
            "min training loss 103573.1171875\n",
            "max validation accuracy 0.10000000149011612\n",
            "min validation loss 103617.0703125\n",
            "\n",
            "l2-normed weight changes from initial values after last epoch:\n",
            "[739.8659, 26.920643, 214.2995, 29.101757]\n"
          ],
          "name": "stdout"
        }
      ]
    },
    {
      "cell_type": "code",
      "metadata": {
        "colab": {
          "base_uri": "https://localhost:8080/",
          "height": 1000
        },
        "id": "dZ049EWyRlQN",
        "outputId": "e6e66beb-7848-4f3a-fd2f-c41c5195961c"
      },
      "source": [
        "lrs = [1.0, 0.1, 0.01, 0.001]\n",
        "alphas = [20000.0, 1000.0, 100.0, 80.0, 60.0, 40.0, 30.0, 20.0, 10.0, 9.0, 8.0, 7.0, 6.0, 5.0, 4.0, 3.0, 2.0, 1.0, 0.8, 0.6, 0.4, 0.2, 0.1, 0.07, 0.04, 0.01, 0.001]\n",
        "normed_weight_changes_w256 = {}\n",
        "optimizer = 'sgd'\n",
        "num_epochs = 10\n",
        "for learning_rate in lrs:\n",
        "  for alpha_val in alphas:\n",
        "    print('='*80)\n",
        "    print('opt = %s, lr = %f, alpha = %f' %(optimizer, learning_rate, alpha_val))\n",
        "    print('='*80)\n",
        "    normed_weight_changes_w256[(optimizer, learning_rate, alpha_val)] = train(alpha=alpha_val, epoch=num_epochs, opt=optimizer, lr=learning_rate, scaling=True, width=256)"
      ],
      "execution_count": 9,
      "outputs": [
        {
          "output_type": "stream",
          "text": [
            "================================================================================\n",
            "opt = sgd, lr = 1.000000, alpha = 20000.000000\n",
            "================================================================================\n"
          ],
          "name": "stdout"
        },
        {
          "output_type": "display_data",
          "data": {
            "application/vnd.google.colaboratory.intrinsic+json": {
              "type": "string"
            },
            "text/plain": [
              "'Epoch: 0009, Total Run Time: 00:01:29 - Loss: 5.7565e-09, Accuracy: 0.097, Test Loss: 5.7564e-09, Test Accuracy: 0.098 - L2 Norm of Weight Movement From Initialization: [0.0, 0.0, 0.0, 0.0]'"
            ]
          },
          "metadata": {
            "tags": []
          }
        },
        {
          "output_type": "stream",
          "text": [
            "\n",
            "max training accuracy 0.09724000096321106\n",
            "min training loss 5.756487286845413e-09\n",
            "max validation accuracy 0.09769999980926514\n",
            "min validation loss 5.7564477629057365e-09\n",
            "\n",
            "l2-normed weight changes from initial values after last epoch:\n",
            "[0.0, 0.0, 0.0, 0.0]\n",
            "================================================================================\n",
            "opt = sgd, lr = 1.000000, alpha = 1000.000000\n",
            "================================================================================\n"
          ],
          "name": "stdout"
        },
        {
          "output_type": "display_data",
          "data": {
            "application/vnd.google.colaboratory.intrinsic+json": {
              "type": "string"
            },
            "text/plain": [
              "'Epoch: 0009, Total Run Time: 00:01:30 - Loss: 2.3026e-06, Accuracy: 0.105, Test Loss: 2.3026e-06, Test Accuracy: 0.106 - L2 Norm of Weight Movement From Initialization: [0.0, 0.0, 0.0, 0.0]'"
            ]
          },
          "metadata": {
            "tags": []
          }
        },
        {
          "output_type": "stream",
          "text": [
            "\n",
            "max training accuracy 0.10543999820947647\n",
            "min training loss 2.302632083228673e-06\n",
            "max validation accuracy 0.10599999874830246\n",
            "min validation loss 2.3025800146569964e-06\n",
            "\n",
            "l2-normed weight changes from initial values after last epoch:\n",
            "[0.0, 0.0, 0.0, 0.0]\n",
            "================================================================================\n",
            "opt = sgd, lr = 1.000000, alpha = 100.000000\n",
            "================================================================================\n"
          ],
          "name": "stdout"
        },
        {
          "output_type": "display_data",
          "data": {
            "application/vnd.google.colaboratory.intrinsic+json": {
              "type": "string"
            },
            "text/plain": [
              "'Epoch: 0009, Total Run Time: 00:01:24 - Loss: 2.2763e-04, Accuracy: 0.103, Test Loss: 2.2774e-04, Test Accuracy: 0.102 - L2 Norm of Weight Movement From Initialization: [0.41873896, 0.032245055, 0.12712727, 0.03279595]'"
            ]
          },
          "metadata": {
            "tags": []
          }
        },
        {
          "output_type": "stream",
          "text": [
            "\n",
            "max training accuracy 0.10766000300645828\n",
            "min training loss 0.00022762635489925742\n",
            "max validation accuracy 0.10520000010728836\n",
            "min validation loss 0.0002277366875205189\n",
            "\n",
            "l2-normed weight changes from initial values after last epoch:\n",
            "[0.41873896, 0.032245055, 0.12712727, 0.03279595]\n",
            "================================================================================\n",
            "opt = sgd, lr = 1.000000, alpha = 80.000000\n",
            "================================================================================\n"
          ],
          "name": "stdout"
        },
        {
          "output_type": "display_data",
          "data": {
            "application/vnd.google.colaboratory.intrinsic+json": {
              "type": "string"
            },
            "text/plain": [
              "'Epoch: 0009, Total Run Time: 00:01:24 - Loss: 3.1245e-04, Accuracy: 0.163, Test Loss: 3.1159e-04, Test Accuracy: 0.163 - L2 Norm of Weight Movement From Initialization: [1.5545715, 0.15130505, 0.6627439, 0.120959364]'"
            ]
          },
          "metadata": {
            "tags": []
          }
        },
        {
          "output_type": "stream",
          "text": [
            "\n",
            "max training accuracy 0.16266000270843506\n",
            "min training loss 0.0003124534559901804\n",
            "max validation accuracy 0.1648000031709671\n",
            "min validation loss 0.000311594019876793\n",
            "\n",
            "l2-normed weight changes from initial values after last epoch:\n",
            "[1.5545715, 0.15130505, 0.6627439, 0.120959364]\n",
            "================================================================================\n",
            "opt = sgd, lr = 1.000000, alpha = 60.000000\n",
            "================================================================================\n"
          ],
          "name": "stdout"
        },
        {
          "output_type": "display_data",
          "data": {
            "application/vnd.google.colaboratory.intrinsic+json": {
              "type": "string"
            },
            "text/plain": [
              "'Epoch: 0009, Total Run Time: 00:01:25 - Loss: 5.9624e-04, Accuracy: 0.082, Test Loss: 5.9243e-04, Test Accuracy: 0.076 - L2 Norm of Weight Movement From Initialization: [1.2019433, 0.0922227, 0.48264205, 0.102145374]'"
            ]
          },
          "metadata": {
            "tags": []
          }
        },
        {
          "output_type": "stream",
          "text": [
            "\n",
            "max training accuracy 0.08209999650716782\n",
            "min training loss 0.0005962415016256273\n",
            "max validation accuracy 0.0763000026345253\n",
            "min validation loss 0.0005924340803176165\n",
            "\n",
            "l2-normed weight changes from initial values after last epoch:\n",
            "[1.2019433, 0.0922227, 0.48264205, 0.102145374]\n",
            "================================================================================\n",
            "opt = sgd, lr = 1.000000, alpha = 40.000000\n",
            "================================================================================\n"
          ],
          "name": "stdout"
        },
        {
          "output_type": "display_data",
          "data": {
            "application/vnd.google.colaboratory.intrinsic+json": {
              "type": "string"
            },
            "text/plain": [
              "'Epoch: 0009, Total Run Time: 00:01:23 - Loss: 1.1196e-03, Accuracy: 0.114, Test Loss: 1.1262e-03, Test Accuracy: 0.115 - L2 Norm of Weight Movement From Initialization: [3.8021646, 0.5926871, 1.8828449, 0.81488484]'"
            ]
          },
          "metadata": {
            "tags": []
          }
        },
        {
          "output_type": "stream",
          "text": [
            "\n",
            "max training accuracy 0.12831999361515045\n",
            "min training loss 0.0011196063132956624\n",
            "max validation accuracy 0.14650000631809235\n",
            "min validation loss 0.001126211485825479\n",
            "\n",
            "l2-normed weight changes from initial values after last epoch:\n",
            "[3.8021646, 0.5926871, 1.8828449, 0.81488484]\n",
            "================================================================================\n",
            "opt = sgd, lr = 1.000000, alpha = 30.000000\n",
            "================================================================================\n"
          ],
          "name": "stdout"
        },
        {
          "output_type": "display_data",
          "data": {
            "application/vnd.google.colaboratory.intrinsic+json": {
              "type": "string"
            },
            "text/plain": [
              "'Epoch: 0009, Total Run Time: 00:01:25 - Loss: 1.8693e-03, Accuracy: 0.327, Test Loss: 1.9099e-03, Test Accuracy: 0.320 - L2 Norm of Weight Movement From Initialization: [5.943694, 0.89668405, 3.2208214, 0.98353493]'"
            ]
          },
          "metadata": {
            "tags": []
          }
        },
        {
          "output_type": "stream",
          "text": [
            "\n",
            "max training accuracy 0.3273800015449524\n",
            "min training loss 0.0018692879239097238\n",
            "max validation accuracy 0.32010000944137573\n",
            "min validation loss 0.0019098591292276978\n",
            "\n",
            "l2-normed weight changes from initial values after last epoch:\n",
            "[5.943694, 0.89668405, 3.2208214, 0.98353493]\n",
            "================================================================================\n",
            "opt = sgd, lr = 1.000000, alpha = 20.000000\n",
            "================================================================================\n"
          ],
          "name": "stdout"
        },
        {
          "output_type": "display_data",
          "data": {
            "application/vnd.google.colaboratory.intrinsic+json": {
              "type": "string"
            },
            "text/plain": [
              "'Epoch: 0009, Total Run Time: 00:01:25 - Loss: 3.9256e-03, Accuracy: 0.407, Test Loss: 4.0110e-03, Test Accuracy: 0.416 - L2 Norm of Weight Movement From Initialization: [10.326107, 1.1340399, 4.304434, 1.3194847]'"
            ]
          },
          "metadata": {
            "tags": []
          }
        },
        {
          "output_type": "stream",
          "text": [
            "\n",
            "max training accuracy 0.4069199860095978\n",
            "min training loss 0.003925600089132786\n",
            "max validation accuracy 0.41620001196861267\n",
            "min validation loss 0.004010975360870361\n",
            "\n",
            "l2-normed weight changes from initial values after last epoch:\n",
            "[10.326107, 1.1340399, 4.304434, 1.3194847]\n",
            "================================================================================\n",
            "opt = sgd, lr = 1.000000, alpha = 10.000000\n",
            "================================================================================\n"
          ],
          "name": "stdout"
        },
        {
          "output_type": "display_data",
          "data": {
            "application/vnd.google.colaboratory.intrinsic+json": {
              "type": "string"
            },
            "text/plain": [
              "'Epoch: 0009, Total Run Time: 00:01:23 - Loss: 1.6432e-02, Accuracy: 0.418, Test Loss: 1.6911e-02, Test Accuracy: 0.409 - L2 Norm of Weight Movement From Initialization: [17.473753, 2.765965, 3.9066038, 3.4901977]'"
            ]
          },
          "metadata": {
            "tags": []
          }
        },
        {
          "output_type": "stream",
          "text": [
            "\n",
            "max training accuracy 0.417820006608963\n",
            "min training loss 0.016432296484708786\n",
            "max validation accuracy 0.4228000044822693\n",
            "min validation loss 0.01678049936890602\n",
            "\n",
            "l2-normed weight changes from initial values after last epoch:\n",
            "[17.473753, 2.765965, 3.9066038, 3.4901977]\n",
            "================================================================================\n",
            "opt = sgd, lr = 1.000000, alpha = 9.000000\n",
            "================================================================================\n"
          ],
          "name": "stdout"
        },
        {
          "output_type": "display_data",
          "data": {
            "application/vnd.google.colaboratory.intrinsic+json": {
              "type": "string"
            },
            "text/plain": [
              "'Epoch: 0009, Total Run Time: 00:01:23 - Loss: 2.1042e-02, Accuracy: 0.383, Test Loss: 2.1145e-02, Test Accuracy: 0.378 - L2 Norm of Weight Movement From Initialization: [17.631014, 3.1739748, 3.7417345, 3.6165082]'"
            ]
          },
          "metadata": {
            "tags": []
          }
        },
        {
          "output_type": "stream",
          "text": [
            "\n",
            "max training accuracy 0.3847599923610687\n",
            "min training loss 0.021041516214609146\n",
            "max validation accuracy 0.3776000142097473\n",
            "min validation loss 0.021145455539226532\n",
            "\n",
            "l2-normed weight changes from initial values after last epoch:\n",
            "[17.631014, 3.1739748, 3.7417345, 3.6165082]\n",
            "================================================================================\n",
            "opt = sgd, lr = 1.000000, alpha = 8.000000\n",
            "================================================================================\n"
          ],
          "name": "stdout"
        },
        {
          "output_type": "display_data",
          "data": {
            "application/vnd.google.colaboratory.intrinsic+json": {
              "type": "string"
            },
            "text/plain": [
              "'Epoch: 0009, Total Run Time: 00:01:22 - Loss: 2.7284e-02, Accuracy: 0.361, Test Loss: 2.7110e-02, Test Accuracy: 0.368 - L2 Norm of Weight Movement From Initialization: [19.008566, 3.4754574, 3.8647196, 3.5674872]'"
            ]
          },
          "metadata": {
            "tags": []
          }
        },
        {
          "output_type": "stream",
          "text": [
            "\n",
            "max training accuracy 0.36438000202178955\n",
            "min training loss 0.027284396812319756\n",
            "max validation accuracy 0.3675000071525574\n",
            "min validation loss 0.027110259979963303\n",
            "\n",
            "l2-normed weight changes from initial values after last epoch:\n",
            "[19.008566, 3.4754574, 3.8647196, 3.5674872]\n",
            "================================================================================\n",
            "opt = sgd, lr = 1.000000, alpha = 7.000000\n",
            "================================================================================\n"
          ],
          "name": "stdout"
        },
        {
          "output_type": "display_data",
          "data": {
            "application/vnd.google.colaboratory.intrinsic+json": {
              "type": "string"
            },
            "text/plain": [
              "'Epoch: 0009, Total Run Time: 00:01:23 - Loss: 3.7201e-02, Accuracy: 0.331, Test Loss: 3.6845e-02, Test Accuracy: 0.324 - L2 Norm of Weight Movement From Initialization: [19.112148, 4.332064, 3.983906, 2.5680082]'"
            ]
          },
          "metadata": {
            "tags": []
          }
        },
        {
          "output_type": "stream",
          "text": [
            "\n",
            "max training accuracy 0.3310000002384186\n",
            "min training loss 0.037201158702373505\n",
            "max validation accuracy 0.34779998660087585\n",
            "min validation loss 0.03684544563293457\n",
            "\n",
            "l2-normed weight changes from initial values after last epoch:\n",
            "[19.112148, 4.332064, 3.983906, 2.5680082]\n",
            "================================================================================\n",
            "opt = sgd, lr = 1.000000, alpha = 6.000000\n",
            "================================================================================\n"
          ],
          "name": "stdout"
        },
        {
          "output_type": "display_data",
          "data": {
            "application/vnd.google.colaboratory.intrinsic+json": {
              "type": "string"
            },
            "text/plain": [
              "'Epoch: 0009, Total Run Time: 00:01:24 - Loss: 5.7896e-02, Accuracy: 0.204, Test Loss: 5.9301e-02, Test Accuracy: 0.204 - L2 Norm of Weight Movement From Initialization: [16.61676, 4.217694, 4.9302197, 0.9271555]'"
            ]
          },
          "metadata": {
            "tags": []
          }
        },
        {
          "output_type": "stream",
          "text": [
            "\n",
            "max training accuracy 0.2125999927520752\n",
            "min training loss 0.05755740404129028\n",
            "max validation accuracy 0.20440000295639038\n",
            "min validation loss 0.05807633697986603\n",
            "\n",
            "l2-normed weight changes from initial values after last epoch:\n",
            "[16.61676, 4.217694, 4.9302197, 0.9271555]\n",
            "================================================================================\n",
            "opt = sgd, lr = 1.000000, alpha = 5.000000\n",
            "================================================================================\n"
          ],
          "name": "stdout"
        },
        {
          "output_type": "display_data",
          "data": {
            "application/vnd.google.colaboratory.intrinsic+json": {
              "type": "string"
            },
            "text/plain": [
              "'Epoch: 0009, Total Run Time: 00:01:22 - Loss: 9.2115e-02, Accuracy: 0.104, Test Loss: 9.2226e-02, Test Accuracy: 0.101 - L2 Norm of Weight Movement From Initialization: [15.5188675, 1.2368046, 5.7322874, 0.26405898]'"
            ]
          },
          "metadata": {
            "tags": []
          }
        },
        {
          "output_type": "stream",
          "text": [
            "\n",
            "max training accuracy 0.13504000008106232\n",
            "min training loss 0.08974801748991013\n",
            "max validation accuracy 0.1745000034570694\n",
            "min validation loss 0.08715963363647461\n",
            "\n",
            "l2-normed weight changes from initial values after last epoch:\n",
            "[15.5188675, 1.2368046, 5.7322874, 0.26405898]\n",
            "================================================================================\n",
            "opt = sgd, lr = 1.000000, alpha = 4.000000\n",
            "================================================================================\n"
          ],
          "name": "stdout"
        },
        {
          "output_type": "display_data",
          "data": {
            "application/vnd.google.colaboratory.intrinsic+json": {
              "type": "string"
            },
            "text/plain": [
              "'Epoch: 0009, Total Run Time: 00:01:22 - Loss: 1.4414e-01, Accuracy: 0.100, Test Loss: 1.4405e-01, Test Accuracy: 0.100 - L2 Norm of Weight Movement From Initialization: [10.830339, 0.39428785, 5.150262, 0.2135633]'"
            ]
          },
          "metadata": {
            "tags": []
          }
        },
        {
          "output_type": "stream",
          "text": [
            "\n",
            "max training accuracy 0.10226000100374222\n",
            "min training loss 0.14404340088367462\n",
            "max validation accuracy 0.10000000149011612\n",
            "min validation loss 0.14393693208694458\n",
            "\n",
            "l2-normed weight changes from initial values after last epoch:\n",
            "[10.830339, 0.39428785, 5.150262, 0.2135633]\n",
            "================================================================================\n",
            "opt = sgd, lr = 1.000000, alpha = 3.000000\n",
            "================================================================================\n"
          ],
          "name": "stdout"
        },
        {
          "output_type": "display_data",
          "data": {
            "application/vnd.google.colaboratory.intrinsic+json": {
              "type": "string"
            },
            "text/plain": [
              "'Epoch: 0009, Total Run Time: 00:01:25 - Loss: 2.5672e-01, Accuracy: 0.099, Test Loss: 2.5644e-01, Test Accuracy: 0.100 - L2 Norm of Weight Movement From Initialization: [23.910095, 0.84055763, 15.963717, 0.32284486]'"
            ]
          },
          "metadata": {
            "tags": []
          }
        },
        {
          "output_type": "stream",
          "text": [
            "\n",
            "max training accuracy 0.10165999829769135\n",
            "min training loss 0.256670743227005\n",
            "max validation accuracy 0.10010000318288803\n",
            "min validation loss 0.25637125968933105\n",
            "\n",
            "l2-normed weight changes from initial values after last epoch:\n",
            "[23.910095, 0.84055763, 15.963717, 0.32284486]\n",
            "================================================================================\n",
            "opt = sgd, lr = 1.000000, alpha = 2.000000\n",
            "================================================================================\n"
          ],
          "name": "stdout"
        },
        {
          "output_type": "display_data",
          "data": {
            "application/vnd.google.colaboratory.intrinsic+json": {
              "type": "string"
            },
            "text/plain": [
              "'Epoch: 0009, Total Run Time: 00:01:26 - Loss: 3.6266e+00, Accuracy: 0.100, Test Loss: 3.6266e+00, Test Accuracy: 0.100 - L2 Norm of Weight Movement From Initialization: [20.859085, 0.8590329, 29.069435, 1.0291991]'"
            ]
          },
          "metadata": {
            "tags": []
          }
        },
        {
          "output_type": "stream",
          "text": [
            "\n",
            "max training accuracy 0.10006000101566315\n",
            "min training loss 3.6243762969970703\n",
            "max validation accuracy 0.10000000149011612\n",
            "min validation loss 3.6265676021575928\n",
            "\n",
            "l2-normed weight changes from initial values after last epoch:\n",
            "[20.859085, 0.8590329, 29.069435, 1.0291991]\n",
            "================================================================================\n",
            "opt = sgd, lr = 1.000000, alpha = 1.000000\n",
            "================================================================================\n"
          ],
          "name": "stdout"
        },
        {
          "output_type": "display_data",
          "data": {
            "application/vnd.google.colaboratory.intrinsic+json": {
              "type": "string"
            },
            "text/plain": [
              "'Epoch: 0009, Total Run Time: 00:01:25 - Loss: 1.4506e+01, Accuracy: 0.100, Test Loss: 1.4506e+01, Test Accuracy: 0.100 - L2 Norm of Weight Movement From Initialization: [67.4401, 2.0009003, 132.09991, 2.234769]'"
            ]
          },
          "metadata": {
            "tags": []
          }
        },
        {
          "output_type": "stream",
          "text": [
            "\n",
            "max training accuracy 0.10000000149011612\n",
            "min training loss 14.499731063842773\n",
            "max validation accuracy 0.10000000149011612\n",
            "min validation loss 14.50627326965332\n",
            "\n",
            "l2-normed weight changes from initial values after last epoch:\n",
            "[67.4401, 2.0009003, 132.09991, 2.234769]\n",
            "================================================================================\n",
            "opt = sgd, lr = 1.000000, alpha = 0.800000\n",
            "================================================================================\n"
          ],
          "name": "stdout"
        },
        {
          "output_type": "display_data",
          "data": {
            "application/vnd.google.colaboratory.intrinsic+json": {
              "type": "string"
            },
            "text/plain": [
              "'Epoch: 0009, Total Run Time: 00:01:27 - Loss: 2.2352e+01, Accuracy: 0.100, Test Loss: 2.2352e+01, Test Accuracy: 0.100 - L2 Norm of Weight Movement From Initialization: [93.606674, 3.6548486, 27.213808, 3.84976]'"
            ]
          },
          "metadata": {
            "tags": []
          }
        },
        {
          "output_type": "stream",
          "text": [
            "\n",
            "max training accuracy 0.10000000149011612\n",
            "min training loss 22.34124755859375\n",
            "max validation accuracy 0.10000000149011612\n",
            "min validation loss 22.352266311645508\n",
            "\n",
            "l2-normed weight changes from initial values after last epoch:\n",
            "[93.606674, 3.6548486, 27.213808, 3.84976]\n",
            "================================================================================\n",
            "opt = sgd, lr = 1.000000, alpha = 0.600000\n",
            "================================================================================\n"
          ],
          "name": "stdout"
        },
        {
          "output_type": "display_data",
          "data": {
            "application/vnd.google.colaboratory.intrinsic+json": {
              "type": "string"
            },
            "text/plain": [
              "'Epoch: 0009, Total Run Time: 00:01:28 - Loss: 3.9018e+01, Accuracy: 0.100, Test Loss: 3.9018e+01, Test Accuracy: 0.100 - L2 Norm of Weight Movement From Initialization: [159.94589, 5.943975, 47.845215, 5.387581]'"
            ]
          },
          "metadata": {
            "tags": []
          }
        },
        {
          "output_type": "stream",
          "text": [
            "\n",
            "max training accuracy 0.10000000149011612\n",
            "min training loss 38.99819564819336\n",
            "max validation accuracy 0.10000000149011612\n",
            "min validation loss 39.01817321777344\n",
            "\n",
            "l2-normed weight changes from initial values after last epoch:\n",
            "[159.94589, 5.943975, 47.845215, 5.387581]\n",
            "================================================================================\n",
            "opt = sgd, lr = 1.000000, alpha = 0.400000\n",
            "================================================================================\n"
          ],
          "name": "stdout"
        },
        {
          "output_type": "display_data",
          "data": {
            "application/vnd.google.colaboratory.intrinsic+json": {
              "type": "string"
            },
            "text/plain": [
              "'Epoch: 0009, Total Run Time: 00:01:24 - Loss: 8.5509e+01, Accuracy: 0.100, Test Loss: 8.5510e+01, Test Accuracy: 0.100 - L2 Norm of Weight Movement From Initialization: [761.7858, 24.012634, 203.99283, 23.774912]'"
            ]
          },
          "metadata": {
            "tags": []
          }
        },
        {
          "output_type": "stream",
          "text": [
            "\n",
            "max training accuracy 0.10000000149011612\n",
            "min training loss 85.4697494506836\n",
            "max validation accuracy 0.10000000149011612\n",
            "min validation loss 85.51007843017578\n",
            "\n",
            "l2-normed weight changes from initial values after last epoch:\n",
            "[761.7858, 24.012634, 203.99283, 23.774912]\n",
            "================================================================================\n",
            "opt = sgd, lr = 1.000000, alpha = 0.200000\n",
            "================================================================================\n"
          ],
          "name": "stdout"
        },
        {
          "output_type": "display_data",
          "data": {
            "application/vnd.google.colaboratory.intrinsic+json": {
              "type": "string"
            },
            "text/plain": [
              "'Epoch: 0009, Total Run Time: 00:01:25 - Loss: 3.2644e+02, Accuracy: 0.100, Test Loss: 3.2644e+02, Test Accuracy: 0.100 - L2 Norm of Weight Movement From Initialization: [1814.4906, 63.61089, 603.6043, 72.20668]'"
            ]
          },
          "metadata": {
            "tags": []
          }
        },
        {
          "output_type": "stream",
          "text": [
            "\n",
            "max training accuracy 0.10000000149011612\n",
            "min training loss 326.2973327636719\n",
            "max validation accuracy 0.10000000149011612\n",
            "min validation loss 326.4447937011719\n",
            "\n",
            "l2-normed weight changes from initial values after last epoch:\n",
            "[1814.4906, 63.61089, 603.6043, 72.20668]\n",
            "================================================================================\n",
            "opt = sgd, lr = 1.000000, alpha = 0.100000\n",
            "================================================================================\n"
          ],
          "name": "stdout"
        },
        {
          "output_type": "display_data",
          "data": {
            "application/vnd.google.colaboratory.intrinsic+json": {
              "type": "string"
            },
            "text/plain": [
              "'Epoch: 0009, Total Run Time: 00:01:26 - Loss: 1.2434e+03, Accuracy: 0.100, Test Loss: 1.2434e+03, Test Accuracy: 0.100 - L2 Norm of Weight Movement From Initialization: [6239.953, 190.3665, 1982.0292, 197.1899]'"
            ]
          },
          "metadata": {
            "tags": []
          }
        },
        {
          "output_type": "stream",
          "text": [
            "\n",
            "max training accuracy 0.10001999884843826\n",
            "min training loss 1242.8341064453125\n",
            "max validation accuracy 0.10000000149011612\n",
            "min validation loss 1243.396728515625\n",
            "\n",
            "l2-normed weight changes from initial values after last epoch:\n",
            "[6239.953, 190.3665, 1982.0292, 197.1899]\n",
            "================================================================================\n",
            "opt = sgd, lr = 1.000000, alpha = 0.070000\n",
            "================================================================================\n"
          ],
          "name": "stdout"
        },
        {
          "output_type": "display_data",
          "data": {
            "application/vnd.google.colaboratory.intrinsic+json": {
              "type": "string"
            },
            "text/plain": [
              "'Epoch: 0009, Total Run Time: 00:01:29 - Loss: 2.4720e+03, Accuracy: 0.100, Test Loss: 2.4720e+03, Test Accuracy: 0.100 - L2 Norm of Weight Movement From Initialization: [10741.759, 336.96606, 2983.4543, 304.0279]'"
            ]
          },
          "metadata": {
            "tags": []
          }
        },
        {
          "output_type": "stream",
          "text": [
            "\n",
            "max training accuracy 0.10001999884843826\n",
            "min training loss 2470.754150390625\n",
            "max validation accuracy 0.10000000149011612\n",
            "min validation loss 2472.034912109375\n",
            "\n",
            "l2-normed weight changes from initial values after last epoch:\n",
            "[10741.759, 336.96606, 2983.4543, 304.0279]\n",
            "================================================================================\n",
            "opt = sgd, lr = 1.000000, alpha = 0.040000\n",
            "================================================================================\n"
          ],
          "name": "stdout"
        },
        {
          "output_type": "display_data",
          "data": {
            "application/vnd.google.colaboratory.intrinsic+json": {
              "type": "string"
            },
            "text/plain": [
              "'Epoch: 0009, Total Run Time: 00:01:27 - Loss: 7.2558e+03, Accuracy: 0.100, Test Loss: 7.2558e+03, Test Accuracy: 0.100 - L2 Norm of Weight Movement From Initialization: [38604.95, 1278.1039, 12363.168, 1506.7021]'"
            ]
          },
          "metadata": {
            "tags": []
          }
        },
        {
          "output_type": "stream",
          "text": [
            "\n",
            "max training accuracy 0.10000000149011612\n",
            "min training loss 7252.42236328125\n",
            "max validation accuracy 0.10000000149011612\n",
            "min validation loss 7255.82421875\n",
            "\n",
            "l2-normed weight changes from initial values after last epoch:\n",
            "[38604.95, 1278.1039, 12363.168, 1506.7021]\n",
            "================================================================================\n",
            "opt = sgd, lr = 1.000000, alpha = 0.010000\n",
            "================================================================================\n"
          ],
          "name": "stdout"
        },
        {
          "output_type": "display_data",
          "data": {
            "application/vnd.google.colaboratory.intrinsic+json": {
              "type": "string"
            },
            "text/plain": [
              "'Epoch: 0009, Total Run Time: 00:01:25 - Loss: 1.0362e+05, Accuracy: 0.100, Test Loss: 1.0362e+05, Test Accuracy: 0.100 - L2 Norm of Weight Movement From Initialization: [650032.7, 23797.451, 205709.58, 26988.72]'"
            ]
          },
          "metadata": {
            "tags": []
          }
        },
        {
          "output_type": "stream",
          "text": [
            "\n",
            "max training accuracy 0.10000000149011612\n",
            "min training loss 103573.453125\n",
            "max validation accuracy 0.10000000149011612\n",
            "min validation loss 103617.0625\n",
            "\n",
            "l2-normed weight changes from initial values after last epoch:\n",
            "[650032.7, 23797.451, 205709.58, 26988.72]\n",
            "================================================================================\n",
            "opt = sgd, lr = 1.000000, alpha = 0.001000\n",
            "================================================================================\n"
          ],
          "name": "stdout"
        },
        {
          "output_type": "display_data",
          "data": {
            "application/vnd.google.colaboratory.intrinsic+json": {
              "type": "string"
            },
            "text/plain": [
              "'Epoch: 0009, Total Run Time: 00:01:25 - Loss: 8.2902e+06, Accuracy: 0.100, Test Loss: 8.2902e+06, Test Accuracy: 0.100 - L2 Norm of Weight Movement From Initialization: [95755900.0, 3336957.8, 26708270.0, 3368106.2]'"
            ]
          },
          "metadata": {
            "tags": []
          }
        },
        {
          "output_type": "stream",
          "text": [
            "\n",
            "max training accuracy 0.10000000149011612\n",
            "min training loss 8286753.5\n",
            "max validation accuracy 0.10000000149011612\n",
            "min validation loss 8290204.0\n",
            "\n",
            "l2-normed weight changes from initial values after last epoch:\n",
            "[95755900.0, 3336957.8, 26708270.0, 3368106.2]\n",
            "================================================================================\n",
            "opt = sgd, lr = 0.100000, alpha = 20000.000000\n",
            "================================================================================\n"
          ],
          "name": "stdout"
        },
        {
          "output_type": "display_data",
          "data": {
            "application/vnd.google.colaboratory.intrinsic+json": {
              "type": "string"
            },
            "text/plain": [
              "'Epoch: 0009, Total Run Time: 00:01:25 - Loss: 5.7565e-09, Accuracy: 0.103, Test Loss: 5.7564e-09, Test Accuracy: 0.103 - L2 Norm of Weight Movement From Initialization: [0.0, 0.0, 0.0, 0.0]'"
            ]
          },
          "metadata": {
            "tags": []
          }
        },
        {
          "output_type": "stream",
          "text": [
            "\n",
            "max training accuracy 0.10279999673366547\n",
            "min training loss 5.756487286845413e-09\n",
            "max validation accuracy 0.10279999673366547\n",
            "min validation loss 5.7564477629057365e-09\n",
            "\n",
            "l2-normed weight changes from initial values after last epoch:\n",
            "[0.0, 0.0, 0.0, 0.0]\n",
            "================================================================================\n",
            "opt = sgd, lr = 0.100000, alpha = 1000.000000\n",
            "================================================================================\n"
          ],
          "name": "stdout"
        },
        {
          "output_type": "display_data",
          "data": {
            "application/vnd.google.colaboratory.intrinsic+json": {
              "type": "string"
            },
            "text/plain": [
              "'Epoch: 0009, Total Run Time: 00:01:24 - Loss: 2.3026e-06, Accuracy: 0.100, Test Loss: 2.3026e-06, Test Accuracy: 0.100 - L2 Norm of Weight Movement From Initialization: [0.0, 0.0, 0.0, 0.0]'"
            ]
          },
          "metadata": {
            "tags": []
          }
        },
        {
          "output_type": "stream",
          "text": [
            "\n",
            "max training accuracy 0.09997999668121338\n",
            "min training loss 2.302632083228673e-06\n",
            "max validation accuracy 0.10000000149011612\n",
            "min validation loss 2.3025800146569964e-06\n",
            "\n",
            "l2-normed weight changes from initial values after last epoch:\n",
            "[0.0, 0.0, 0.0, 0.0]\n",
            "================================================================================\n",
            "opt = sgd, lr = 0.100000, alpha = 100.000000\n",
            "================================================================================\n"
          ],
          "name": "stdout"
        },
        {
          "output_type": "display_data",
          "data": {
            "application/vnd.google.colaboratory.intrinsic+json": {
              "type": "string"
            },
            "text/plain": [
              "'Epoch: 0009, Total Run Time: 00:01:24 - Loss: 2.3025e-04, Accuracy: 0.089, Test Loss: 2.3026e-04, Test Accuracy: 0.087 - L2 Norm of Weight Movement From Initialization: [0.007517429, 0.00016141681, 0.0024248788, 0.00017723913]'"
            ]
          },
          "metadata": {
            "tags": []
          }
        },
        {
          "output_type": "stream",
          "text": [
            "\n",
            "max training accuracy 0.08962000161409378\n",
            "min training loss 0.00023025488189887255\n",
            "max validation accuracy 0.0885000005364418\n",
            "min validation loss 0.00023025879636406898\n",
            "\n",
            "l2-normed weight changes from initial values after last epoch:\n",
            "[0.007517429, 0.00016141681, 0.0024248788, 0.00017723913]\n",
            "================================================================================\n",
            "opt = sgd, lr = 0.100000, alpha = 80.000000\n",
            "================================================================================\n"
          ],
          "name": "stdout"
        },
        {
          "output_type": "display_data",
          "data": {
            "application/vnd.google.colaboratory.intrinsic+json": {
              "type": "string"
            },
            "text/plain": [
              "'Epoch: 0009, Total Run Time: 00:01:24 - Loss: 3.5977e-04, Accuracy: 0.102, Test Loss: 3.5978e-04, Test Accuracy: 0.101 - L2 Norm of Weight Movement From Initialization: [0.004362196, 9.041206e-05, 0.0011462331, 6.318793e-05]'"
            ]
          },
          "metadata": {
            "tags": []
          }
        },
        {
          "output_type": "stream",
          "text": [
            "\n",
            "max training accuracy 0.10153999924659729\n",
            "min training loss 0.00035977447987534106\n",
            "max validation accuracy 0.10119999945163727\n",
            "min validation loss 0.00035977564402855933\n",
            "\n",
            "l2-normed weight changes from initial values after last epoch:\n",
            "[0.004362196, 9.041206e-05, 0.0011462331, 6.318793e-05]\n",
            "================================================================================\n",
            "opt = sgd, lr = 0.100000, alpha = 60.000000\n",
            "================================================================================\n"
          ],
          "name": "stdout"
        },
        {
          "output_type": "display_data",
          "data": {
            "application/vnd.google.colaboratory.intrinsic+json": {
              "type": "string"
            },
            "text/plain": [
              "'Epoch: 0009, Total Run Time: 00:01:25 - Loss: 6.2129e-04, Accuracy: 0.098, Test Loss: 6.2037e-04, Test Accuracy: 0.099 - L2 Norm of Weight Movement From Initialization: [0.3401735, 0.011369001, 0.099322915, 0.012552504]'"
            ]
          },
          "metadata": {
            "tags": []
          }
        },
        {
          "output_type": "stream",
          "text": [
            "\n",
            "max training accuracy 0.09842000156641006\n",
            "min training loss 0.0006212916341610253\n",
            "max validation accuracy 0.09889999777078629\n",
            "min validation loss 0.0006203747470863163\n",
            "\n",
            "l2-normed weight changes from initial values after last epoch:\n",
            "[0.3401735, 0.011369001, 0.099322915, 0.012552504]\n",
            "================================================================================\n",
            "opt = sgd, lr = 0.100000, alpha = 40.000000\n",
            "================================================================================\n"
          ],
          "name": "stdout"
        },
        {
          "output_type": "display_data",
          "data": {
            "application/vnd.google.colaboratory.intrinsic+json": {
              "type": "string"
            },
            "text/plain": [
              "'Epoch: 0009, Total Run Time: 00:01:25 - Loss: 1.3549e-03, Accuracy: 0.078, Test Loss: 1.3556e-03, Test Accuracy: 0.086 - L2 Norm of Weight Movement From Initialization: [0.80778825, 0.0665578, 0.28679842, 0.06465688]'"
            ]
          },
          "metadata": {
            "tags": []
          }
        },
        {
          "output_type": "stream",
          "text": [
            "\n",
            "max training accuracy 0.08696000277996063\n",
            "min training loss 0.0013548950664699078\n",
            "max validation accuracy 0.08640000224113464\n",
            "min validation loss 0.0013556383782997727\n",
            "\n",
            "l2-normed weight changes from initial values after last epoch:\n",
            "[0.80778825, 0.0665578, 0.28679842, 0.06465688]\n",
            "================================================================================\n",
            "opt = sgd, lr = 0.100000, alpha = 30.000000\n",
            "================================================================================\n"
          ],
          "name": "stdout"
        },
        {
          "output_type": "display_data",
          "data": {
            "application/vnd.google.colaboratory.intrinsic+json": {
              "type": "string"
            },
            "text/plain": [
              "'Epoch: 0009, Total Run Time: 00:01:24 - Loss: 2.1620e-03, Accuracy: 0.106, Test Loss: 2.1630e-03, Test Accuracy: 0.106 - L2 Norm of Weight Movement From Initialization: [1.5236617, 0.15569778, 0.6171805, 0.16218957]'"
            ]
          },
          "metadata": {
            "tags": []
          }
        },
        {
          "output_type": "stream",
          "text": [
            "\n",
            "max training accuracy 0.10824000090360641\n",
            "min training loss 0.002162036020308733\n",
            "max validation accuracy 0.1103999987244606\n",
            "min validation loss 0.0021629633847624063\n",
            "\n",
            "l2-normed weight changes from initial values after last epoch:\n",
            "[1.5236617, 0.15569778, 0.6171805, 0.16218957]\n",
            "================================================================================\n",
            "opt = sgd, lr = 0.100000, alpha = 20.000000\n",
            "================================================================================\n"
          ],
          "name": "stdout"
        },
        {
          "output_type": "display_data",
          "data": {
            "application/vnd.google.colaboratory.intrinsic+json": {
              "type": "string"
            },
            "text/plain": [
              "'Epoch: 0009, Total Run Time: 00:01:26 - Loss: 4.5832e-03, Accuracy: 0.110, Test Loss: 4.5891e-03, Test Accuracy: 0.109 - L2 Norm of Weight Movement From Initialization: [2.4744003, 0.3958256, 1.1558793, 0.41110328]'"
            ]
          },
          "metadata": {
            "tags": []
          }
        },
        {
          "output_type": "stream",
          "text": [
            "\n",
            "max training accuracy 0.11574000120162964\n",
            "min training loss 0.004583227448165417\n",
            "max validation accuracy 0.11810000240802765\n",
            "min validation loss 0.004589103162288666\n",
            "\n",
            "l2-normed weight changes from initial values after last epoch:\n",
            "[2.4744003, 0.3958256, 1.1558793, 0.41110328]\n",
            "================================================================================\n",
            "opt = sgd, lr = 0.100000, alpha = 10.000000\n",
            "================================================================================\n"
          ],
          "name": "stdout"
        },
        {
          "output_type": "display_data",
          "data": {
            "application/vnd.google.colaboratory.intrinsic+json": {
              "type": "string"
            },
            "text/plain": [
              "'Epoch: 0009, Total Run Time: 00:01:23 - Loss: 1.5672e-02, Accuracy: 0.401, Test Loss: 1.5825e-02, Test Accuracy: 0.403 - L2 Norm of Weight Movement From Initialization: [6.2570877, 0.6631088, 3.2189782, 0.5710258]'"
            ]
          },
          "metadata": {
            "tags": []
          }
        },
        {
          "output_type": "stream",
          "text": [
            "\n",
            "max training accuracy 0.40088000893592834\n",
            "min training loss 0.015671873465180397\n",
            "max validation accuracy 0.4025000035762787\n",
            "min validation loss 0.01582496240735054\n",
            "\n",
            "l2-normed weight changes from initial values after last epoch:\n",
            "[6.2570877, 0.6631088, 3.2189782, 0.5710258]\n",
            "================================================================================\n",
            "opt = sgd, lr = 0.100000, alpha = 9.000000\n",
            "================================================================================\n"
          ],
          "name": "stdout"
        },
        {
          "output_type": "display_data",
          "data": {
            "application/vnd.google.colaboratory.intrinsic+json": {
              "type": "string"
            },
            "text/plain": [
              "'Epoch: 0009, Total Run Time: 00:01:21 - Loss: 1.8807e-02, Accuracy: 0.453, Test Loss: 1.9251e-02, Test Accuracy: 0.456 - L2 Norm of Weight Movement From Initialization: [7.208417, 0.8669182, 3.5801575, 0.71956044]'"
            ]
          },
          "metadata": {
            "tags": []
          }
        },
        {
          "output_type": "stream",
          "text": [
            "\n",
            "max training accuracy 0.4527199864387512\n",
            "min training loss 0.018806682899594307\n",
            "max validation accuracy 0.45559999346733093\n",
            "min validation loss 0.019251316785812378\n",
            "\n",
            "l2-normed weight changes from initial values after last epoch:\n",
            "[7.208417, 0.8669182, 3.5801575, 0.71956044]\n",
            "================================================================================\n",
            "opt = sgd, lr = 0.100000, alpha = 8.000000\n",
            "================================================================================\n"
          ],
          "name": "stdout"
        },
        {
          "output_type": "display_data",
          "data": {
            "application/vnd.google.colaboratory.intrinsic+json": {
              "type": "string"
            },
            "text/plain": [
              "'Epoch: 0009, Total Run Time: 00:01:21 - Loss: 2.3348e-02, Accuracy: 0.463, Test Loss: 2.3957e-02, Test Accuracy: 0.463 - L2 Norm of Weight Movement From Initialization: [8.281945, 1.0472871, 3.8444595, 0.93343055]'"
            ]
          },
          "metadata": {
            "tags": []
          }
        },
        {
          "output_type": "stream",
          "text": [
            "\n",
            "max training accuracy 0.46303999423980713\n",
            "min training loss 0.023348428308963776\n",
            "max validation accuracy 0.4634000062942505\n",
            "min validation loss 0.023956742137670517\n",
            "\n",
            "l2-normed weight changes from initial values after last epoch:\n",
            "[8.281945, 1.0472871, 3.8444595, 0.93343055]\n",
            "================================================================================\n",
            "opt = sgd, lr = 0.100000, alpha = 7.000000\n",
            "================================================================================\n"
          ],
          "name": "stdout"
        },
        {
          "output_type": "display_data",
          "data": {
            "application/vnd.google.colaboratory.intrinsic+json": {
              "type": "string"
            },
            "text/plain": [
              "'Epoch: 0009, Total Run Time: 00:01:21 - Loss: 3.0014e-02, Accuracy: 0.475, Test Loss: 3.0689e-02, Test Accuracy: 0.481 - L2 Norm of Weight Movement From Initialization: [9.650502, 1.2502702, 4.0684233, 1.2128412]'"
            ]
          },
          "metadata": {
            "tags": []
          }
        },
        {
          "output_type": "stream",
          "text": [
            "\n",
            "max training accuracy 0.4754199981689453\n",
            "min training loss 0.030014336109161377\n",
            "max validation accuracy 0.48100000619888306\n",
            "min validation loss 0.030688857659697533\n",
            "\n",
            "l2-normed weight changes from initial values after last epoch:\n",
            "[9.650502, 1.2502702, 4.0684233, 1.2128412]\n",
            "================================================================================\n",
            "opt = sgd, lr = 0.100000, alpha = 6.000000\n",
            "================================================================================\n"
          ],
          "name": "stdout"
        },
        {
          "output_type": "display_data",
          "data": {
            "application/vnd.google.colaboratory.intrinsic+json": {
              "type": "string"
            },
            "text/plain": [
              "'Epoch: 0009, Total Run Time: 00:01:22 - Loss: 4.0144e-02, Accuracy: 0.480, Test Loss: 4.1529e-02, Test Accuracy: 0.483 - L2 Norm of Weight Movement From Initialization: [11.38466, 1.5515461, 4.259508, 1.6951067]'"
            ]
          },
          "metadata": {
            "tags": []
          }
        },
        {
          "output_type": "stream",
          "text": [
            "\n",
            "max training accuracy 0.4802600145339966\n",
            "min training loss 0.040143899619579315\n",
            "max validation accuracy 0.4848000109195709\n",
            "min validation loss 0.041266895830631256\n",
            "\n",
            "l2-normed weight changes from initial values after last epoch:\n",
            "[11.38466, 1.5515461, 4.259508, 1.6951067]\n",
            "================================================================================\n",
            "opt = sgd, lr = 0.100000, alpha = 5.000000\n",
            "================================================================================\n"
          ],
          "name": "stdout"
        },
        {
          "output_type": "display_data",
          "data": {
            "application/vnd.google.colaboratory.intrinsic+json": {
              "type": "string"
            },
            "text/plain": [
              "'Epoch: 0009, Total Run Time: 00:01:22 - Loss: 5.7941e-02, Accuracy: 0.482, Test Loss: 6.2240e-02, Test Accuracy: 0.455 - L2 Norm of Weight Movement From Initialization: [13.617822, 1.7301579, 4.289348, 2.2236338]'"
            ]
          },
          "metadata": {
            "tags": []
          }
        },
        {
          "output_type": "stream",
          "text": [
            "\n",
            "max training accuracy 0.48194000124931335\n",
            "min training loss 0.057941220700740814\n",
            "max validation accuracy 0.4699000120162964\n",
            "min validation loss 0.05979766324162483\n",
            "\n",
            "l2-normed weight changes from initial values after last epoch:\n",
            "[13.617822, 1.7301579, 4.289348, 2.2236338]\n",
            "================================================================================\n",
            "opt = sgd, lr = 0.100000, alpha = 4.000000\n",
            "================================================================================\n"
          ],
          "name": "stdout"
        },
        {
          "output_type": "display_data",
          "data": {
            "application/vnd.google.colaboratory.intrinsic+json": {
              "type": "string"
            },
            "text/plain": [
              "'Epoch: 0009, Total Run Time: 00:01:27 - Loss: 9.2519e-02, Accuracy: 0.474, Test Loss: 9.4012e-02, Test Accuracy: 0.475 - L2 Norm of Weight Movement From Initialization: [15.782785, 2.1027782, 3.9755561, 2.782597]'"
            ]
          },
          "metadata": {
            "tags": []
          }
        },
        {
          "output_type": "stream",
          "text": [
            "\n",
            "max training accuracy 0.47360000014305115\n",
            "min training loss 0.09251885861158371\n",
            "max validation accuracy 0.4749999940395355\n",
            "min validation loss 0.09401188045740128\n",
            "\n",
            "l2-normed weight changes from initial values after last epoch:\n",
            "[15.782785, 2.1027782, 3.9755561, 2.782597]\n",
            "================================================================================\n",
            "opt = sgd, lr = 0.100000, alpha = 3.000000\n",
            "================================================================================\n"
          ],
          "name": "stdout"
        },
        {
          "output_type": "display_data",
          "data": {
            "application/vnd.google.colaboratory.intrinsic+json": {
              "type": "string"
            },
            "text/plain": [
              "'Epoch: 0009, Total Run Time: 00:01:24 - Loss: 1.7736e-01, Accuracy: 0.430, Test Loss: 1.7944e-01, Test Accuracy: 0.426 - L2 Norm of Weight Movement From Initialization: [17.77824, 3.0437975, 3.628206, 3.04608]'"
            ]
          },
          "metadata": {
            "tags": []
          }
        },
        {
          "output_type": "stream",
          "text": [
            "\n",
            "max training accuracy 0.43022000789642334\n",
            "min training loss 0.17735616862773895\n",
            "max validation accuracy 0.42890000343322754\n",
            "min validation loss 0.17943543195724487\n",
            "\n",
            "l2-normed weight changes from initial values after last epoch:\n",
            "[17.77824, 3.0437975, 3.628206, 3.04608]\n",
            "================================================================================\n",
            "opt = sgd, lr = 0.100000, alpha = 2.000000\n",
            "================================================================================\n"
          ],
          "name": "stdout"
        },
        {
          "output_type": "display_data",
          "data": {
            "application/vnd.google.colaboratory.intrinsic+json": {
              "type": "string"
            },
            "text/plain": [
              "'Epoch: 0009, Total Run Time: 00:01:24 - Loss: 5.0679e-01, Accuracy: 0.246, Test Loss: 5.2748e-01, Test Accuracy: 0.213 - L2 Norm of Weight Movement From Initialization: [15.946052, 3.8762436, 4.025885, 1.0893966]'"
            ]
          },
          "metadata": {
            "tags": []
          }
        },
        {
          "output_type": "stream",
          "text": [
            "\n",
            "max training accuracy 0.25036001205444336\n",
            "min training loss 0.5045549273490906\n",
            "max validation accuracy 0.24789999425411224\n",
            "min validation loss 0.4915575087070465\n",
            "\n",
            "l2-normed weight changes from initial values after last epoch:\n",
            "[15.946052, 3.8762436, 4.025885, 1.0893966]\n",
            "================================================================================\n",
            "opt = sgd, lr = 0.100000, alpha = 1.000000\n",
            "================================================================================\n"
          ],
          "name": "stdout"
        },
        {
          "output_type": "display_data",
          "data": {
            "application/vnd.google.colaboratory.intrinsic+json": {
              "type": "string"
            },
            "text/plain": [
              "'Epoch: 0009, Total Run Time: 00:01:25 - Loss: 1.4506e+01, Accuracy: 0.100, Test Loss: 1.4506e+01, Test Accuracy: 0.100 - L2 Norm of Weight Movement From Initialization: [18.89649, 0.73113817, 29.987486, 1.0240723]'"
            ]
          },
          "metadata": {
            "tags": []
          }
        },
        {
          "output_type": "stream",
          "text": [
            "\n",
            "max training accuracy 0.10000000149011612\n",
            "min training loss 14.486127853393555\n",
            "max validation accuracy 0.10000000149011612\n",
            "min validation loss 14.506270408630371\n",
            "\n",
            "l2-normed weight changes from initial values after last epoch:\n",
            "[18.89649, 0.73113817, 29.987486, 1.0240723]\n",
            "================================================================================\n",
            "opt = sgd, lr = 0.100000, alpha = 0.800000\n",
            "================================================================================\n"
          ],
          "name": "stdout"
        },
        {
          "output_type": "display_data",
          "data": {
            "application/vnd.google.colaboratory.intrinsic+json": {
              "type": "string"
            },
            "text/plain": [
              "'Epoch: 0009, Total Run Time: 00:01:26 - Loss: 2.2352e+01, Accuracy: 0.100, Test Loss: 2.2352e+01, Test Accuracy: 0.100 - L2 Norm of Weight Movement From Initialization: [24.830273, 0.9725812, 38.809475, 1.0708419]'"
            ]
          },
          "metadata": {
            "tags": []
          }
        },
        {
          "output_type": "stream",
          "text": [
            "\n",
            "max training accuracy 0.10000000149011612\n",
            "min training loss 22.331640243530273\n",
            "max validation accuracy 0.10000000149011612\n",
            "min validation loss 22.352264404296875\n",
            "\n",
            "l2-normed weight changes from initial values after last epoch:\n",
            "[24.830273, 0.9725812, 38.809475, 1.0708419]\n",
            "================================================================================\n",
            "opt = sgd, lr = 0.100000, alpha = 0.600000\n",
            "================================================================================\n"
          ],
          "name": "stdout"
        },
        {
          "output_type": "display_data",
          "data": {
            "application/vnd.google.colaboratory.intrinsic+json": {
              "type": "string"
            },
            "text/plain": [
              "'Epoch: 0009, Total Run Time: 00:01:25 - Loss: 3.9018e+01, Accuracy: 0.100, Test Loss: 3.9018e+01, Test Accuracy: 0.100 - L2 Norm of Weight Movement From Initialization: [32.449745, 1.2392254, 42.482456, 1.2580422]'"
            ]
          },
          "metadata": {
            "tags": []
          }
        },
        {
          "output_type": "stream",
          "text": [
            "\n",
            "max training accuracy 0.10000000149011612\n",
            "min training loss 38.99216079711914\n",
            "max validation accuracy 0.10000000149011612\n",
            "min validation loss 39.01816940307617\n",
            "\n",
            "l2-normed weight changes from initial values after last epoch:\n",
            "[32.449745, 1.2392254, 42.482456, 1.2580422]\n",
            "================================================================================\n",
            "opt = sgd, lr = 0.100000, alpha = 0.400000\n",
            "================================================================================\n"
          ],
          "name": "stdout"
        },
        {
          "output_type": "display_data",
          "data": {
            "application/vnd.google.colaboratory.intrinsic+json": {
              "type": "string"
            },
            "text/plain": [
              "'Epoch: 0009, Total Run Time: 00:01:25 - Loss: 8.5509e+01, Accuracy: 0.100, Test Loss: 8.5510e+01, Test Accuracy: 0.100 - L2 Norm of Weight Movement From Initialization: [45.224174, 1.5869079, 12.899495, 1.6774335]'"
            ]
          },
          "metadata": {
            "tags": []
          }
        },
        {
          "output_type": "stream",
          "text": [
            "\n",
            "max training accuracy 0.10000000149011612\n",
            "min training loss 85.47538757324219\n",
            "max validation accuracy 0.10000000149011612\n",
            "min validation loss 85.51007080078125\n",
            "\n",
            "l2-normed weight changes from initial values after last epoch:\n",
            "[45.224174, 1.5869079, 12.899495, 1.6774335]\n",
            "================================================================================\n",
            "opt = sgd, lr = 0.100000, alpha = 0.200000\n",
            "================================================================================\n"
          ],
          "name": "stdout"
        },
        {
          "output_type": "display_data",
          "data": {
            "application/vnd.google.colaboratory.intrinsic+json": {
              "type": "string"
            },
            "text/plain": [
              "'Epoch: 0009, Total Run Time: 00:01:26 - Loss: 3.2644e+02, Accuracy: 0.100, Test Loss: 3.2644e+02, Test Accuracy: 0.100 - L2 Norm of Weight Movement From Initialization: [219.25743, 9.112642, 2785.4956, 9.624435]'"
            ]
          },
          "metadata": {
            "tags": []
          }
        },
        {
          "output_type": "stream",
          "text": [
            "\n",
            "max training accuracy 0.10000000149011612\n",
            "min training loss 326.2712707519531\n",
            "max validation accuracy 0.10000000149011612\n",
            "min validation loss 326.44476318359375\n",
            "\n",
            "l2-normed weight changes from initial values after last epoch:\n",
            "[219.25743, 9.112642, 2785.4956, 9.624435]\n",
            "================================================================================\n",
            "opt = sgd, lr = 0.100000, alpha = 0.100000\n",
            "================================================================================\n"
          ],
          "name": "stdout"
        },
        {
          "output_type": "display_data",
          "data": {
            "application/vnd.google.colaboratory.intrinsic+json": {
              "type": "string"
            },
            "text/plain": [
              "'Epoch: 0009, Total Run Time: 00:01:27 - Loss: 1.2434e+03, Accuracy: 0.100, Test Loss: 1.2434e+03, Test Accuracy: 0.100 - L2 Norm of Weight Movement From Initialization: [527.316, 19.020807, 149.0115, 21.669239]'"
            ]
          },
          "metadata": {
            "tags": []
          }
        },
        {
          "output_type": "stream",
          "text": [
            "\n",
            "max training accuracy 0.10000000149011612\n",
            "min training loss 1242.83203125\n",
            "max validation accuracy 0.10000000149011612\n",
            "min validation loss 1243.39697265625\n",
            "\n",
            "l2-normed weight changes from initial values after last epoch:\n",
            "[527.316, 19.020807, 149.0115, 21.669239]\n",
            "================================================================================\n",
            "opt = sgd, lr = 0.100000, alpha = 0.070000\n",
            "================================================================================\n"
          ],
          "name": "stdout"
        },
        {
          "output_type": "display_data",
          "data": {
            "application/vnd.google.colaboratory.intrinsic+json": {
              "type": "string"
            },
            "text/plain": [
              "'Epoch: 0009, Total Run Time: 00:01:25 - Loss: 2.4720e+03, Accuracy: 0.100, Test Loss: 2.4720e+03, Test Accuracy: 0.100 - L2 Norm of Weight Movement From Initialization: [977.0861, 32.618942, 269.48843, 31.131561]'"
            ]
          },
          "metadata": {
            "tags": []
          }
        },
        {
          "output_type": "stream",
          "text": [
            "\n",
            "max training accuracy 0.10000000149011612\n",
            "min training loss 2470.902587890625\n",
            "max validation accuracy 0.10000000149011612\n",
            "min validation loss 2472.03662109375\n",
            "\n",
            "l2-normed weight changes from initial values after last epoch:\n",
            "[977.0861, 32.618942, 269.48843, 31.131561]\n",
            "================================================================================\n",
            "opt = sgd, lr = 0.100000, alpha = 0.040000\n",
            "================================================================================\n"
          ],
          "name": "stdout"
        },
        {
          "output_type": "display_data",
          "data": {
            "application/vnd.google.colaboratory.intrinsic+json": {
              "type": "string"
            },
            "text/plain": [
              "'Epoch: 0009, Total Run Time: 00:01:26 - Loss: 7.2558e+03, Accuracy: 0.100, Test Loss: 7.2558e+03, Test Accuracy: 0.100 - L2 Norm of Weight Movement From Initialization: [3907.8943, 116.50701, 1005.58777, 127.47133]'"
            ]
          },
          "metadata": {
            "tags": []
          }
        },
        {
          "output_type": "stream",
          "text": [
            "\n",
            "max training accuracy 0.10000000149011612\n",
            "min training loss 7252.68994140625\n",
            "max validation accuracy 0.10000000149011612\n",
            "min validation loss 7255.82470703125\n",
            "\n",
            "l2-normed weight changes from initial values after last epoch:\n",
            "[3907.8943, 116.50701, 1005.58777, 127.47133]\n",
            "================================================================================\n",
            "opt = sgd, lr = 0.100000, alpha = 0.010000\n",
            "================================================================================\n"
          ],
          "name": "stdout"
        },
        {
          "output_type": "display_data",
          "data": {
            "application/vnd.google.colaboratory.intrinsic+json": {
              "type": "string"
            },
            "text/plain": [
              "'Epoch: 0009, Total Run Time: 00:01:27 - Loss: 1.0362e+05, Accuracy: 0.100, Test Loss: 1.0362e+05, Test Accuracy: 0.100 - L2 Norm of Weight Movement From Initialization: [88266.64, 2630.1274, 26636.09, 2632.7737]'"
            ]
          },
          "metadata": {
            "tags": []
          }
        },
        {
          "output_type": "stream",
          "text": [
            "\n",
            "max training accuracy 0.10000000149011612\n",
            "min training loss 103576.3203125\n",
            "max validation accuracy 0.10000000149011612\n",
            "min validation loss 103617.046875\n",
            "\n",
            "l2-normed weight changes from initial values after last epoch:\n",
            "[88266.64, 2630.1274, 26636.09, 2632.7737]\n",
            "================================================================================\n",
            "opt = sgd, lr = 0.100000, alpha = 0.001000\n",
            "================================================================================\n"
          ],
          "name": "stdout"
        },
        {
          "output_type": "display_data",
          "data": {
            "application/vnd.google.colaboratory.intrinsic+json": {
              "type": "string"
            },
            "text/plain": [
              "'Epoch: 0009, Total Run Time: 00:01:23 - Loss: 8.2902e+06, Accuracy: 0.100, Test Loss: 8.2902e+06, Test Accuracy: 0.100 - L2 Norm of Weight Movement From Initialization: [5339789.0, 173438.56, 1516788.6, 174556.36]'"
            ]
          },
          "metadata": {
            "tags": []
          }
        },
        {
          "output_type": "stream",
          "text": [
            "\n",
            "max training accuracy 0.10000000149011612\n",
            "min training loss 8286585.5\n",
            "max validation accuracy 0.10000000149011612\n",
            "min validation loss 8290205.0\n",
            "\n",
            "l2-normed weight changes from initial values after last epoch:\n",
            "[5339789.0, 173438.56, 1516788.6, 174556.36]\n",
            "================================================================================\n",
            "opt = sgd, lr = 0.010000, alpha = 20000.000000\n",
            "================================================================================\n"
          ],
          "name": "stdout"
        },
        {
          "output_type": "display_data",
          "data": {
            "application/vnd.google.colaboratory.intrinsic+json": {
              "type": "string"
            },
            "text/plain": [
              "'Epoch: 0009, Total Run Time: 00:01:24 - Loss: 5.7565e-09, Accuracy: 0.094, Test Loss: 5.7564e-09, Test Accuracy: 0.097 - L2 Norm of Weight Movement From Initialization: [0.0, 0.0, 0.0, 0.0]'"
            ]
          },
          "metadata": {
            "tags": []
          }
        },
        {
          "output_type": "stream",
          "text": [
            "\n",
            "max training accuracy 0.094200000166893\n",
            "min training loss 5.756487286845413e-09\n",
            "max validation accuracy 0.09690000116825104\n",
            "min validation loss 5.7564477629057365e-09\n",
            "\n",
            "l2-normed weight changes from initial values after last epoch:\n",
            "[0.0, 0.0, 0.0, 0.0]\n",
            "================================================================================\n",
            "opt = sgd, lr = 0.010000, alpha = 1000.000000\n",
            "================================================================================\n"
          ],
          "name": "stdout"
        },
        {
          "output_type": "display_data",
          "data": {
            "application/vnd.google.colaboratory.intrinsic+json": {
              "type": "string"
            },
            "text/plain": [
              "'Epoch: 0009, Total Run Time: 00:01:26 - Loss: 2.3026e-06, Accuracy: 0.097, Test Loss: 2.3026e-06, Test Accuracy: 0.096 - L2 Norm of Weight Movement From Initialization: [0.0, 0.0, 0.0, 0.0]'"
            ]
          },
          "metadata": {
            "tags": []
          }
        },
        {
          "output_type": "stream",
          "text": [
            "\n",
            "max training accuracy 0.09706000238656998\n",
            "min training loss 2.302632083228673e-06\n",
            "max validation accuracy 0.09629999846220016\n",
            "min validation loss 2.3025800146569964e-06\n",
            "\n",
            "l2-normed weight changes from initial values after last epoch:\n",
            "[0.0, 0.0, 0.0, 0.0]\n",
            "================================================================================\n",
            "opt = sgd, lr = 0.010000, alpha = 100.000000\n",
            "================================================================================\n"
          ],
          "name": "stdout"
        },
        {
          "output_type": "display_data",
          "data": {
            "application/vnd.google.colaboratory.intrinsic+json": {
              "type": "string"
            },
            "text/plain": [
              "'Epoch: 0009, Total Run Time: 00:01:25 - Loss: 2.3026e-04, Accuracy: 0.090, Test Loss: 2.3026e-04, Test Accuracy: 0.090 - L2 Norm of Weight Movement From Initialization: [6.645706e-06, 6.8403097e-07, 2.976654e-06, 6.4590927e-07]'"
            ]
          },
          "metadata": {
            "tags": []
          }
        },
        {
          "output_type": "stream",
          "text": [
            "\n",
            "max training accuracy 0.0899600014090538\n",
            "min training loss 0.00023025507107377052\n",
            "max validation accuracy 0.09049999713897705\n",
            "min validation loss 0.0002302593638887629\n",
            "\n",
            "l2-normed weight changes from initial values after last epoch:\n",
            "[6.645706e-06, 6.8403097e-07, 2.976654e-06, 6.4590927e-07]\n",
            "================================================================================\n",
            "opt = sgd, lr = 0.010000, alpha = 80.000000\n",
            "================================================================================\n"
          ],
          "name": "stdout"
        },
        {
          "output_type": "display_data",
          "data": {
            "application/vnd.google.colaboratory.intrinsic+json": {
              "type": "string"
            },
            "text/plain": [
              "'Epoch: 0009, Total Run Time: 00:01:25 - Loss: 3.5966e-04, Accuracy: 0.101, Test Loss: 3.5967e-04, Test Accuracy: 0.098 - L2 Norm of Weight Movement From Initialization: [0.011293031, 0.00027869613, 0.0031709375, 0.00029919803]'"
            ]
          },
          "metadata": {
            "tags": []
          }
        },
        {
          "output_type": "stream",
          "text": [
            "\n",
            "max training accuracy 0.1020599976181984\n",
            "min training loss 0.000359655125066638\n",
            "max validation accuracy 0.10040000081062317\n",
            "min validation loss 0.00035966504947282374\n",
            "\n",
            "l2-normed weight changes from initial values after last epoch:\n",
            "[0.011293031, 0.00027869613, 0.0031709375, 0.00029919803]\n",
            "================================================================================\n",
            "opt = sgd, lr = 0.010000, alpha = 60.000000\n",
            "================================================================================\n"
          ],
          "name": "stdout"
        },
        {
          "output_type": "display_data",
          "data": {
            "application/vnd.google.colaboratory.intrinsic+json": {
              "type": "string"
            },
            "text/plain": [
              "'Epoch: 0009, Total Run Time: 00:01:24 - Loss: 6.3835e-04, Accuracy: 0.080, Test Loss: 6.3807e-04, Test Accuracy: 0.078 - L2 Norm of Weight Movement From Initialization: [0.04280802, 0.0011335298, 0.01256985, 0.0011899628]'"
            ]
          },
          "metadata": {
            "tags": []
          }
        },
        {
          "output_type": "stream",
          "text": [
            "\n",
            "max training accuracy 0.09205999970436096\n",
            "min training loss 0.0006383509607985616\n",
            "max validation accuracy 0.08399999886751175\n",
            "min validation loss 0.0006380743579939008\n",
            "\n",
            "l2-normed weight changes from initial values after last epoch:\n",
            "[0.04280802, 0.0011335298, 0.01256985, 0.0011899628]\n",
            "================================================================================\n",
            "opt = sgd, lr = 0.010000, alpha = 40.000000\n",
            "================================================================================\n"
          ],
          "name": "stdout"
        },
        {
          "output_type": "display_data",
          "data": {
            "application/vnd.google.colaboratory.intrinsic+json": {
              "type": "string"
            },
            "text/plain": [
              "'Epoch: 0009, Total Run Time: 00:01:26 - Loss: 1.4355e-03, Accuracy: 0.099, Test Loss: 1.4351e-03, Test Accuracy: 0.097 - L2 Norm of Weight Movement From Initialization: [0.07014451, 0.001679705, 0.015064642, 0.0012438617]'"
            ]
          },
          "metadata": {
            "tags": []
          }
        },
        {
          "output_type": "stream",
          "text": [
            "\n",
            "max training accuracy 0.10109999775886536\n",
            "min training loss 0.0014354625018313527\n",
            "max validation accuracy 0.10040000081062317\n",
            "min validation loss 0.0014351275749504566\n",
            "\n",
            "l2-normed weight changes from initial values after last epoch:\n",
            "[0.07014451, 0.001679705, 0.015064642, 0.0012438617]\n",
            "================================================================================\n",
            "opt = sgd, lr = 0.010000, alpha = 30.000000\n",
            "================================================================================\n"
          ],
          "name": "stdout"
        },
        {
          "output_type": "display_data",
          "data": {
            "application/vnd.google.colaboratory.intrinsic+json": {
              "type": "string"
            },
            "text/plain": [
              "'Epoch: 0009, Total Run Time: 00:01:25 - Loss: 2.5357e-03, Accuracy: 0.104, Test Loss: 2.5315e-03, Test Accuracy: 0.103 - L2 Norm of Weight Movement From Initialization: [0.17618962, 0.0042397925, 0.044878293, 0.0032139388]'"
            ]
          },
          "metadata": {
            "tags": []
          }
        },
        {
          "output_type": "stream",
          "text": [
            "\n",
            "max training accuracy 0.10434000194072723\n",
            "min training loss 0.002535689389333129\n",
            "max validation accuracy 0.10270000249147415\n",
            "min validation loss 0.002531488426029682\n",
            "\n",
            "l2-normed weight changes from initial values after last epoch:\n",
            "[0.17618962, 0.0042397925, 0.044878293, 0.0032139388]\n",
            "================================================================================\n",
            "opt = sgd, lr = 0.010000, alpha = 20.000000\n",
            "================================================================================\n"
          ],
          "name": "stdout"
        },
        {
          "output_type": "display_data",
          "data": {
            "application/vnd.google.colaboratory.intrinsic+json": {
              "type": "string"
            },
            "text/plain": [
              "'Epoch: 0009, Total Run Time: 00:01:27 - Loss: 5.3528e-03, Accuracy: 0.055, Test Loss: 5.3441e-03, Test Accuracy: 0.055 - L2 Norm of Weight Movement From Initialization: [0.60182524, 0.033921067, 0.20102407, 0.036085278]'"
            ]
          },
          "metadata": {
            "tags": []
          }
        },
        {
          "output_type": "stream",
          "text": [
            "\n",
            "max training accuracy 0.09892000257968903\n",
            "min training loss 0.005352758802473545\n",
            "max validation accuracy 0.09839999675750732\n",
            "min validation loss 0.005344097502529621\n",
            "\n",
            "l2-normed weight changes from initial values after last epoch:\n",
            "[0.60182524, 0.033921067, 0.20102407, 0.036085278]\n",
            "================================================================================\n",
            "opt = sgd, lr = 0.010000, alpha = 10.000000\n",
            "================================================================================\n"
          ],
          "name": "stdout"
        },
        {
          "output_type": "display_data",
          "data": {
            "application/vnd.google.colaboratory.intrinsic+json": {
              "type": "string"
            },
            "text/plain": [
              "'Epoch: 0009, Total Run Time: 00:01:27 - Loss: 1.8387e-02, Accuracy: 0.247, Test Loss: 1.8371e-02, Test Accuracy: 0.247 - L2 Norm of Weight Movement From Initialization: [1.7997682, 0.12412166, 0.7494549, 0.117332935]'"
            ]
          },
          "metadata": {
            "tags": []
          }
        },
        {
          "output_type": "stream",
          "text": [
            "\n",
            "max training accuracy 0.24743999540805817\n",
            "min training loss 0.018386948853731155\n",
            "max validation accuracy 0.24709999561309814\n",
            "min validation loss 0.01837128773331642\n",
            "\n",
            "l2-normed weight changes from initial values after last epoch:\n",
            "[1.7997682, 0.12412166, 0.7494549, 0.117332935]\n",
            "================================================================================\n",
            "opt = sgd, lr = 0.010000, alpha = 9.000000\n",
            "================================================================================\n"
          ],
          "name": "stdout"
        },
        {
          "output_type": "display_data",
          "data": {
            "application/vnd.google.colaboratory.intrinsic+json": {
              "type": "string"
            },
            "text/plain": [
              "'Epoch: 0009, Total Run Time: 00:01:26 - Loss: 2.2524e-02, Accuracy: 0.261, Test Loss: 2.2536e-02, Test Accuracy: 0.255 - L2 Norm of Weight Movement From Initialization: [1.9343381, 0.14746466, 0.84811574, 0.13418758]'"
            ]
          },
          "metadata": {
            "tags": []
          }
        },
        {
          "output_type": "stream",
          "text": [
            "\n",
            "max training accuracy 0.26058000326156616\n",
            "min training loss 0.022523554041981697\n",
            "max validation accuracy 0.2572000026702881\n",
            "min validation loss 0.02253580093383789\n",
            "\n",
            "l2-normed weight changes from initial values after last epoch:\n",
            "[1.9343381, 0.14746466, 0.84811574, 0.13418758]\n",
            "================================================================================\n",
            "opt = sgd, lr = 0.010000, alpha = 8.000000\n",
            "================================================================================\n"
          ],
          "name": "stdout"
        },
        {
          "output_type": "display_data",
          "data": {
            "application/vnd.google.colaboratory.intrinsic+json": {
              "type": "string"
            },
            "text/plain": [
              "'Epoch: 0009, Total Run Time: 00:01:26 - Loss: 2.7953e-02, Accuracy: 0.281, Test Loss: 2.7886e-02, Test Accuracy: 0.281 - L2 Norm of Weight Movement From Initialization: [2.194505, 0.17997696, 1.0412112, 0.14957395]'"
            ]
          },
          "metadata": {
            "tags": []
          }
        },
        {
          "output_type": "stream",
          "text": [
            "\n",
            "max training accuracy 0.2807599902153015\n",
            "min training loss 0.027952829375863075\n",
            "max validation accuracy 0.29019999504089355\n",
            "min validation loss 0.02788560837507248\n",
            "\n",
            "l2-normed weight changes from initial values after last epoch:\n",
            "[2.194505, 0.17997696, 1.0412112, 0.14957395]\n",
            "================================================================================\n",
            "opt = sgd, lr = 0.010000, alpha = 7.000000\n",
            "================================================================================\n"
          ],
          "name": "stdout"
        },
        {
          "output_type": "display_data",
          "data": {
            "application/vnd.google.colaboratory.intrinsic+json": {
              "type": "string"
            },
            "text/plain": [
              "'Epoch: 0009, Total Run Time: 00:01:26 - Loss: 3.5289e-02, Accuracy: 0.337, Test Loss: 3.5345e-02, Test Accuracy: 0.330 - L2 Norm of Weight Movement From Initialization: [2.62865, 0.21106501, 1.2445316, 0.18439136]'"
            ]
          },
          "metadata": {
            "tags": []
          }
        },
        {
          "output_type": "stream",
          "text": [
            "\n",
            "max training accuracy 0.33748000860214233\n",
            "min training loss 0.03528907150030136\n",
            "max validation accuracy 0.3346000015735626\n",
            "min validation loss 0.035345204174518585\n",
            "\n",
            "l2-normed weight changes from initial values after last epoch:\n",
            "[2.62865, 0.21106501, 1.2445316, 0.18439136]\n",
            "================================================================================\n",
            "opt = sgd, lr = 0.010000, alpha = 6.000000\n",
            "================================================================================\n"
          ],
          "name": "stdout"
        },
        {
          "output_type": "display_data",
          "data": {
            "application/vnd.google.colaboratory.intrinsic+json": {
              "type": "string"
            },
            "text/plain": [
              "'Epoch: 0009, Total Run Time: 00:01:29 - Loss: 4.6312e-02, Accuracy: 0.406, Test Loss: 4.6208e-02, Test Accuracy: 0.412 - L2 Norm of Weight Movement From Initialization: [3.1796649, 0.30980942, 1.6018678, 0.2605905]'"
            ]
          },
          "metadata": {
            "tags": []
          }
        },
        {
          "output_type": "stream",
          "text": [
            "\n",
            "max training accuracy 0.40615999698638916\n",
            "min training loss 0.04631239175796509\n",
            "max validation accuracy 0.41200000047683716\n",
            "min validation loss 0.04620841518044472\n",
            "\n",
            "l2-normed weight changes from initial values after last epoch:\n",
            "[3.1796649, 0.30980942, 1.6018678, 0.2605905]\n",
            "================================================================================\n",
            "opt = sgd, lr = 0.010000, alpha = 5.000000\n",
            "================================================================================\n"
          ],
          "name": "stdout"
        },
        {
          "output_type": "display_data",
          "data": {
            "application/vnd.google.colaboratory.intrinsic+json": {
              "type": "string"
            },
            "text/plain": [
              "'Epoch: 0009, Total Run Time: 00:01:26 - Loss: 6.3891e-02, Accuracy: 0.436, Test Loss: 6.4382e-02, Test Accuracy: 0.444 - L2 Norm of Weight Movement From Initialization: [3.9001348, 0.4190906, 2.0434022, 0.36807054]'"
            ]
          },
          "metadata": {
            "tags": []
          }
        },
        {
          "output_type": "stream",
          "text": [
            "\n",
            "max training accuracy 0.4357599914073944\n",
            "min training loss 0.0638914629817009\n",
            "max validation accuracy 0.44440001249313354\n",
            "min validation loss 0.06438204646110535\n",
            "\n",
            "l2-normed weight changes from initial values after last epoch:\n",
            "[3.9001348, 0.4190906, 2.0434022, 0.36807054]\n",
            "================================================================================\n",
            "opt = sgd, lr = 0.010000, alpha = 4.000000\n",
            "================================================================================\n"
          ],
          "name": "stdout"
        },
        {
          "output_type": "display_data",
          "data": {
            "application/vnd.google.colaboratory.intrinsic+json": {
              "type": "string"
            },
            "text/plain": [
              "'Epoch: 0009, Total Run Time: 00:01:26 - Loss: 9.4673e-02, Accuracy: 0.467, Test Loss: 9.5552e-02, Test Accuracy: 0.459 - L2 Norm of Weight Movement From Initialization: [4.9944043, 0.64595926, 2.6394873, 0.5594582]'"
            ]
          },
          "metadata": {
            "tags": []
          }
        },
        {
          "output_type": "stream",
          "text": [
            "\n",
            "max training accuracy 0.46713998913764954\n",
            "min training loss 0.09467285871505737\n",
            "max validation accuracy 0.4609000086784363\n",
            "min validation loss 0.09555154293775558\n",
            "\n",
            "l2-normed weight changes from initial values after last epoch:\n",
            "[4.9944043, 0.64595926, 2.6394873, 0.5594582]\n",
            "================================================================================\n",
            "opt = sgd, lr = 0.010000, alpha = 3.000000\n",
            "================================================================================\n"
          ],
          "name": "stdout"
        },
        {
          "output_type": "display_data",
          "data": {
            "application/vnd.google.colaboratory.intrinsic+json": {
              "type": "string"
            },
            "text/plain": [
              "'Epoch: 0009, Total Run Time: 00:01:28 - Loss: 1.5754e-01, Accuracy: 0.501, Test Loss: 1.6686e-01, Test Accuracy: 0.461 - L2 Norm of Weight Movement From Initialization: [7.0043864, 1.0327001, 3.366817, 0.97669125]'"
            ]
          },
          "metadata": {
            "tags": []
          }
        },
        {
          "output_type": "stream",
          "text": [
            "\n",
            "max training accuracy 0.5008599758148193\n",
            "min training loss 0.15754099190235138\n",
            "max validation accuracy 0.4722000062465668\n",
            "min validation loss 0.16685578227043152\n",
            "\n",
            "l2-normed weight changes from initial values after last epoch:\n",
            "[7.0043864, 1.0327001, 3.366817, 0.97669125]\n",
            "================================================================================\n",
            "opt = sgd, lr = 0.010000, alpha = 2.000000\n",
            "================================================================================\n"
          ],
          "name": "stdout"
        },
        {
          "output_type": "display_data",
          "data": {
            "application/vnd.google.colaboratory.intrinsic+json": {
              "type": "string"
            },
            "text/plain": [
              "'Epoch: 0009, Total Run Time: 00:01:26 - Loss: 3.4133e-01, Accuracy: 0.517, Test Loss: 3.6343e-01, Test Accuracy: 0.486 - L2 Norm of Weight Movement From Initialization: [10.9976225, 1.5037423, 3.850562, 1.812466]'"
            ]
          },
          "metadata": {
            "tags": []
          }
        },
        {
          "output_type": "stream",
          "text": [
            "\n",
            "max training accuracy 0.5168399810791016\n",
            "min training loss 0.3413275480270386\n",
            "max validation accuracy 0.4862000048160553\n",
            "min validation loss 0.3634343147277832\n",
            "\n",
            "l2-normed weight changes from initial values after last epoch:\n",
            "[10.9976225, 1.5037423, 3.850562, 1.812466]\n",
            "================================================================================\n",
            "opt = sgd, lr = 0.010000, alpha = 1.000000\n",
            "================================================================================\n"
          ],
          "name": "stdout"
        },
        {
          "output_type": "display_data",
          "data": {
            "application/vnd.google.colaboratory.intrinsic+json": {
              "type": "string"
            },
            "text/plain": [
              "'Epoch: 0009, Total Run Time: 00:01:26 - Loss: 1.5817e+00, Accuracy: 0.437, Test Loss: 1.6413e+00, Test Accuracy: 0.408 - L2 Norm of Weight Movement From Initialization: [16.72436, 2.925099, 3.4992113, 2.8001301]'"
            ]
          },
          "metadata": {
            "tags": []
          }
        },
        {
          "output_type": "stream",
          "text": [
            "\n",
            "max training accuracy 0.4366599917411804\n",
            "min training loss 1.5817354917526245\n",
            "max validation accuracy 0.41929998993873596\n",
            "min validation loss 1.6282109022140503\n",
            "\n",
            "l2-normed weight changes from initial values after last epoch:\n",
            "[16.72436, 2.925099, 3.4992113, 2.8001301]\n",
            "================================================================================\n",
            "opt = sgd, lr = 0.010000, alpha = 0.800000\n",
            "================================================================================\n"
          ],
          "name": "stdout"
        },
        {
          "output_type": "display_data",
          "data": {
            "application/vnd.google.colaboratory.intrinsic+json": {
              "type": "string"
            },
            "text/plain": [
              "'Epoch: 0009, Total Run Time: 00:01:24 - Loss: 2.7514e+00, Accuracy: 0.363, Test Loss: 2.8311e+00, Test Accuracy: 0.374 - L2 Norm of Weight Movement From Initialization: [18.085585, 3.803259, 3.4157438, 2.8382688]'"
            ]
          },
          "metadata": {
            "tags": []
          }
        },
        {
          "output_type": "stream",
          "text": [
            "\n",
            "max training accuracy 0.36305999755859375\n",
            "min training loss 2.751420736312866\n",
            "max validation accuracy 0.37400001287460327\n",
            "min validation loss 2.7544384002685547\n",
            "\n",
            "l2-normed weight changes from initial values after last epoch:\n",
            "[18.085585, 3.803259, 3.4157438, 2.8382688]\n",
            "================================================================================\n",
            "opt = sgd, lr = 0.010000, alpha = 0.600000\n",
            "================================================================================\n"
          ],
          "name": "stdout"
        },
        {
          "output_type": "display_data",
          "data": {
            "application/vnd.google.colaboratory.intrinsic+json": {
              "type": "string"
            },
            "text/plain": [
              "'Epoch: 0009, Total Run Time: 00:01:24 - Loss: 6.2750e+00, Accuracy: 0.127, Test Loss: 6.1494e+00, Test Accuracy: 0.193 - L2 Norm of Weight Movement From Initialization: [14.199989, 2.356098, 4.7895064, 0.19142488]'"
            ]
          },
          "metadata": {
            "tags": []
          }
        },
        {
          "output_type": "stream",
          "text": [
            "\n",
            "max training accuracy 0.19144000113010406\n",
            "min training loss 5.954569339752197\n",
            "max validation accuracy 0.19329999387264252\n",
            "min validation loss 5.8498029708862305\n",
            "\n",
            "l2-normed weight changes from initial values after last epoch:\n",
            "[14.199989, 2.356098, 4.7895064, 0.19142488]\n",
            "================================================================================\n",
            "opt = sgd, lr = 0.010000, alpha = 0.400000\n",
            "================================================================================\n"
          ],
          "name": "stdout"
        },
        {
          "output_type": "display_data",
          "data": {
            "application/vnd.google.colaboratory.intrinsic+json": {
              "type": "string"
            },
            "text/plain": [
              "'Epoch: 0009, Total Run Time: 00:01:26 - Loss: 1.4401e+01, Accuracy: 0.103, Test Loss: 1.4398e+01, Test Accuracy: 0.100 - L2 Norm of Weight Movement From Initialization: [14.406209, 0.5362958, 8.862862, 0.21812494]'"
            ]
          },
          "metadata": {
            "tags": []
          }
        },
        {
          "output_type": "stream",
          "text": [
            "\n",
            "max training accuracy 0.10276000201702118\n",
            "min training loss 14.399994850158691\n",
            "max validation accuracy 0.10040000081062317\n",
            "min validation loss 14.397696495056152\n",
            "\n",
            "l2-normed weight changes from initial values after last epoch:\n",
            "[14.406209, 0.5362958, 8.862862, 0.21812494]\n",
            "================================================================================\n",
            "opt = sgd, lr = 0.010000, alpha = 0.200000\n",
            "================================================================================\n"
          ],
          "name": "stdout"
        },
        {
          "output_type": "display_data",
          "data": {
            "application/vnd.google.colaboratory.intrinsic+json": {
              "type": "string"
            },
            "text/plain": [
              "'Epoch: 0009, Total Run Time: 00:01:25 - Loss: 3.2644e+02, Accuracy: 0.100, Test Loss: 3.2644e+02, Test Accuracy: 0.100 - L2 Norm of Weight Movement From Initialization: [27.953476, 0.9378917, 36.425186, 1.1105372]'"
            ]
          },
          "metadata": {
            "tags": []
          }
        },
        {
          "output_type": "stream",
          "text": [
            "\n",
            "max training accuracy 0.10000000149011612\n",
            "min training loss 326.2479248046875\n",
            "max validation accuracy 0.10000000149011612\n",
            "min validation loss 326.44488525390625\n",
            "\n",
            "l2-normed weight changes from initial values after last epoch:\n",
            "[27.953476, 0.9378917, 36.425186, 1.1105372]\n",
            "================================================================================\n",
            "opt = sgd, lr = 0.010000, alpha = 0.100000\n",
            "================================================================================\n"
          ],
          "name": "stdout"
        },
        {
          "output_type": "display_data",
          "data": {
            "application/vnd.google.colaboratory.intrinsic+json": {
              "type": "string"
            },
            "text/plain": [
              "'Epoch: 0009, Total Run Time: 00:01:25 - Loss: 1.2434e+03, Accuracy: 0.100, Test Loss: 1.2434e+03, Test Accuracy: 0.100 - L2 Norm of Weight Movement From Initialization: [74.59898, 2.3453836, 206.24986, 2.7019885]'"
            ]
          },
          "metadata": {
            "tags": []
          }
        },
        {
          "output_type": "stream",
          "text": [
            "\n",
            "max training accuracy 0.10000000149011612\n",
            "min training loss 1242.781005859375\n",
            "max validation accuracy 0.10000000149011612\n",
            "min validation loss 1243.396484375\n",
            "\n",
            "l2-normed weight changes from initial values after last epoch:\n",
            "[74.59898, 2.3453836, 206.24986, 2.7019885]\n",
            "================================================================================\n",
            "opt = sgd, lr = 0.010000, alpha = 0.070000\n",
            "================================================================================\n"
          ],
          "name": "stdout"
        },
        {
          "output_type": "display_data",
          "data": {
            "application/vnd.google.colaboratory.intrinsic+json": {
              "type": "string"
            },
            "text/plain": [
              "'Epoch: 0009, Total Run Time: 00:01:29 - Loss: 2.4720e+03, Accuracy: 0.100, Test Loss: 2.4720e+03, Test Accuracy: 0.100 - L2 Norm of Weight Movement From Initialization: [117.37245, 3.9583983, 202.28632, 3.7011113]'"
            ]
          },
          "metadata": {
            "tags": []
          }
        },
        {
          "output_type": "stream",
          "text": [
            "\n",
            "max training accuracy 0.10010000318288803\n",
            "min training loss 2470.5810546875\n",
            "max validation accuracy 0.10000000149011612\n",
            "min validation loss 2472.03466796875\n",
            "\n",
            "l2-normed weight changes from initial values after last epoch:\n",
            "[117.37245, 3.9583983, 202.28632, 3.7011113]\n",
            "================================================================================\n",
            "opt = sgd, lr = 0.010000, alpha = 0.040000\n",
            "================================================================================\n"
          ],
          "name": "stdout"
        },
        {
          "output_type": "display_data",
          "data": {
            "application/vnd.google.colaboratory.intrinsic+json": {
              "type": "string"
            },
            "text/plain": [
              "'Epoch: 0009, Total Run Time: 00:01:28 - Loss: 7.2558e+03, Accuracy: 0.100, Test Loss: 7.2558e+03, Test Accuracy: 0.100 - L2 Norm of Weight Movement From Initialization: [487.18155, 17.862513, 143.8665, 18.163635]'"
            ]
          },
          "metadata": {
            "tags": []
          }
        },
        {
          "output_type": "stream",
          "text": [
            "\n",
            "max training accuracy 0.10000000149011612\n",
            "min training loss 7252.56201171875\n",
            "max validation accuracy 0.10000000149011612\n",
            "min validation loss 7255.8232421875\n",
            "\n",
            "l2-normed weight changes from initial values after last epoch:\n",
            "[487.18155, 17.862513, 143.8665, 18.163635]\n",
            "================================================================================\n",
            "opt = sgd, lr = 0.010000, alpha = 0.010000\n",
            "================================================================================\n"
          ],
          "name": "stdout"
        },
        {
          "output_type": "display_data",
          "data": {
            "application/vnd.google.colaboratory.intrinsic+json": {
              "type": "string"
            },
            "text/plain": [
              "'Epoch: 0009, Total Run Time: 00:01:26 - Loss: 1.0362e+05, Accuracy: 0.100, Test Loss: 1.0362e+05, Test Accuracy: 0.100 - L2 Norm of Weight Movement From Initialization: [10892.2, 345.46066, 3323.4277, 396.69052]'"
            ]
          },
          "metadata": {
            "tags": []
          }
        },
        {
          "output_type": "stream",
          "text": [
            "\n",
            "max training accuracy 0.10000000149011612\n",
            "min training loss 103578.9921875\n",
            "max validation accuracy 0.10000000149011612\n",
            "min validation loss 103617.0625\n",
            "\n",
            "l2-normed weight changes from initial values after last epoch:\n",
            "[10892.2, 345.46066, 3323.4277, 396.69052]\n",
            "================================================================================\n",
            "opt = sgd, lr = 0.010000, alpha = 0.001000\n",
            "================================================================================\n"
          ],
          "name": "stdout"
        },
        {
          "output_type": "display_data",
          "data": {
            "application/vnd.google.colaboratory.intrinsic+json": {
              "type": "string"
            },
            "text/plain": [
              "'Epoch: 0009, Total Run Time: 00:01:26 - Loss: 8.2902e+06, Accuracy: 0.100, Test Loss: 8.2902e+06, Test Accuracy: 0.100 - L2 Norm of Weight Movement From Initialization: [707663.06, 19453.342, 190744.69, 18600.143]'"
            ]
          },
          "metadata": {
            "tags": []
          }
        },
        {
          "output_type": "stream",
          "text": [
            "\n",
            "max training accuracy 0.10000000149011612\n",
            "min training loss 8287275.0\n",
            "max validation accuracy 0.10000000149011612\n",
            "min validation loss 8290205.5\n",
            "\n",
            "l2-normed weight changes from initial values after last epoch:\n",
            "[707663.06, 19453.342, 190744.69, 18600.143]\n",
            "================================================================================\n",
            "opt = sgd, lr = 0.001000, alpha = 20000.000000\n",
            "================================================================================\n"
          ],
          "name": "stdout"
        },
        {
          "output_type": "display_data",
          "data": {
            "application/vnd.google.colaboratory.intrinsic+json": {
              "type": "string"
            },
            "text/plain": [
              "'Epoch: 0009, Total Run Time: 00:01:25 - Loss: 5.7565e-09, Accuracy: 0.106, Test Loss: 5.7564e-09, Test Accuracy: 0.105 - L2 Norm of Weight Movement From Initialization: [0.0, 0.0, 0.0, 0.0]'"
            ]
          },
          "metadata": {
            "tags": []
          }
        },
        {
          "output_type": "stream",
          "text": [
            "\n",
            "max training accuracy 0.10582000017166138\n",
            "min training loss 5.756487286845413e-09\n",
            "max validation accuracy 0.1054999977350235\n",
            "min validation loss 5.7564477629057365e-09\n",
            "\n",
            "l2-normed weight changes from initial values after last epoch:\n",
            "[0.0, 0.0, 0.0, 0.0]\n",
            "================================================================================\n",
            "opt = sgd, lr = 0.001000, alpha = 1000.000000\n",
            "================================================================================\n"
          ],
          "name": "stdout"
        },
        {
          "output_type": "display_data",
          "data": {
            "application/vnd.google.colaboratory.intrinsic+json": {
              "type": "string"
            },
            "text/plain": [
              "'Epoch: 0009, Total Run Time: 00:01:25 - Loss: 2.3026e-06, Accuracy: 0.095, Test Loss: 2.3026e-06, Test Accuracy: 0.096 - L2 Norm of Weight Movement From Initialization: [0.0, 0.0, 0.0, 0.0]'"
            ]
          },
          "metadata": {
            "tags": []
          }
        },
        {
          "output_type": "stream",
          "text": [
            "\n",
            "max training accuracy 0.0952799990773201\n",
            "min training loss 2.302632083228673e-06\n",
            "max validation accuracy 0.09600000083446503\n",
            "min validation loss 2.3025800146569964e-06\n",
            "\n",
            "l2-normed weight changes from initial values after last epoch:\n",
            "[0.0, 0.0, 0.0, 0.0]\n",
            "================================================================================\n",
            "opt = sgd, lr = 0.001000, alpha = 100.000000\n",
            "================================================================================\n"
          ],
          "name": "stdout"
        },
        {
          "output_type": "display_data",
          "data": {
            "application/vnd.google.colaboratory.intrinsic+json": {
              "type": "string"
            },
            "text/plain": [
              "'Epoch: 0009, Total Run Time: 00:01:26 - Loss: 2.3020e-04, Accuracy: 0.112, Test Loss: 2.3020e-04, Test Accuracy: 0.112 - L2 Norm of Weight Movement From Initialization: [0.0004414353, 1.8225932e-05, 0.00014523198, 1.5440864e-05]'"
            ]
          },
          "metadata": {
            "tags": []
          }
        },
        {
          "output_type": "stream",
          "text": [
            "\n",
            "max training accuracy 0.11159999668598175\n",
            "min training loss 0.000230196223128587\n",
            "max validation accuracy 0.11240000277757645\n",
            "min validation loss 0.00023019561194814742\n",
            "\n",
            "l2-normed weight changes from initial values after last epoch:\n",
            "[0.0004414353, 1.8225932e-05, 0.00014523198, 1.5440864e-05]\n",
            "================================================================================\n",
            "opt = sgd, lr = 0.001000, alpha = 80.000000\n",
            "================================================================================\n"
          ],
          "name": "stdout"
        },
        {
          "output_type": "display_data",
          "data": {
            "application/vnd.google.colaboratory.intrinsic+json": {
              "type": "string"
            },
            "text/plain": [
              "'Epoch: 0009, Total Run Time: 00:01:25 - Loss: 3.5977e-04, Accuracy: 0.106, Test Loss: 3.5978e-04, Test Accuracy: 0.102 - L2 Norm of Weight Movement From Initialization: [4.638704e-07, 8.298799e-08, 1.6841194e-07, 8.808561e-08]'"
            ]
          },
          "metadata": {
            "tags": []
          }
        },
        {
          "output_type": "stream",
          "text": [
            "\n",
            "max training accuracy 0.10555999726057053\n",
            "min training loss 0.00035977488732896745\n",
            "max validation accuracy 0.1023000031709671\n",
            "min validation loss 0.00035977951483801007\n",
            "\n",
            "l2-normed weight changes from initial values after last epoch:\n",
            "[4.638704e-07, 8.298799e-08, 1.6841194e-07, 8.808561e-08]\n",
            "================================================================================\n",
            "opt = sgd, lr = 0.001000, alpha = 60.000000\n",
            "================================================================================\n"
          ],
          "name": "stdout"
        },
        {
          "output_type": "display_data",
          "data": {
            "application/vnd.google.colaboratory.intrinsic+json": {
              "type": "string"
            },
            "text/plain": [
              "'Epoch: 0009, Total Run Time: 00:01:24 - Loss: 6.3949e-04, Accuracy: 0.139, Test Loss: 6.3969e-04, Test Accuracy: 0.142 - L2 Norm of Weight Movement From Initialization: [0.0019424473, 5.986363e-05, 0.0007087543, 5.9432663e-05]'"
            ]
          },
          "metadata": {
            "tags": []
          }
        },
        {
          "output_type": "stream",
          "text": [
            "\n",
            "max training accuracy 0.13944000005722046\n",
            "min training loss 0.0006394927622750401\n",
            "max validation accuracy 0.14309999346733093\n",
            "min validation loss 0.0006396878161467612\n",
            "\n",
            "l2-normed weight changes from initial values after last epoch:\n",
            "[0.0019424473, 5.986363e-05, 0.0007087543, 5.9432663e-05]\n",
            "================================================================================\n",
            "opt = sgd, lr = 0.001000, alpha = 40.000000\n",
            "================================================================================\n"
          ],
          "name": "stdout"
        },
        {
          "output_type": "display_data",
          "data": {
            "application/vnd.google.colaboratory.intrinsic+json": {
              "type": "string"
            },
            "text/plain": [
              "'Epoch: 0009, Total Run Time: 00:01:23 - Loss: 1.4389e-03, Accuracy: 0.095, Test Loss: 1.4384e-03, Test Accuracy: 0.100 - L2 Norm of Weight Movement From Initialization: [0.009590569, 0.00022698878, 0.0024083976, 0.00020657327]'"
            ]
          },
          "metadata": {
            "tags": []
          }
        },
        {
          "output_type": "stream",
          "text": [
            "\n",
            "max training accuracy 0.09520000219345093\n",
            "min training loss 0.0014389035059139132\n",
            "max validation accuracy 0.09950000047683716\n",
            "min validation loss 0.0014384380774572492\n",
            "\n",
            "l2-normed weight changes from initial values after last epoch:\n",
            "[0.009590569, 0.00022698878, 0.0024083976, 0.00020657327]\n",
            "================================================================================\n",
            "opt = sgd, lr = 0.001000, alpha = 30.000000\n",
            "================================================================================\n"
          ],
          "name": "stdout"
        },
        {
          "output_type": "display_data",
          "data": {
            "application/vnd.google.colaboratory.intrinsic+json": {
              "type": "string"
            },
            "text/plain": [
              "'Epoch: 0009, Total Run Time: 00:01:28 - Loss: 2.5573e-03, Accuracy: 0.106, Test Loss: 2.5569e-03, Test Accuracy: 0.106 - L2 Norm of Weight Movement From Initialization: [0.012362701, 0.00034933985, 0.003690732, 0.0003970499]'"
            ]
          },
          "metadata": {
            "tags": []
          }
        },
        {
          "output_type": "stream",
          "text": [
            "\n",
            "max training accuracy 0.11060000211000443\n",
            "min training loss 0.002557338448241353\n",
            "max validation accuracy 0.11219999939203262\n",
            "min validation loss 0.0025568893179297447\n",
            "\n",
            "l2-normed weight changes from initial values after last epoch:\n",
            "[0.012362701, 0.00034933985, 0.003690732, 0.0003970499]\n",
            "================================================================================\n",
            "opt = sgd, lr = 0.001000, alpha = 20.000000\n",
            "================================================================================\n"
          ],
          "name": "stdout"
        },
        {
          "output_type": "display_data",
          "data": {
            "application/vnd.google.colaboratory.intrinsic+json": {
              "type": "string"
            },
            "text/plain": [
              "'Epoch: 0009, Total Run Time: 00:01:27 - Loss: 5.7328e-03, Accuracy: 0.102, Test Loss: 5.7299e-03, Test Accuracy: 0.102 - L2 Norm of Weight Movement From Initialization: [0.0666156, 0.0016989089, 0.017955618, 0.0013477497]'"
            ]
          },
          "metadata": {
            "tags": []
          }
        },
        {
          "output_type": "stream",
          "text": [
            "\n",
            "max training accuracy 0.10413999855518341\n",
            "min training loss 0.005732804071158171\n",
            "max validation accuracy 0.10270000249147415\n",
            "min validation loss 0.0057298592291772366\n",
            "\n",
            "l2-normed weight changes from initial values after last epoch:\n",
            "[0.0666156, 0.0016989089, 0.017955618, 0.0013477497]\n",
            "================================================================================\n",
            "opt = sgd, lr = 0.001000, alpha = 10.000000\n",
            "================================================================================\n"
          ],
          "name": "stdout"
        },
        {
          "output_type": "display_data",
          "data": {
            "application/vnd.google.colaboratory.intrinsic+json": {
              "type": "string"
            },
            "text/plain": [
              "'Epoch: 0009, Total Run Time: 00:01:29 - Loss: 2.1284e-02, Accuracy: 0.119, Test Loss: 2.1292e-02, Test Accuracy: 0.117 - L2 Norm of Weight Movement From Initialization: [0.46795195, 0.019259224, 0.14152645, 0.020883422]'"
            ]
          },
          "metadata": {
            "tags": []
          }
        },
        {
          "output_type": "stream",
          "text": [
            "\n",
            "max training accuracy 0.11919999867677689\n",
            "min training loss 0.021283915266394615\n",
            "max validation accuracy 0.11720000207424164\n",
            "min validation loss 0.02129177190363407\n",
            "\n",
            "l2-normed weight changes from initial values after last epoch:\n",
            "[0.46795195, 0.019259224, 0.14152645, 0.020883422]\n",
            "================================================================================\n",
            "opt = sgd, lr = 0.001000, alpha = 9.000000\n",
            "================================================================================\n"
          ],
          "name": "stdout"
        },
        {
          "output_type": "display_data",
          "data": {
            "application/vnd.google.colaboratory.intrinsic+json": {
              "type": "string"
            },
            "text/plain": [
              "'Epoch: 0009, Total Run Time: 00:01:27 - Loss: 2.5273e-02, Accuracy: 0.123, Test Loss: 2.5279e-02, Test Accuracy: 0.121 - L2 Norm of Weight Movement From Initialization: [0.60499585, 0.017679585, 0.1918085, 0.01782667]'"
            ]
          },
          "metadata": {
            "tags": []
          }
        },
        {
          "output_type": "stream",
          "text": [
            "\n",
            "max training accuracy 0.12371999770402908\n",
            "min training loss 0.02527325414121151\n",
            "max validation accuracy 0.12359999865293503\n",
            "min validation loss 0.025278691202402115\n",
            "\n",
            "l2-normed weight changes from initial values after last epoch:\n",
            "[0.60499585, 0.017679585, 0.1918085, 0.01782667]\n",
            "================================================================================\n",
            "opt = sgd, lr = 0.001000, alpha = 8.000000\n",
            "================================================================================\n"
          ],
          "name": "stdout"
        },
        {
          "output_type": "display_data",
          "data": {
            "application/vnd.google.colaboratory.intrinsic+json": {
              "type": "string"
            },
            "text/plain": [
              "'Epoch: 0009, Total Run Time: 00:01:30 - Loss: 3.2029e-02, Accuracy: 0.112, Test Loss: 3.2055e-02, Test Accuracy: 0.110 - L2 Norm of Weight Movement From Initialization: [0.67420095, 0.030948484, 0.2197782, 0.03239953]'"
            ]
          },
          "metadata": {
            "tags": []
          }
        },
        {
          "output_type": "stream",
          "text": [
            "\n",
            "max training accuracy 0.11648000031709671\n",
            "min training loss 0.032028984278440475\n",
            "max validation accuracy 0.12549999356269836\n",
            "min validation loss 0.03205468878149986\n",
            "\n",
            "l2-normed weight changes from initial values after last epoch:\n",
            "[0.67420095, 0.030948484, 0.2197782, 0.03239953]\n",
            "================================================================================\n",
            "opt = sgd, lr = 0.001000, alpha = 7.000000\n",
            "================================================================================\n"
          ],
          "name": "stdout"
        },
        {
          "output_type": "display_data",
          "data": {
            "application/vnd.google.colaboratory.intrinsic+json": {
              "type": "string"
            },
            "text/plain": [
              "'Epoch: 0003, Total Run Time: 00:00:36 - Loss: 4.2264e-02, Accuracy: 0.260, Test Loss: 4.2082e-02, Test Accuracy: 0.264 - L2 Norm of Weight Movement From Initialization: [0.4906083, 0.0187785, 0.14965616, 0.021187915]'"
            ]
          },
          "metadata": {
            "tags": []
          }
        },
        {
          "output_type": "display_data",
          "data": {
            "application/vnd.google.colaboratory.intrinsic+json": {
              "type": "string"
            },
            "text/plain": [
              "'Epoch: 0009, Total Run Time: 00:01:31 - Loss: 4.0025e-02, Accuracy: 0.230, Test Loss: 4.0032e-02, Test Accuracy: 0.228 - L2 Norm of Weight Movement From Initialization: [0.8417337, 0.037356228, 0.29112762, 0.039383706]'"
            ]
          },
          "metadata": {
            "tags": []
          }
        },
        {
          "output_type": "stream",
          "text": [
            "\n",
            "max training accuracy 0.2597599923610687\n",
            "min training loss 0.04002485051751137\n",
            "max validation accuracy 0.2639000117778778\n",
            "min validation loss 0.04003211483359337\n",
            "\n",
            "l2-normed weight changes from initial values after last epoch:\n",
            "[0.8417337, 0.037356228, 0.29112762, 0.039383706]\n",
            "================================================================================\n",
            "opt = sgd, lr = 0.001000, alpha = 6.000000\n",
            "================================================================================\n"
          ],
          "name": "stdout"
        },
        {
          "output_type": "display_data",
          "data": {
            "application/vnd.google.colaboratory.intrinsic+json": {
              "type": "string"
            },
            "text/plain": [
              "'Epoch: 0009, Total Run Time: 00:01:31 - Loss: 5.3062e-02, Accuracy: 0.311, Test Loss: 5.2978e-02, Test Accuracy: 0.304 - L2 Norm of Weight Movement From Initialization: [0.98428047, 0.046784334, 0.35245427, 0.047969274]'"
            ]
          },
          "metadata": {
            "tags": []
          }
        },
        {
          "output_type": "stream",
          "text": [
            "\n",
            "max training accuracy 0.3110800087451935\n",
            "min training loss 0.0530615858733654\n",
            "max validation accuracy 0.30720001459121704\n",
            "min validation loss 0.052977848798036575\n",
            "\n",
            "l2-normed weight changes from initial values after last epoch:\n",
            "[0.98428047, 0.046784334, 0.35245427, 0.047969274]\n",
            "================================================================================\n",
            "opt = sgd, lr = 0.001000, alpha = 5.000000\n",
            "================================================================================\n"
          ],
          "name": "stdout"
        },
        {
          "output_type": "display_data",
          "data": {
            "application/vnd.google.colaboratory.intrinsic+json": {
              "type": "string"
            },
            "text/plain": [
              "'Epoch: 0009, Total Run Time: 00:01:30 - Loss: 7.4461e-02, Accuracy: 0.345, Test Loss: 7.4518e-02, Test Accuracy: 0.341 - L2 Norm of Weight Movement From Initialization: [1.1675524, 0.06623198, 0.47329208, 0.06457589]'"
            ]
          },
          "metadata": {
            "tags": []
          }
        },
        {
          "output_type": "stream",
          "text": [
            "\n",
            "max training accuracy 0.34455999732017517\n",
            "min training loss 0.07446112483739853\n",
            "max validation accuracy 0.3409000039100647\n",
            "min validation loss 0.07451844215393066\n",
            "\n",
            "l2-normed weight changes from initial values after last epoch:\n",
            "[1.1675524, 0.06623198, 0.47329208, 0.06457589]\n",
            "================================================================================\n",
            "opt = sgd, lr = 0.001000, alpha = 4.000000\n",
            "================================================================================\n"
          ],
          "name": "stdout"
        },
        {
          "output_type": "display_data",
          "data": {
            "application/vnd.google.colaboratory.intrinsic+json": {
              "type": "string"
            },
            "text/plain": [
              "'Epoch: 0009, Total Run Time: 00:01:28 - Loss: 1.1188e-01, Accuracy: 0.377, Test Loss: 1.1196e-01, Test Accuracy: 0.372 - L2 Norm of Weight Movement From Initialization: [1.4814717, 0.111842334, 0.569923, 0.099283315]'"
            ]
          },
          "metadata": {
            "tags": []
          }
        },
        {
          "output_type": "stream",
          "text": [
            "\n",
            "max training accuracy 0.3768399953842163\n",
            "min training loss 0.11188321560621262\n",
            "max validation accuracy 0.37229999899864197\n",
            "min validation loss 0.11196362227201462\n",
            "\n",
            "l2-normed weight changes from initial values after last epoch:\n",
            "[1.4814717, 0.111842334, 0.569923, 0.099283315]\n",
            "================================================================================\n",
            "opt = sgd, lr = 0.001000, alpha = 3.000000\n",
            "================================================================================\n"
          ],
          "name": "stdout"
        },
        {
          "output_type": "display_data",
          "data": {
            "application/vnd.google.colaboratory.intrinsic+json": {
              "type": "string"
            },
            "text/plain": [
              "'Epoch: 0009, Total Run Time: 00:01:28 - Loss: 1.8924e-01, Accuracy: 0.414, Test Loss: 1.8972e-01, Test Accuracy: 0.413 - L2 Norm of Weight Movement From Initialization: [2.0238266, 0.18006457, 0.87524384, 0.1653121]'"
            ]
          },
          "metadata": {
            "tags": []
          }
        },
        {
          "output_type": "stream",
          "text": [
            "\n",
            "max training accuracy 0.4140399992465973\n",
            "min training loss 0.1892358362674713\n",
            "max validation accuracy 0.4133000075817108\n",
            "min validation loss 0.1897185742855072\n",
            "\n",
            "l2-normed weight changes from initial values after last epoch:\n",
            "[2.0238266, 0.18006457, 0.87524384, 0.1653121]\n",
            "================================================================================\n",
            "opt = sgd, lr = 0.001000, alpha = 2.000000\n",
            "================================================================================\n"
          ],
          "name": "stdout"
        },
        {
          "output_type": "display_data",
          "data": {
            "application/vnd.google.colaboratory.intrinsic+json": {
              "type": "string"
            },
            "text/plain": [
              "'Epoch: 0009, Total Run Time: 00:01:28 - Loss: 3.9529e-01, Accuracy: 0.454, Test Loss: 3.9634e-01, Test Accuracy: 0.450 - L2 Norm of Weight Movement From Initialization: [3.1108382, 0.3497785, 1.5085452, 0.30650535]'"
            ]
          },
          "metadata": {
            "tags": []
          }
        },
        {
          "output_type": "stream",
          "text": [
            "\n",
            "max training accuracy 0.454039990901947\n",
            "min training loss 0.39528870582580566\n",
            "max validation accuracy 0.4496999979019165\n",
            "min validation loss 0.39633825421333313\n",
            "\n",
            "l2-normed weight changes from initial values after last epoch:\n",
            "[3.1108382, 0.3497785, 1.5085452, 0.30650535]\n",
            "================================================================================\n",
            "opt = sgd, lr = 0.001000, alpha = 1.000000\n",
            "================================================================================\n"
          ],
          "name": "stdout"
        },
        {
          "output_type": "display_data",
          "data": {
            "application/vnd.google.colaboratory.intrinsic+json": {
              "type": "string"
            },
            "text/plain": [
              "'Epoch: 0009, Total Run Time: 00:01:30 - Loss: 1.3895e+00, Accuracy: 0.514, Test Loss: 1.4708e+00, Test Accuracy: 0.475 - L2 Norm of Weight Movement From Initialization: [6.7917376, 0.9397748, 3.1316378, 0.93745565]'"
            ]
          },
          "metadata": {
            "tags": []
          }
        },
        {
          "output_type": "stream",
          "text": [
            "\n",
            "max training accuracy 0.513759970664978\n",
            "min training loss 1.389522671699524\n",
            "max validation accuracy 0.49149999022483826\n",
            "min validation loss 1.4448493719100952\n",
            "\n",
            "l2-normed weight changes from initial values after last epoch:\n",
            "[6.7917376, 0.9397748, 3.1316378, 0.93745565]\n",
            "================================================================================\n",
            "opt = sgd, lr = 0.001000, alpha = 0.800000\n",
            "================================================================================\n"
          ],
          "name": "stdout"
        },
        {
          "output_type": "display_data",
          "data": {
            "application/vnd.google.colaboratory.intrinsic+json": {
              "type": "string"
            },
            "text/plain": [
              "'Epoch: 0009, Total Run Time: 00:01:29 - Loss: 2.1238e+00, Accuracy: 0.522, Test Loss: 2.2293e+00, Test Accuracy: 0.492 - L2 Norm of Weight Movement From Initialization: [8.739545, 1.241354, 3.6091905, 1.3263038]'"
            ]
          },
          "metadata": {
            "tags": []
          }
        },
        {
          "output_type": "stream",
          "text": [
            "\n",
            "max training accuracy 0.5223199725151062\n",
            "min training loss 2.123778820037842\n",
            "max validation accuracy 0.4925999939441681\n",
            "min validation loss 2.2292532920837402\n",
            "\n",
            "l2-normed weight changes from initial values after last epoch:\n",
            "[8.739545, 1.241354, 3.6091905, 1.3263038]\n",
            "================================================================================\n",
            "opt = sgd, lr = 0.001000, alpha = 0.600000\n",
            "================================================================================\n"
          ],
          "name": "stdout"
        },
        {
          "output_type": "display_data",
          "data": {
            "application/vnd.google.colaboratory.intrinsic+json": {
              "type": "string"
            },
            "text/plain": [
              "'Epoch: 0009, Total Run Time: 00:01:31 - Loss: 3.7889e+00, Accuracy: 0.516, Test Loss: 3.9760e+00, Test Accuracy: 0.494 - L2 Norm of Weight Movement From Initialization: [11.69835, 1.5312567, 3.8914366, 1.9396666]'"
            ]
          },
          "metadata": {
            "tags": []
          }
        },
        {
          "output_type": "stream",
          "text": [
            "\n",
            "max training accuracy 0.5158200263977051\n",
            "min training loss 3.7888741493225098\n",
            "max validation accuracy 0.4943000078201294\n",
            "min validation loss 3.976044178009033\n",
            "\n",
            "l2-normed weight changes from initial values after last epoch:\n",
            "[11.69835, 1.5312567, 3.8914366, 1.9396666]\n",
            "================================================================================\n",
            "opt = sgd, lr = 0.001000, alpha = 0.400000\n",
            "================================================================================\n"
          ],
          "name": "stdout"
        },
        {
          "output_type": "display_data",
          "data": {
            "application/vnd.google.colaboratory.intrinsic+json": {
              "type": "string"
            },
            "text/plain": [
              "'Epoch: 0009, Total Run Time: 00:01:31 - Loss: 9.1741e+00, Accuracy: 0.479, Test Loss: 9.3700e+00, Test Accuracy: 0.467 - L2 Norm of Weight Movement From Initialization: [15.663797, 1.9789902, 3.3971956, 3.007679]'"
            ]
          },
          "metadata": {
            "tags": []
          }
        },
        {
          "output_type": "stream",
          "text": [
            "\n",
            "max training accuracy 0.4789600074291229\n",
            "min training loss 9.174113273620605\n",
            "max validation accuracy 0.4666000008583069\n",
            "min validation loss 9.369959831237793\n",
            "\n",
            "l2-normed weight changes from initial values after last epoch:\n",
            "[15.663797, 1.9789902, 3.3971956, 3.007679]\n",
            "================================================================================\n",
            "opt = sgd, lr = 0.001000, alpha = 0.200000\n",
            "================================================================================\n"
          ],
          "name": "stdout"
        },
        {
          "output_type": "display_data",
          "data": {
            "application/vnd.google.colaboratory.intrinsic+json": {
              "type": "string"
            },
            "text/plain": [
              "'Epoch: 0009, Total Run Time: 00:01:29 - Loss: 5.0597e+01, Accuracy: 0.247, Test Loss: 5.0525e+01, Test Accuracy: 0.244 - L2 Norm of Weight Movement From Initialization: [15.003761, 3.257604, 4.467832, 1.4268014]'"
            ]
          },
          "metadata": {
            "tags": []
          }
        },
        {
          "output_type": "stream",
          "text": [
            "\n",
            "max training accuracy 0.24741999804973602\n",
            "min training loss 50.59748458862305\n",
            "max validation accuracy 0.2581000030040741\n",
            "min validation loss 48.94134521484375\n",
            "\n",
            "l2-normed weight changes from initial values after last epoch:\n",
            "[15.003761, 3.257604, 4.467832, 1.4268014]\n",
            "================================================================================\n",
            "opt = sgd, lr = 0.001000, alpha = 0.100000\n",
            "================================================================================\n"
          ],
          "name": "stdout"
        },
        {
          "output_type": "display_data",
          "data": {
            "application/vnd.google.colaboratory.intrinsic+json": {
              "type": "string"
            },
            "text/plain": [
              "'Epoch: 0009, Total Run Time: 00:01:28 - Loss: 1.2434e+03, Accuracy: 0.100, Test Loss: 1.2434e+03, Test Accuracy: 0.100 - L2 Norm of Weight Movement From Initialization: [17.506886, 0.63307124, 19.356989, 0.8078182]'"
            ]
          },
          "metadata": {
            "tags": []
          }
        },
        {
          "output_type": "stream",
          "text": [
            "\n",
            "max training accuracy 0.10000000149011612\n",
            "min training loss 1241.9998779296875\n",
            "max validation accuracy 0.10000000149011612\n",
            "min validation loss 1243.39697265625\n",
            "\n",
            "l2-normed weight changes from initial values after last epoch:\n",
            "[17.506886, 0.63307124, 19.356989, 0.8078182]\n",
            "================================================================================\n",
            "opt = sgd, lr = 0.001000, alpha = 0.070000\n",
            "================================================================================\n"
          ],
          "name": "stdout"
        },
        {
          "output_type": "display_data",
          "data": {
            "application/vnd.google.colaboratory.intrinsic+json": {
              "type": "string"
            },
            "text/plain": [
              "'Epoch: 0009, Total Run Time: 00:01:28 - Loss: 2.4720e+03, Accuracy: 0.100, Test Loss: 2.4720e+03, Test Accuracy: 0.100 - L2 Norm of Weight Movement From Initialization: [16.54108, 0.63718486, 21.228315, 0.7860911]'"
            ]
          },
          "metadata": {
            "tags": []
          }
        },
        {
          "output_type": "stream",
          "text": [
            "\n",
            "max training accuracy 0.10001999884843826\n",
            "min training loss 2469.63525390625\n",
            "max validation accuracy 0.10000000149011612\n",
            "min validation loss 2472.03564453125\n",
            "\n",
            "l2-normed weight changes from initial values after last epoch:\n",
            "[16.54108, 0.63718486, 21.228315, 0.7860911]\n",
            "================================================================================\n",
            "opt = sgd, lr = 0.001000, alpha = 0.040000\n",
            "================================================================================\n"
          ],
          "name": "stdout"
        },
        {
          "output_type": "display_data",
          "data": {
            "application/vnd.google.colaboratory.intrinsic+json": {
              "type": "string"
            },
            "text/plain": [
              "'Epoch: 0009, Total Run Time: 00:01:27 - Loss: 7.2558e+03, Accuracy: 0.100, Test Loss: 7.2558e+03, Test Accuracy: 0.100 - L2 Norm of Weight Movement From Initialization: [38.611435, 1.405106, 56.614784, 1.6976434]'"
            ]
          },
          "metadata": {
            "tags": []
          }
        },
        {
          "output_type": "stream",
          "text": [
            "\n",
            "max training accuracy 0.10000000149011612\n",
            "min training loss 7252.4599609375\n",
            "max validation accuracy 0.10000000149011612\n",
            "min validation loss 7255.8232421875\n",
            "\n",
            "l2-normed weight changes from initial values after last epoch:\n",
            "[38.611435, 1.405106, 56.614784, 1.6976434]\n",
            "================================================================================\n",
            "opt = sgd, lr = 0.001000, alpha = 0.010000\n",
            "================================================================================\n"
          ],
          "name": "stdout"
        },
        {
          "output_type": "display_data",
          "data": {
            "application/vnd.google.colaboratory.intrinsic+json": {
              "type": "string"
            },
            "text/plain": [
              "'Epoch: 0009, Total Run Time: 00:01:27 - Loss: 1.0362e+05, Accuracy: 0.100, Test Loss: 1.0362e+05, Test Accuracy: 0.100 - L2 Norm of Weight Movement From Initialization: [548.04144, 12.98345, 144.25642, 12.287204]'"
            ]
          },
          "metadata": {
            "tags": []
          }
        },
        {
          "output_type": "stream",
          "text": [
            "\n",
            "max training accuracy 0.10000000149011612\n",
            "min training loss 103574.078125\n",
            "max validation accuracy 0.10000000149011612\n",
            "min validation loss 103617.0703125\n",
            "\n",
            "l2-normed weight changes from initial values after last epoch:\n",
            "[548.04144, 12.98345, 144.25642, 12.287204]\n",
            "================================================================================\n",
            "opt = sgd, lr = 0.001000, alpha = 0.001000\n",
            "================================================================================\n"
          ],
          "name": "stdout"
        },
        {
          "output_type": "display_data",
          "data": {
            "application/vnd.google.colaboratory.intrinsic+json": {
              "type": "string"
            },
            "text/plain": [
              "'Epoch: 0009, Total Run Time: 00:01:29 - Loss: 8.2902e+06, Accuracy: 0.100, Test Loss: 8.2902e+06, Test Accuracy: 0.100 - L2 Norm of Weight Movement From Initialization: [58834.17, 2367.6875, 19716.24, 2814.171]'"
            ]
          },
          "metadata": {
            "tags": []
          }
        },
        {
          "output_type": "stream",
          "text": [
            "\n",
            "max training accuracy 0.10000000149011612\n",
            "min training loss 8287156.5\n",
            "max validation accuracy 0.10000000149011612\n",
            "min validation loss 8290206.5\n",
            "\n",
            "l2-normed weight changes from initial values after last epoch:\n",
            "[58834.17, 2367.6875, 19716.24, 2814.171]\n"
          ],
          "name": "stdout"
        }
      ]
    },
    {
      "cell_type": "code",
      "metadata": {
        "colab": {
          "base_uri": "https://localhost:8080/",
          "height": 1000
        },
        "id": "L9H3delZx9Zc",
        "outputId": "0f943ee3-b2dd-469f-b390-b952db9985ed"
      },
      "source": [
        "# experiment with default network size (width=64) but using adam optimizer\n",
        "lrs = [1.0, 0.1, 0.01, 0.001, 0.0001]\n",
        "alphas = [20000.0, 1000.0, 100.0, 80.0, 60.0, 40.0, 30.0, 20.0, 10.0, 9.0, 8.0, 7.0, 6.0, 5.0, 4.0, 3.0, 2.0, 1.0, 0.8, 0.6, 0.4, 0.2, 0.1, 0.07, 0.04, 0.01, 0.001]\n",
        "normed_weight_changes_adam = {}\n",
        "optimizer = 'adam'\n",
        "num_epochs = 10\n",
        "for learning_rate in lrs:\n",
        "  for alpha_val in alphas:\n",
        "    print('='*80)\n",
        "    print('opt = %s, lr = %f, alpha = %f' %(optimizer, learning_rate, alpha_val))\n",
        "    print('='*80)\n",
        "    normed_weight_changes_adam[(optimizer, learning_rate, alpha_val)] = train(alpha=alpha_val, epoch=num_epochs, opt=optimizer, lr=learning_rate, scaling=True)"
      ],
      "execution_count": null,
      "outputs": [
        {
          "output_type": "stream",
          "text": [
            "================================================================================\n",
            "opt = adam, lr = 1.000000, alpha = 10000000.000000\n",
            "================================================================================\n"
          ],
          "name": "stdout"
        },
        {
          "output_type": "display_data",
          "data": {
            "application/vnd.google.colaboratory.intrinsic+json": {
              "type": "string"
            },
            "text/plain": [
              "'Epoch: 0009, Total Run Time: 00:00:48 - Loss: 2.3026e-14, Accuracy: 0.090, Test Loss: 2.3026e-14, Test Accuracy: 0.097 - L2 Norm of Weight Movement From Initialization: [0.0, 0.0, 0.0, 0.0]'"
            ]
          },
          "metadata": {
            "tags": []
          }
        },
        {
          "output_type": "stream",
          "text": [
            "\n",
            "max training accuracy 0.09009999781847\n",
            "min training loss 2.3025665711129753e-14\n",
            "max validation accuracy 0.09709999710321426\n",
            "min validation loss 2.3025850364312254e-14\n",
            "\n",
            "l2-normed weight changes from initial values after last epoch:\n",
            "[0.0, 0.0, 0.0, 0.0]\n",
            "================================================================================\n",
            "opt = adam, lr = 1.000000, alpha = 1000000.000000\n",
            "================================================================================\n"
          ],
          "name": "stdout"
        },
        {
          "output_type": "display_data",
          "data": {
            "application/vnd.google.colaboratory.intrinsic+json": {
              "type": "string"
            },
            "text/plain": [
              "'Epoch: 0009, Total Run Time: 00:00:53 - Loss: 2.3026e-12, Accuracy: 0.094, Test Loss: 2.3026e-12, Test Accuracy: 0.096 - L2 Norm of Weight Movement From Initialization: [0.0, 0.0, 0.0, 0.0]'"
            ]
          },
          "metadata": {
            "tags": []
          }
        },
        {
          "output_type": "stream",
          "text": [
            "\n",
            "max training accuracy 0.09443999826908112\n",
            "min training loss 2.3025997341469262e-12\n",
            "max validation accuracy 0.09600000083446503\n",
            "min validation loss 2.302588675284767e-12\n",
            "\n",
            "l2-normed weight changes from initial values after last epoch:\n",
            "[0.0, 0.0, 0.0, 0.0]\n",
            "================================================================================\n",
            "opt = adam, lr = 1.000000, alpha = 100000.000000\n",
            "================================================================================\n"
          ],
          "name": "stdout"
        },
        {
          "output_type": "display_data",
          "data": {
            "application/vnd.google.colaboratory.intrinsic+json": {
              "type": "string"
            },
            "text/plain": [
              "'Epoch: 0009, Total Run Time: 00:01:07 - Loss: 2.3026e-10, Accuracy: 0.102, Test Loss: 2.3026e-10, Test Accuracy: 0.103 - L2 Norm of Weight Movement From Initialization: [0.0, 0.0, 0.0, 0.0]'"
            ]
          },
          "metadata": {
            "tags": []
          }
        },
        {
          "output_type": "stream",
          "text": [
            "\n",
            "max training accuracy 0.1023000031709671\n",
            "min training loss 2.3026328066499957e-10\n",
            "max validation accuracy 0.10289999842643738\n",
            "min validation loss 2.3025850670599368e-10\n",
            "\n",
            "l2-normed weight changes from initial values after last epoch:\n",
            "[0.0, 0.0, 0.0, 0.0]\n",
            "================================================================================\n",
            "opt = adam, lr = 1.000000, alpha = 10000.000000\n",
            "================================================================================\n"
          ],
          "name": "stdout"
        },
        {
          "output_type": "display_data",
          "data": {
            "application/vnd.google.colaboratory.intrinsic+json": {
              "type": "string"
            },
            "text/plain": [
              "'Epoch: 0009, Total Run Time: 00:01:06 - Loss: 2.3026e-08, Accuracy: 0.096, Test Loss: 2.3026e-08, Test Accuracy: 0.097 - L2 Norm of Weight Movement From Initialization: [0.0, 0.0, 0.0, 0.0]'"
            ]
          },
          "metadata": {
            "tags": []
          }
        },
        {
          "output_type": "stream",
          "text": [
            "\n",
            "max training accuracy 0.095660001039505\n",
            "min training loss 2.3025949147381652e-08\n",
            "max validation accuracy 0.09669999778270721\n",
            "min validation loss 2.3025791051622946e-08\n",
            "\n",
            "l2-normed weight changes from initial values after last epoch:\n",
            "[0.0, 0.0, 0.0, 0.0]\n",
            "================================================================================\n",
            "opt = adam, lr = 1.000000, alpha = 1000.000000\n",
            "================================================================================\n"
          ],
          "name": "stdout"
        },
        {
          "output_type": "display_data",
          "data": {
            "application/vnd.google.colaboratory.intrinsic+json": {
              "type": "string"
            },
            "text/plain": [
              "'Epoch: 0009, Total Run Time: 00:01:05 - Loss: 2.3026e-06, Accuracy: 0.102, Test Loss: 2.3026e-06, Test Accuracy: 0.101 - L2 Norm of Weight Movement From Initialization: [0.0, 0.0, 0.0, 0.0]'"
            ]
          },
          "metadata": {
            "tags": []
          }
        },
        {
          "output_type": "stream",
          "text": [
            "\n",
            "max training accuracy 0.10211999714374542\n",
            "min training loss 2.302632083228673e-06\n",
            "max validation accuracy 0.10100000351667404\n",
            "min validation loss 2.3025800146569964e-06\n",
            "\n",
            "l2-normed weight changes from initial values after last epoch:\n",
            "[0.0, 0.0, 0.0, 0.0]\n",
            "================================================================================\n",
            "opt = adam, lr = 1.000000, alpha = 100.000000\n",
            "================================================================================\n"
          ],
          "name": "stdout"
        },
        {
          "output_type": "display_data",
          "data": {
            "application/vnd.google.colaboratory.intrinsic+json": {
              "type": "string"
            },
            "text/plain": [
              "'Epoch: 0009, Total Run Time: 00:01:04 - Loss: 1.4506e-03, Accuracy: 0.100, Test Loss: 1.4506e-03, Test Accuracy: 0.100 - L2 Norm of Weight Movement From Initialization: [111.27019, 9.391343, 41.12513, 6.255609]'"
            ]
          },
          "metadata": {
            "tags": []
          }
        },
        {
          "output_type": "stream",
          "text": [
            "\n",
            "max training accuracy 0.10000000149011612\n",
            "min training loss 0.0013913430739194155\n",
            "max validation accuracy 0.10000000149011612\n",
            "min validation loss 0.0014506278093904257\n",
            "\n",
            "l2-normed weight changes from initial values after last epoch:\n",
            "[111.27019, 9.391343, 41.12513, 6.255609]\n",
            "================================================================================\n",
            "opt = adam, lr = 1.000000, alpha = 10.000000\n",
            "================================================================================\n"
          ],
          "name": "stdout"
        },
        {
          "output_type": "display_data",
          "data": {
            "application/vnd.google.colaboratory.intrinsic+json": {
              "type": "string"
            },
            "text/plain": [
              "'Epoch: 0009, Total Run Time: 00:01:08 - Loss: 1.4506e-01, Accuracy: 0.100, Test Loss: 1.4506e-01, Test Accuracy: 0.100 - L2 Norm of Weight Movement From Initialization: [2134.9937, 40.65172, 123.765274, 18.169634]'"
            ]
          },
          "metadata": {
            "tags": []
          }
        },
        {
          "output_type": "stream",
          "text": [
            "\n",
            "max training accuracy 0.10000000149011612\n",
            "min training loss 0.14499522745609283\n",
            "max validation accuracy 0.10000000149011612\n",
            "min validation loss 0.14506274461746216\n",
            "\n",
            "l2-normed weight changes from initial values after last epoch:\n",
            "[2134.9937, 40.65172, 123.765274, 18.169634]\n",
            "================================================================================\n",
            "opt = adam, lr = 1.000000, alpha = 5.000000\n",
            "================================================================================\n"
          ],
          "name": "stdout"
        },
        {
          "output_type": "display_data",
          "data": {
            "application/vnd.google.colaboratory.intrinsic+json": {
              "type": "string"
            },
            "text/plain": [
              "'Epoch: 0009, Total Run Time: 00:01:10 - Loss: 5.8026e-01, Accuracy: 0.100, Test Loss: 5.8025e-01, Test Accuracy: 0.100 - L2 Norm of Weight Movement From Initialization: [2415.3723, 44.390163, 137.28018, 18.921852]'"
            ]
          },
          "metadata": {
            "tags": []
          }
        },
        {
          "output_type": "stream",
          "text": [
            "\n",
            "max training accuracy 0.10000000149011612\n",
            "min training loss 0.579979419708252\n",
            "max validation accuracy 0.10000000149011612\n",
            "min validation loss 0.5802512168884277\n",
            "\n",
            "l2-normed weight changes from initial values after last epoch:\n",
            "[2415.3723, 44.390163, 137.28018, 18.921852]\n",
            "================================================================================\n",
            "opt = adam, lr = 1.000000, alpha = 1.000000\n",
            "================================================================================\n"
          ],
          "name": "stdout"
        },
        {
          "output_type": "display_data",
          "data": {
            "application/vnd.google.colaboratory.intrinsic+json": {
              "type": "string"
            },
            "text/plain": [
              "'Epoch: 0009, Total Run Time: 00:01:08 - Loss: 1.4506e+01, Accuracy: 0.100, Test Loss: 1.4506e+01, Test Accuracy: 0.100 - L2 Norm of Weight Movement From Initialization: [2434.259, 44.08051, 139.10837, 18.979357]'"
            ]
          },
          "metadata": {
            "tags": []
          }
        },
        {
          "output_type": "stream",
          "text": [
            "\n",
            "max training accuracy 0.100040003657341\n",
            "min training loss 14.49924087524414\n",
            "max validation accuracy 0.10000000149011612\n",
            "min validation loss 14.50627326965332\n",
            "\n",
            "l2-normed weight changes from initial values after last epoch:\n",
            "[2434.259, 44.08051, 139.10837, 18.979357]\n",
            "================================================================================\n",
            "opt = adam, lr = 1.000000, alpha = 0.500000\n",
            "================================================================================\n"
          ],
          "name": "stdout"
        },
        {
          "output_type": "display_data",
          "data": {
            "application/vnd.google.colaboratory.intrinsic+json": {
              "type": "string"
            },
            "text/plain": [
              "'Epoch: 0009, Total Run Time: 00:01:07 - Loss: 5.5530e+01, Accuracy: 0.100, Test Loss: 5.5530e+01, Test Accuracy: 0.100 - L2 Norm of Weight Movement From Initialization: [2533.3542, 45.72536, 144.58206, 18.99072]'"
            ]
          },
          "metadata": {
            "tags": []
          }
        },
        {
          "output_type": "stream",
          "text": [
            "\n",
            "max training accuracy 0.10000000149011612\n",
            "min training loss 55.5029411315918\n",
            "max validation accuracy 0.10000000149011612\n",
            "min validation loss 55.52981185913086\n",
            "\n",
            "l2-normed weight changes from initial values after last epoch:\n",
            "[2533.3542, 45.72536, 144.58206, 18.99072]\n",
            "================================================================================\n",
            "opt = adam, lr = 1.000000, alpha = 0.100000\n",
            "================================================================================\n"
          ],
          "name": "stdout"
        },
        {
          "output_type": "display_data",
          "data": {
            "application/vnd.google.colaboratory.intrinsic+json": {
              "type": "string"
            },
            "text/plain": [
              "'Epoch: 0009, Total Run Time: 00:01:01 - Loss: 1.2434e+03, Accuracy: 0.100, Test Loss: 1.2434e+03, Test Accuracy: 0.100 - L2 Norm of Weight Movement From Initialization: [2353.5745, 42.46457, 134.58029, 18.991018]'"
            ]
          },
          "metadata": {
            "tags": []
          }
        },
        {
          "output_type": "stream",
          "text": [
            "\n",
            "max training accuracy 0.10000000149011612\n",
            "min training loss 1243.297607421875\n",
            "max validation accuracy 0.10000000149011612\n",
            "min validation loss 1243.39697265625\n",
            "\n",
            "l2-normed weight changes from initial values after last epoch:\n",
            "[2353.5745, 42.46457, 134.58029, 18.991018]\n",
            "================================================================================\n",
            "opt = adam, lr = 1.000000, alpha = 0.010000\n",
            "================================================================================\n"
          ],
          "name": "stdout"
        },
        {
          "output_type": "display_data",
          "data": {
            "application/vnd.google.colaboratory.intrinsic+json": {
              "type": "string"
            },
            "text/plain": [
              "'Epoch: 0009, Total Run Time: 00:01:08 - Loss: 1.0362e+05, Accuracy: 0.100, Test Loss: 1.0362e+05, Test Accuracy: 0.100 - L2 Norm of Weight Movement From Initialization: [2400.2646, 43.306286, 136.94647, 18.991064]'"
            ]
          },
          "metadata": {
            "tags": []
          }
        },
        {
          "output_type": "stream",
          "text": [
            "\n",
            "max training accuracy 0.10000000149011612\n",
            "min training loss 103570.265625\n",
            "max validation accuracy 0.10000000149011612\n",
            "min validation loss 103617.0703125\n",
            "\n",
            "l2-normed weight changes from initial values after last epoch:\n",
            "[2400.2646, 43.306286, 136.94647, 18.991064]\n",
            "================================================================================\n",
            "opt = adam, lr = 0.100000, alpha = 10000000.000000\n",
            "================================================================================\n"
          ],
          "name": "stdout"
        },
        {
          "output_type": "display_data",
          "data": {
            "application/vnd.google.colaboratory.intrinsic+json": {
              "type": "string"
            },
            "text/plain": [
              "'SAVING INITIAL WEIGHT VALUES'"
            ]
          },
          "metadata": {
            "tags": []
          }
        }
      ]
    },
    {
      "cell_type": "code",
      "metadata": {
        "id": "2zlZ7H8jMtDz"
      },
      "source": [
        "# experiment with default network size (width=64) but more epochs (100)\n",
        "lrs = [1.0, 0.1, 0.01, 0.001]\n",
        "alphas = [20000.0, 1000.0, 100.0, 80.0, 60.0, 40.0, 30.0, 20.0, 10.0, 9.0, 8.0, 7.0, 6.0, 5.0, 4.0, 3.0, 2.0, 1.0, 0.8, 0.6, 0.4, 0.2, 0.1, 0.07, 0.04, 0.01, 0.001]\n",
        "normed_weight_changes_e100 = {}\n",
        "optimizer = 'sgd'\n",
        "num_epochs = 100\n",
        "for learning_rate in lrs:\n",
        "  for alpha_val in alphas:\n",
        "    print('='*80)\n",
        "    print('opt = %s, lr = %f, alpha = %f' %(optimizer, learning_rate, alpha_val))\n",
        "    print('='*80)\n",
        "    normed_weight_changes_e100[(optimizer, learning_rate, alpha_val)] = train(alpha=alpha_val, epoch=num_epochs, opt=optimizer, lr=learning_rate, scaling=True)"
      ],
      "execution_count": null,
      "outputs": []
    },
    {
      "cell_type": "code",
      "metadata": {
        "id": "i2U_IrTeRZQr"
      },
      "source": [
        "for i in range(20):\n",
        "  time.sleep(3600)"
      ],
      "execution_count": null,
      "outputs": []
    },
    {
      "cell_type": "code",
      "metadata": {
        "id": "sNI38lb1R6Ex"
      },
      "source": [
        ""
      ],
      "execution_count": null,
      "outputs": []
    }
  ]
}