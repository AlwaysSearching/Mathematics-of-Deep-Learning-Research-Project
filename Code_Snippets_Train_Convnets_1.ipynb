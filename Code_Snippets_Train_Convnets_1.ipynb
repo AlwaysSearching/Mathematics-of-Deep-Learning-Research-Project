{
  "nbformat": 4,
  "nbformat_minor": 5,
  "metadata": {
    "kernelspec": {
      "display_name": "Python 3",
      "language": "python",
      "name": "python3"
    },
    "language_info": {
      "codemirror_mode": {
        "name": "ipython",
        "version": 3
      },
      "file_extension": ".py",
      "mimetype": "text/x-python",
      "name": "python",
      "nbconvert_exporter": "python",
      "pygments_lexer": "ipython3",
      "version": "3.8.8"
    },
    "colab": {
      "name": "Code_Snippets_Train_Convnets.ipynb",
      "provenance": [],
      "collapsed_sections": [],
      "toc_visible": true,
      "include_colab_link": true
    }
  },
  "cells": [
    {
      "cell_type": "markdown",
      "metadata": {
        "id": "view-in-github",
        "colab_type": "text"
      },
      "source": [
        "<a href=\"https://colab.research.google.com/github/AlwaysSearching/Mathematics-of-Deep-Learning-Research-Project/blob/main/Code_Snippets_Train_Convnets_1.ipynb\" target=\"_parent\"><img src=\"https://colab.research.google.com/assets/colab-badge.svg\" alt=\"Open In Colab\"/></a>"
      ]
    },
    {
      "cell_type": "code",
      "metadata": {
        "colab": {
          "base_uri": "https://localhost:8080/"
        },
        "id": "IROK-qfSXrjf",
        "outputId": "e0813d94-e2b9-4902-fff2-1e4c0169a201"
      },
      "source": [
        "from google.colab import drive\n",
        "drive.mount('/content/drive')"
      ],
      "id": "IROK-qfSXrjf",
      "execution_count": null,
      "outputs": [
        {
          "output_type": "stream",
          "text": [
            "Mounted at /content/drive\n"
          ],
          "name": "stdout"
        }
      ]
    },
    {
      "cell_type": "code",
      "metadata": {
        "colab": {
          "base_uri": "https://localhost:8080/"
        },
        "id": "INUCmhBrmHK5",
        "outputId": "bdbd3eac-d4aa-4d43-dcb1-5b6d5f2a4737"
      },
      "source": [
        "! dir"
      ],
      "id": "INUCmhBrmHK5",
      "execution_count": null,
      "outputs": [
        {
          "output_type": "stream",
          "text": [
            "active_lazy_alpha_scaling.ipynb     keras\\ experiments\n",
            "Code_Snippets_Train_Convnets.ipynb  lazy_paper_repo_cnn_fixed\n",
            "ConvNet5_0dot1.ipynb\t\t    models\n",
            "ConvNets_CIFAR10_depth_3.ipynb\t    README.md\n",
            "ConvNets_CIFAR10_depth_5.ipynb\t    trained_model_weights\n",
            "ConvNets_CIFAR10_depth_7.ipynb\t    utils\n",
            "experimental_results\n"
          ],
          "name": "stdout"
        }
      ]
    },
    {
      "cell_type": "code",
      "metadata": {
        "id": "bizarre-seven"
      },
      "source": [
        "import tensorflow as tf\n",
        "import matplotlib.pyplot as plt\n",
        "import numpy as np\n",
        "\n",
        "from models.conv_nets import make_convNet \n",
        "from utils.train_utils import train_conv_nets\n",
        "\n",
        "from utils.visualizations import plot_loss_from_file_convnets\n",
        "\n",
        "# keeps tensorflow from using all available GPU memory when a model is initialized.\n",
        "# gpus = tf.config.list_physical_devices('GPU')\n",
        "# tf.config.experimental.set_memory_growth(gpus[0], True)"
      ],
      "id": "bizarre-seven",
      "execution_count": null,
      "outputs": []
    },
    {
      "cell_type": "markdown",
      "metadata": {
        "id": "north-immigration"
      },
      "source": [
        "### Code Snippets for training Conv Nets\n",
        "\n",
        "* convnet_depth specifys the network depth\n",
        "* convnet_widths specifies which network widths to train over\n",
        "* scaled alpha is the value to move between Lazy/active Training \n",
        "\n",
        "Make sure to have the files :\n",
        "\n",
        "*  'trained_model_weights_{data_set}/conv_nets_depth_{convnet_depth}_{label_noise_as_int}pct_noise_alpha_{alpha}/'\n",
        "*  'experimental_results_{data_set}/conv_nets_' \n",
        "\n",
        "available for the results to save to."
      ],
      "id": "north-immigration"
    },
    {
      "cell_type": "code",
      "metadata": {
        "colab": {
          "base_uri": "https://localhost:8080/",
          "height": 397
        },
        "id": "brave-laptop",
        "outputId": "3f6ba916-6157-47a7-f1c8-315faa2660fd"
      },
      "source": [
        "\n",
        "alpha=1\n",
        "\n",
        "train_conv_nets(\n",
        "    data_set='cifar10',\n",
        "    convnet_depth=5,\n",
        "    convnet_widths=[(1 + i) for i in range(16)],\n",
        "    scaled_loss_alpha=alpha,\n",
        ")\n",
        "\n",
        "# widths 20 - 40 \n",
        "train_conv_nets(\n",
        "    data_set='cifar10',\n",
        "    convnet_depth=5,\n",
        "    convnet_widths=[16 + 4*(i+1) for i in range(6)],\n",
        "    scaled_loss_alpha=alpha,\n",
        ")\n",
        "\n",
        "# widths 44 - 64\n",
        "train_conv_nets(\n",
        "    data_set='cifar10',\n",
        "    convnet_depth=5,\n",
        "    convnet_widths=[40 + 4*(i+1) for i in range(6)],\n",
        "    scaled_loss_alpha=alpha,\n",
        "\n",
        ")"
      ],
      "id": "brave-laptop",
      "execution_count": 23,
      "outputs": [
        {
          "output_type": "error",
          "ename": "NameError",
          "evalue": "ignored",
          "traceback": [
            "\u001b[0;31m---------------------------------------------------------------------------\u001b[0m",
            "\u001b[0;31mNameError\u001b[0m                                 Traceback (most recent call last)",
            "\u001b[0;32m<ipython-input-23-f83eab956d0b>\u001b[0m in \u001b[0;36m<module>\u001b[0;34m()\u001b[0m\n\u001b[1;32m      6\u001b[0m     \u001b[0mconvnet_depth\u001b[0m\u001b[0;34m=\u001b[0m\u001b[0;36m5\u001b[0m\u001b[0;34m,\u001b[0m\u001b[0;34m\u001b[0m\u001b[0;34m\u001b[0m\u001b[0m\n\u001b[1;32m      7\u001b[0m     \u001b[0mconvnet_widths\u001b[0m\u001b[0;34m=\u001b[0m\u001b[0;34m[\u001b[0m\u001b[0;34m(\u001b[0m\u001b[0;36m1\u001b[0m \u001b[0;34m+\u001b[0m \u001b[0mi\u001b[0m\u001b[0;34m)\u001b[0m \u001b[0;32mfor\u001b[0m \u001b[0mi\u001b[0m \u001b[0;32min\u001b[0m \u001b[0mrange\u001b[0m\u001b[0;34m(\u001b[0m\u001b[0;36m16\u001b[0m\u001b[0;34m)\u001b[0m\u001b[0;34m]\u001b[0m\u001b[0;34m,\u001b[0m\u001b[0;34m\u001b[0m\u001b[0;34m\u001b[0m\u001b[0m\n\u001b[0;32m----> 8\u001b[0;31m     \u001b[0mscaled_loss_alpha\u001b[0m\u001b[0;34m=\u001b[0m\u001b[0malpha\u001b[0m\u001b[0;34m,\u001b[0m\u001b[0;34m\u001b[0m\u001b[0;34m\u001b[0m\u001b[0m\n\u001b[0m\u001b[1;32m      9\u001b[0m )\n\u001b[1;32m     10\u001b[0m \u001b[0;34m\u001b[0m\u001b[0m\n",
            "\u001b[0;32m/content/drive/MyDrive/Colab Notebooks/Mathematics-of-Deep-Learning-Research-Project/utils/train_utils.py\u001b[0m in \u001b[0;36mtrain_conv_nets\u001b[0;34m(data_set, convnet_depth, convnet_widths, label_noise_as_int, scaled_loss_alpha, n_batch_steps, save)\u001b[0m\n\u001b[1;32m     64\u001b[0m \u001b[0;34m\u001b[0m\u001b[0m\n\u001b[1;32m     65\u001b[0m     \u001b[0;32mfor\u001b[0m \u001b[0mwidth\u001b[0m \u001b[0;32min\u001b[0m \u001b[0mconvnet_widths\u001b[0m\u001b[0;34m:\u001b[0m\u001b[0;34m\u001b[0m\u001b[0;34m\u001b[0m\u001b[0m\n\u001b[0;32m---> 66\u001b[0;31m         \u001b[0;31m# Depth 5 Conv Net using default Kaiming Uniform Initialization.\u001b[0m\u001b[0;34m\u001b[0m\u001b[0;34m\u001b[0m\u001b[0;34m\u001b[0m\u001b[0m\n\u001b[0m\u001b[1;32m     67\u001b[0m         \u001b[0mconv_net\u001b[0m\u001b[0;34m,\u001b[0m \u001b[0mmodel_id\u001b[0m \u001b[0;34m=\u001b[0m \u001b[0mmake_convNet\u001b[0m\u001b[0;34m(\u001b[0m\u001b[0mimage_shape\u001b[0m\u001b[0;34m,\u001b[0m \u001b[0mdepth\u001b[0m\u001b[0;34m=\u001b[0m\u001b[0mconvnet_depth\u001b[0m\u001b[0;34m,\u001b[0m \u001b[0minit_channels\u001b[0m\u001b[0;34m=\u001b[0m\u001b[0mwidth\u001b[0m\u001b[0;34m)\u001b[0m\u001b[0;34m\u001b[0m\u001b[0;34m\u001b[0m\u001b[0m\n\u001b[1;32m     68\u001b[0m \u001b[0;34m\u001b[0m\u001b[0m\n",
            "\u001b[0;31mNameError\u001b[0m: name 'make_convNet' is not defined"
          ]
        }
      ]
    }
  ]
}